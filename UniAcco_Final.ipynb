{
  "nbformat": 4,
  "nbformat_minor": 0,
  "metadata": {
    "colab": {
      "provenance": []
    },
    "kernelspec": {
      "name": "python3",
      "display_name": "Python 3"
    },
    "language_info": {
      "name": "python"
    }
  },
  "cells": [
    {
      "cell_type": "code",
      "execution_count": 38,
      "metadata": {
        "id": "cbgpHIaeONlh"
      },
      "outputs": [],
      "source": [
        "import pandas as pd, numpy as np\n",
        "import matplotlib.pyplot as plt\n",
        "import seaborn as sns\n",
        "\n",
        "#warnings\n",
        "import warnings\n",
        "warnings.filterwarnings(\"ignore\")"
      ]
    },
    {
      "cell_type": "markdown",
      "source": [
        "#Loading the data"
      ],
      "metadata": {
        "id": "riHqJn5OOio9"
      }
    },
    {
      "cell_type": "code",
      "source": [
        "dataset = pd.read_excel(\"Data_Science_Internship.xlsx\")\n",
        "dataset"
      ],
      "metadata": {
        "colab": {
          "base_uri": "https://localhost:8080/",
          "height": 800
        },
        "id": "stKHaHeGOlWe",
        "outputId": "decdfe8c-f883-4f22-a7fa-c78d219b2302"
      },
      "execution_count": 2,
      "outputs": [
        {
          "output_type": "execute_result",
          "data": {
            "text/plain": [
              "       Unnamed: 0                                           Agent_id status  \\\n",
              "0             0.0  1deba9e96f404694373de9749ddd1ca8aa7bb823145a6f...   LOST   \n",
              "1             1.0  299ae77a4ef350ae0dd37d6bba1c002d03444fb1edb236...   LOST   \n",
              "2             2.0  c213697430c006013012dd2aca82dd9732aa0a1a6bca13...   LOST   \n",
              "3             3.0  eac9815a500f908736d303e23aa227f0957177b0e6756b...   LOST   \n",
              "4             4.0  1deba9e96f404694373de9749ddd1ca8aa7bb823145a6f...   LOST   \n",
              "...           ...                                                ...    ...   \n",
              "46603     46603.0  2306878a9ad9b57686cd623dd285aaa9b25afdf627f651...   LOST   \n",
              "46604     46604.0  327ec29056cc47c24bf922f7dc0f78261dad5c726d7353...   LOST   \n",
              "46605     46605.0  1134c0a7d44fdae1afd7f1f64e2789496784095ca0a050...   LOST   \n",
              "46606     46606.0  8b8b029f1142f5cbc825aa6cbee01406c915c6b055db79...   LOST   \n",
              "46607     46607.0  1ea65ea38f2f574b3875ba895e4ff76b284b7725041612...   LOST   \n",
              "\n",
              "            lost_reason                budget  \\\n",
              "0        Not responding                   NaN   \n",
              "1            Low budget                   NaN   \n",
              "2        Not responding  £121 - £180 Per Week   \n",
              "3            Low budget                   0-0   \n",
              "4             Junk lead                   NaN   \n",
              "...                 ...                   ...   \n",
              "46603  Low availability   £60 - £120 Per week   \n",
              "46604     Semester stay   £60 - £120 Per week   \n",
              "46605  Low availability  £241 - £300 Per week   \n",
              "46606  Low availability                1108.0   \n",
              "46607  Low availability  £181 - £240 Per Week   \n",
              "\n",
              "                                            lease     movein  \\\n",
              "0                                             NaN        NaT   \n",
              "1                                             NaN        NaT   \n",
              "2             Full Year Course Stay 40 - 44 weeks 2022-08-31   \n",
              "3                                             0.0        NaT   \n",
              "4                                             NaN        NaT   \n",
              "...                                           ...        ...   \n",
              "46603  Complete Education Year Stay 50 - 52 weeks 2022-09-01   \n",
              "46604              Summer/Short Stay 8 - 12 weeks 2022-09-29   \n",
              "46605         Full Year Course Stay 40 - 44 weeks 2022-09-20   \n",
              "46606                                       294.0 2022-08-30   \n",
              "46607         Full Year Course Stay 40 - 44 weeks 2022-09-01   \n",
              "\n",
              "                                                  source  \\\n",
              "0      9b2d5b4678781e53038e91ea5324530a03f27dc1d0e5f6...   \n",
              "1      9b2d5b4678781e53038e91ea5324530a03f27dc1d0e5f6...   \n",
              "2      7aae3e886e89fc1187a5c47d6cea1c22998ee610ade1f2...   \n",
              "3      ba2d0a29556ac20f86f45e4543c0825428cba33fd7a9ea...   \n",
              "4      9b2d5b4678781e53038e91ea5324530a03f27dc1d0e5f6...   \n",
              "...                                                  ...   \n",
              "46603  9b2d5b4678781e53038e91ea5324530a03f27dc1d0e5f6...   \n",
              "46604  9b2d5b4678781e53038e91ea5324530a03f27dc1d0e5f6...   \n",
              "46605  7aae3e886e89fc1187a5c47d6cea1c22998ee610ade1f2...   \n",
              "46606  d684761c17c11590f6e2525b48141cb2c0c6f2be5df4e2...   \n",
              "46607  7aae3e886e89fc1187a5c47d6cea1c22998ee610ade1f2...   \n",
              "\n",
              "                                             source_city  \\\n",
              "0      9b2d5b4678781e53038e91ea5324530a03f27dc1d0e5f6...   \n",
              "1      9b2d5b4678781e53038e91ea5324530a03f27dc1d0e5f6...   \n",
              "2      9b8cc3c63cdf447e463c11544924bf027945cbd29675f7...   \n",
              "3      a5f0d2d08eb0592087e3a3a2f9c1ba2c67cc30f2efd2bd...   \n",
              "4      9b2d5b4678781e53038e91ea5324530a03f27dc1d0e5f6...   \n",
              "...                                                  ...   \n",
              "46603  7d1550b844ff586a6023216c06263105eed0a849a2a1f6...   \n",
              "46604  9f2ba6981e36ea0fca6c16f42e6413d788d2a7499b8b7f...   \n",
              "46605  7d1550b844ff586a6023216c06263105eed0a849a2a1f6...   \n",
              "46606  e9c722cbefc2f055ae60b4e2cbe73a2d99537eab0c37f3...   \n",
              "46607  1496126b7015defbc3b1d129a46096a5c135075aff2add...   \n",
              "\n",
              "                                          source_country  \\\n",
              "0      9b2d5b4678781e53038e91ea5324530a03f27dc1d0e5f6...   \n",
              "1      9b2d5b4678781e53038e91ea5324530a03f27dc1d0e5f6...   \n",
              "2      e09e10e67812e9d236ad900e5d46b4308fc62f5d69446a...   \n",
              "3      e09e10e67812e9d236ad900e5d46b4308fc62f5d69446a...   \n",
              "4      9b2d5b4678781e53038e91ea5324530a03f27dc1d0e5f6...   \n",
              "...                                                  ...   \n",
              "46603  8da82000ef9c4468ba47362a924b895e40662fed846942...   \n",
              "46604  8da82000ef9c4468ba47362a924b895e40662fed846942...   \n",
              "46605  8da82000ef9c4468ba47362a924b895e40662fed846942...   \n",
              "46606  b936ee09e20b3b2234907cde349cda1c1a5327c4a486bf...   \n",
              "46607  e09e10e67812e9d236ad900e5d46b4308fc62f5d69446a...   \n",
              "\n",
              "                                              utm_source  \\\n",
              "0      3d59f7548e1af2151b64135003ce63c0a484c26b9b8b16...   \n",
              "1      3d59f7548e1af2151b64135003ce63c0a484c26b9b8b16...   \n",
              "2      bbdefa2950f49882f295b1285d4fa9dec45fc4144bfb07...   \n",
              "3      bbdefa2950f49882f295b1285d4fa9dec45fc4144bfb07...   \n",
              "4      3d59f7548e1af2151b64135003ce63c0a484c26b9b8b16...   \n",
              "...                                                  ...   \n",
              "46603  bbdefa2950f49882f295b1285d4fa9dec45fc4144bfb07...   \n",
              "46604  bbdefa2950f49882f295b1285d4fa9dec45fc4144bfb07...   \n",
              "46605  bbdefa2950f49882f295b1285d4fa9dec45fc4144bfb07...   \n",
              "46606  7f3fa48ca885678134842fa7456f3ece53a97f843b6101...   \n",
              "46607  bbdefa2950f49882f295b1285d4fa9dec45fc4144bfb07...   \n",
              "\n",
              "                                              utm_medium  \\\n",
              "0      268ad70eb5bc4737a2ae28162cbca30118cc94520e49ef...   \n",
              "1      268ad70eb5bc4737a2ae28162cbca30118cc94520e49ef...   \n",
              "2      09076eb7665d1fb9389c7c4517fee0b00e43092eb34821...   \n",
              "3      09076eb7665d1fb9389c7c4517fee0b00e43092eb34821...   \n",
              "4      268ad70eb5bc4737a2ae28162cbca30118cc94520e49ef...   \n",
              "...                                                  ...   \n",
              "46603  09076eb7665d1fb9389c7c4517fee0b00e43092eb34821...   \n",
              "46604  09076eb7665d1fb9389c7c4517fee0b00e43092eb34821...   \n",
              "46605  09076eb7665d1fb9389c7c4517fee0b00e43092eb34821...   \n",
              "46606  abb8e2badd5b6265c3237170cc599257a4f566706715d2...   \n",
              "46607  09076eb7665d1fb9389c7c4517fee0b00e43092eb34821...   \n",
              "\n",
              "                                                des_city  \\\n",
              "0      ecc0e7dc084f141b29479058967d0bc07dee25d9690a98...   \n",
              "1      5372372f3bf5896820cb2819300c3e681820d82c6efc54...   \n",
              "2      11ab03a1a8c367191355c152f39fe28cae5e426fce49ef...   \n",
              "3      19372fa44c57a01c37a5a8418779ca3d99b0b59731fb35...   \n",
              "4      9b2d5b4678781e53038e91ea5324530a03f27dc1d0e5f6...   \n",
              "...                                                  ...   \n",
              "46603  13d4b96b6ee361b737e22404aeecca45f322ba7d4c2c42...   \n",
              "46604  998c18dc0e513ab0035c7b858e3780bbbead88695a15de...   \n",
              "46605  ecc0e7dc084f141b29479058967d0bc07dee25d9690a98...   \n",
              "46606  ecc0e7dc084f141b29479058967d0bc07dee25d9690a98...   \n",
              "46607  618738f7143c9b43a98a6b42d743a6595069a9b4dcf42d...   \n",
              "\n",
              "                                             des_country room_type  \\\n",
              "0      8d23a6e37e0a6431a8f1b43a91026dcff51170a89a6512...       NaN   \n",
              "1      8d23a6e37e0a6431a8f1b43a91026dcff51170a89a6512...       NaN   \n",
              "2      8d23a6e37e0a6431a8f1b43a91026dcff51170a89a6512...   Ensuite   \n",
              "3      8d23a6e37e0a6431a8f1b43a91026dcff51170a89a6512...       NaN   \n",
              "4      9b2d5b4678781e53038e91ea5324530a03f27dc1d0e5f6...       NaN   \n",
              "...                                                  ...       ...   \n",
              "46603  8d23a6e37e0a6431a8f1b43a91026dcff51170a89a6512...    Studio   \n",
              "46604  8d23a6e37e0a6431a8f1b43a91026dcff51170a89a6512...    Studio   \n",
              "46605  8d23a6e37e0a6431a8f1b43a91026dcff51170a89a6512...    Studio   \n",
              "46606  8d23a6e37e0a6431a8f1b43a91026dcff51170a89a6512...       NaN   \n",
              "46607  8d23a6e37e0a6431a8f1b43a91026dcff51170a89a6512...    Studio   \n",
              "\n",
              "                                                 lead_id  \n",
              "0      cd5dc0d9393f3980d11d4ba6f88f8110c2b7a7f7796307...  \n",
              "1      b94693673a5f7178d1b114e4004ad52377d3244dd24a3d...  \n",
              "2      96ea4e2bf04496c044745938c0299c264c3f4ba079e572...  \n",
              "3      1d2b34d8add02a182a4129023766ca4585a8ddced0e5b3...  \n",
              "4      fc10fffd29cfbe93c55158fb47752a7501c211d253468c...  \n",
              "...                                                  ...  \n",
              "46603  1aaa4a4a9092e4c0eabf958ed9aea59c50d8ea3f08f691...  \n",
              "46604  1f90dbad4873cb9673ff3c7ec69fbac4289181453c6cea...  \n",
              "46605  d9e0f455b68a6573544ffac32292541a510fe2daffe2bb...  \n",
              "46606  1f90dbad4873cb9673ff3c7ec69fbac4289181453c6cea...  \n",
              "46607  7520a8abba2b44d7f37c0ddbe5f7f3d87540b2b7a670e9...  \n",
              "\n",
              "[46608 rows x 16 columns]"
            ],
            "text/html": [
              "\n",
              "  <div id=\"df-ad4b4b86-6694-4325-917f-41fe9f6cea30\">\n",
              "    <div class=\"colab-df-container\">\n",
              "      <div>\n",
              "<style scoped>\n",
              "    .dataframe tbody tr th:only-of-type {\n",
              "        vertical-align: middle;\n",
              "    }\n",
              "\n",
              "    .dataframe tbody tr th {\n",
              "        vertical-align: top;\n",
              "    }\n",
              "\n",
              "    .dataframe thead th {\n",
              "        text-align: right;\n",
              "    }\n",
              "</style>\n",
              "<table border=\"1\" class=\"dataframe\">\n",
              "  <thead>\n",
              "    <tr style=\"text-align: right;\">\n",
              "      <th></th>\n",
              "      <th>Unnamed: 0</th>\n",
              "      <th>Agent_id</th>\n",
              "      <th>status</th>\n",
              "      <th>lost_reason</th>\n",
              "      <th>budget</th>\n",
              "      <th>lease</th>\n",
              "      <th>movein</th>\n",
              "      <th>source</th>\n",
              "      <th>source_city</th>\n",
              "      <th>source_country</th>\n",
              "      <th>utm_source</th>\n",
              "      <th>utm_medium</th>\n",
              "      <th>des_city</th>\n",
              "      <th>des_country</th>\n",
              "      <th>room_type</th>\n",
              "      <th>lead_id</th>\n",
              "    </tr>\n",
              "  </thead>\n",
              "  <tbody>\n",
              "    <tr>\n",
              "      <th>0</th>\n",
              "      <td>0.0</td>\n",
              "      <td>1deba9e96f404694373de9749ddd1ca8aa7bb823145a6f...</td>\n",
              "      <td>LOST</td>\n",
              "      <td>Not responding</td>\n",
              "      <td>NaN</td>\n",
              "      <td>NaN</td>\n",
              "      <td>NaT</td>\n",
              "      <td>9b2d5b4678781e53038e91ea5324530a03f27dc1d0e5f6...</td>\n",
              "      <td>9b2d5b4678781e53038e91ea5324530a03f27dc1d0e5f6...</td>\n",
              "      <td>9b2d5b4678781e53038e91ea5324530a03f27dc1d0e5f6...</td>\n",
              "      <td>3d59f7548e1af2151b64135003ce63c0a484c26b9b8b16...</td>\n",
              "      <td>268ad70eb5bc4737a2ae28162cbca30118cc94520e49ef...</td>\n",
              "      <td>ecc0e7dc084f141b29479058967d0bc07dee25d9690a98...</td>\n",
              "      <td>8d23a6e37e0a6431a8f1b43a91026dcff51170a89a6512...</td>\n",
              "      <td>NaN</td>\n",
              "      <td>cd5dc0d9393f3980d11d4ba6f88f8110c2b7a7f7796307...</td>\n",
              "    </tr>\n",
              "    <tr>\n",
              "      <th>1</th>\n",
              "      <td>1.0</td>\n",
              "      <td>299ae77a4ef350ae0dd37d6bba1c002d03444fb1edb236...</td>\n",
              "      <td>LOST</td>\n",
              "      <td>Low budget</td>\n",
              "      <td>NaN</td>\n",
              "      <td>NaN</td>\n",
              "      <td>NaT</td>\n",
              "      <td>9b2d5b4678781e53038e91ea5324530a03f27dc1d0e5f6...</td>\n",
              "      <td>9b2d5b4678781e53038e91ea5324530a03f27dc1d0e5f6...</td>\n",
              "      <td>9b2d5b4678781e53038e91ea5324530a03f27dc1d0e5f6...</td>\n",
              "      <td>3d59f7548e1af2151b64135003ce63c0a484c26b9b8b16...</td>\n",
              "      <td>268ad70eb5bc4737a2ae28162cbca30118cc94520e49ef...</td>\n",
              "      <td>5372372f3bf5896820cb2819300c3e681820d82c6efc54...</td>\n",
              "      <td>8d23a6e37e0a6431a8f1b43a91026dcff51170a89a6512...</td>\n",
              "      <td>NaN</td>\n",
              "      <td>b94693673a5f7178d1b114e4004ad52377d3244dd24a3d...</td>\n",
              "    </tr>\n",
              "    <tr>\n",
              "      <th>2</th>\n",
              "      <td>2.0</td>\n",
              "      <td>c213697430c006013012dd2aca82dd9732aa0a1a6bca13...</td>\n",
              "      <td>LOST</td>\n",
              "      <td>Not responding</td>\n",
              "      <td>£121 - £180 Per Week</td>\n",
              "      <td>Full Year Course Stay 40 - 44 weeks</td>\n",
              "      <td>2022-08-31</td>\n",
              "      <td>7aae3e886e89fc1187a5c47d6cea1c22998ee610ade1f2...</td>\n",
              "      <td>9b8cc3c63cdf447e463c11544924bf027945cbd29675f7...</td>\n",
              "      <td>e09e10e67812e9d236ad900e5d46b4308fc62f5d69446a...</td>\n",
              "      <td>bbdefa2950f49882f295b1285d4fa9dec45fc4144bfb07...</td>\n",
              "      <td>09076eb7665d1fb9389c7c4517fee0b00e43092eb34821...</td>\n",
              "      <td>11ab03a1a8c367191355c152f39fe28cae5e426fce49ef...</td>\n",
              "      <td>8d23a6e37e0a6431a8f1b43a91026dcff51170a89a6512...</td>\n",
              "      <td>Ensuite</td>\n",
              "      <td>96ea4e2bf04496c044745938c0299c264c3f4ba079e572...</td>\n",
              "    </tr>\n",
              "    <tr>\n",
              "      <th>3</th>\n",
              "      <td>3.0</td>\n",
              "      <td>eac9815a500f908736d303e23aa227f0957177b0e6756b...</td>\n",
              "      <td>LOST</td>\n",
              "      <td>Low budget</td>\n",
              "      <td>0-0</td>\n",
              "      <td>0.0</td>\n",
              "      <td>NaT</td>\n",
              "      <td>ba2d0a29556ac20f86f45e4543c0825428cba33fd7a9ea...</td>\n",
              "      <td>a5f0d2d08eb0592087e3a3a2f9c1ba2c67cc30f2efd2bd...</td>\n",
              "      <td>e09e10e67812e9d236ad900e5d46b4308fc62f5d69446a...</td>\n",
              "      <td>bbdefa2950f49882f295b1285d4fa9dec45fc4144bfb07...</td>\n",
              "      <td>09076eb7665d1fb9389c7c4517fee0b00e43092eb34821...</td>\n",
              "      <td>19372fa44c57a01c37a5a8418779ca3d99b0b59731fb35...</td>\n",
              "      <td>8d23a6e37e0a6431a8f1b43a91026dcff51170a89a6512...</td>\n",
              "      <td>NaN</td>\n",
              "      <td>1d2b34d8add02a182a4129023766ca4585a8ddced0e5b3...</td>\n",
              "    </tr>\n",
              "    <tr>\n",
              "      <th>4</th>\n",
              "      <td>4.0</td>\n",
              "      <td>1deba9e96f404694373de9749ddd1ca8aa7bb823145a6f...</td>\n",
              "      <td>LOST</td>\n",
              "      <td>Junk lead</td>\n",
              "      <td>NaN</td>\n",
              "      <td>NaN</td>\n",
              "      <td>NaT</td>\n",
              "      <td>9b2d5b4678781e53038e91ea5324530a03f27dc1d0e5f6...</td>\n",
              "      <td>9b2d5b4678781e53038e91ea5324530a03f27dc1d0e5f6...</td>\n",
              "      <td>9b2d5b4678781e53038e91ea5324530a03f27dc1d0e5f6...</td>\n",
              "      <td>3d59f7548e1af2151b64135003ce63c0a484c26b9b8b16...</td>\n",
              "      <td>268ad70eb5bc4737a2ae28162cbca30118cc94520e49ef...</td>\n",
              "      <td>9b2d5b4678781e53038e91ea5324530a03f27dc1d0e5f6...</td>\n",
              "      <td>9b2d5b4678781e53038e91ea5324530a03f27dc1d0e5f6...</td>\n",
              "      <td>NaN</td>\n",
              "      <td>fc10fffd29cfbe93c55158fb47752a7501c211d253468c...</td>\n",
              "    </tr>\n",
              "    <tr>\n",
              "      <th>...</th>\n",
              "      <td>...</td>\n",
              "      <td>...</td>\n",
              "      <td>...</td>\n",
              "      <td>...</td>\n",
              "      <td>...</td>\n",
              "      <td>...</td>\n",
              "      <td>...</td>\n",
              "      <td>...</td>\n",
              "      <td>...</td>\n",
              "      <td>...</td>\n",
              "      <td>...</td>\n",
              "      <td>...</td>\n",
              "      <td>...</td>\n",
              "      <td>...</td>\n",
              "      <td>...</td>\n",
              "      <td>...</td>\n",
              "    </tr>\n",
              "    <tr>\n",
              "      <th>46603</th>\n",
              "      <td>46603.0</td>\n",
              "      <td>2306878a9ad9b57686cd623dd285aaa9b25afdf627f651...</td>\n",
              "      <td>LOST</td>\n",
              "      <td>Low availability</td>\n",
              "      <td>£60 - £120 Per week</td>\n",
              "      <td>Complete Education Year Stay 50 - 52 weeks</td>\n",
              "      <td>2022-09-01</td>\n",
              "      <td>9b2d5b4678781e53038e91ea5324530a03f27dc1d0e5f6...</td>\n",
              "      <td>7d1550b844ff586a6023216c06263105eed0a849a2a1f6...</td>\n",
              "      <td>8da82000ef9c4468ba47362a924b895e40662fed846942...</td>\n",
              "      <td>bbdefa2950f49882f295b1285d4fa9dec45fc4144bfb07...</td>\n",
              "      <td>09076eb7665d1fb9389c7c4517fee0b00e43092eb34821...</td>\n",
              "      <td>13d4b96b6ee361b737e22404aeecca45f322ba7d4c2c42...</td>\n",
              "      <td>8d23a6e37e0a6431a8f1b43a91026dcff51170a89a6512...</td>\n",
              "      <td>Studio</td>\n",
              "      <td>1aaa4a4a9092e4c0eabf958ed9aea59c50d8ea3f08f691...</td>\n",
              "    </tr>\n",
              "    <tr>\n",
              "      <th>46604</th>\n",
              "      <td>46604.0</td>\n",
              "      <td>327ec29056cc47c24bf922f7dc0f78261dad5c726d7353...</td>\n",
              "      <td>LOST</td>\n",
              "      <td>Semester stay</td>\n",
              "      <td>£60 - £120 Per week</td>\n",
              "      <td>Summer/Short Stay 8 - 12 weeks</td>\n",
              "      <td>2022-09-29</td>\n",
              "      <td>9b2d5b4678781e53038e91ea5324530a03f27dc1d0e5f6...</td>\n",
              "      <td>9f2ba6981e36ea0fca6c16f42e6413d788d2a7499b8b7f...</td>\n",
              "      <td>8da82000ef9c4468ba47362a924b895e40662fed846942...</td>\n",
              "      <td>bbdefa2950f49882f295b1285d4fa9dec45fc4144bfb07...</td>\n",
              "      <td>09076eb7665d1fb9389c7c4517fee0b00e43092eb34821...</td>\n",
              "      <td>998c18dc0e513ab0035c7b858e3780bbbead88695a15de...</td>\n",
              "      <td>8d23a6e37e0a6431a8f1b43a91026dcff51170a89a6512...</td>\n",
              "      <td>Studio</td>\n",
              "      <td>1f90dbad4873cb9673ff3c7ec69fbac4289181453c6cea...</td>\n",
              "    </tr>\n",
              "    <tr>\n",
              "      <th>46605</th>\n",
              "      <td>46605.0</td>\n",
              "      <td>1134c0a7d44fdae1afd7f1f64e2789496784095ca0a050...</td>\n",
              "      <td>LOST</td>\n",
              "      <td>Low availability</td>\n",
              "      <td>£241 - £300 Per week</td>\n",
              "      <td>Full Year Course Stay 40 - 44 weeks</td>\n",
              "      <td>2022-09-20</td>\n",
              "      <td>7aae3e886e89fc1187a5c47d6cea1c22998ee610ade1f2...</td>\n",
              "      <td>7d1550b844ff586a6023216c06263105eed0a849a2a1f6...</td>\n",
              "      <td>8da82000ef9c4468ba47362a924b895e40662fed846942...</td>\n",
              "      <td>bbdefa2950f49882f295b1285d4fa9dec45fc4144bfb07...</td>\n",
              "      <td>09076eb7665d1fb9389c7c4517fee0b00e43092eb34821...</td>\n",
              "      <td>ecc0e7dc084f141b29479058967d0bc07dee25d9690a98...</td>\n",
              "      <td>8d23a6e37e0a6431a8f1b43a91026dcff51170a89a6512...</td>\n",
              "      <td>Studio</td>\n",
              "      <td>d9e0f455b68a6573544ffac32292541a510fe2daffe2bb...</td>\n",
              "    </tr>\n",
              "    <tr>\n",
              "      <th>46606</th>\n",
              "      <td>46606.0</td>\n",
              "      <td>8b8b029f1142f5cbc825aa6cbee01406c915c6b055db79...</td>\n",
              "      <td>LOST</td>\n",
              "      <td>Low availability</td>\n",
              "      <td>1108.0</td>\n",
              "      <td>294.0</td>\n",
              "      <td>2022-08-30</td>\n",
              "      <td>d684761c17c11590f6e2525b48141cb2c0c6f2be5df4e2...</td>\n",
              "      <td>e9c722cbefc2f055ae60b4e2cbe73a2d99537eab0c37f3...</td>\n",
              "      <td>b936ee09e20b3b2234907cde349cda1c1a5327c4a486bf...</td>\n",
              "      <td>7f3fa48ca885678134842fa7456f3ece53a97f843b6101...</td>\n",
              "      <td>abb8e2badd5b6265c3237170cc599257a4f566706715d2...</td>\n",
              "      <td>ecc0e7dc084f141b29479058967d0bc07dee25d9690a98...</td>\n",
              "      <td>8d23a6e37e0a6431a8f1b43a91026dcff51170a89a6512...</td>\n",
              "      <td>NaN</td>\n",
              "      <td>1f90dbad4873cb9673ff3c7ec69fbac4289181453c6cea...</td>\n",
              "    </tr>\n",
              "    <tr>\n",
              "      <th>46607</th>\n",
              "      <td>46607.0</td>\n",
              "      <td>1ea65ea38f2f574b3875ba895e4ff76b284b7725041612...</td>\n",
              "      <td>LOST</td>\n",
              "      <td>Low availability</td>\n",
              "      <td>£181 - £240 Per Week</td>\n",
              "      <td>Full Year Course Stay 40 - 44 weeks</td>\n",
              "      <td>2022-09-01</td>\n",
              "      <td>7aae3e886e89fc1187a5c47d6cea1c22998ee610ade1f2...</td>\n",
              "      <td>1496126b7015defbc3b1d129a46096a5c135075aff2add...</td>\n",
              "      <td>e09e10e67812e9d236ad900e5d46b4308fc62f5d69446a...</td>\n",
              "      <td>bbdefa2950f49882f295b1285d4fa9dec45fc4144bfb07...</td>\n",
              "      <td>09076eb7665d1fb9389c7c4517fee0b00e43092eb34821...</td>\n",
              "      <td>618738f7143c9b43a98a6b42d743a6595069a9b4dcf42d...</td>\n",
              "      <td>8d23a6e37e0a6431a8f1b43a91026dcff51170a89a6512...</td>\n",
              "      <td>Studio</td>\n",
              "      <td>7520a8abba2b44d7f37c0ddbe5f7f3d87540b2b7a670e9...</td>\n",
              "    </tr>\n",
              "  </tbody>\n",
              "</table>\n",
              "<p>46608 rows × 16 columns</p>\n",
              "</div>\n",
              "      <button class=\"colab-df-convert\" onclick=\"convertToInteractive('df-ad4b4b86-6694-4325-917f-41fe9f6cea30')\"\n",
              "              title=\"Convert this dataframe to an interactive table.\"\n",
              "              style=\"display:none;\">\n",
              "        \n",
              "  <svg xmlns=\"http://www.w3.org/2000/svg\" height=\"24px\"viewBox=\"0 0 24 24\"\n",
              "       width=\"24px\">\n",
              "    <path d=\"M0 0h24v24H0V0z\" fill=\"none\"/>\n",
              "    <path d=\"M18.56 5.44l.94 2.06.94-2.06 2.06-.94-2.06-.94-.94-2.06-.94 2.06-2.06.94zm-11 1L8.5 8.5l.94-2.06 2.06-.94-2.06-.94L8.5 2.5l-.94 2.06-2.06.94zm10 10l.94 2.06.94-2.06 2.06-.94-2.06-.94-.94-2.06-.94 2.06-2.06.94z\"/><path d=\"M17.41 7.96l-1.37-1.37c-.4-.4-.92-.59-1.43-.59-.52 0-1.04.2-1.43.59L10.3 9.45l-7.72 7.72c-.78.78-.78 2.05 0 2.83L4 21.41c.39.39.9.59 1.41.59.51 0 1.02-.2 1.41-.59l7.78-7.78 2.81-2.81c.8-.78.8-2.07 0-2.86zM5.41 20L4 18.59l7.72-7.72 1.47 1.35L5.41 20z\"/>\n",
              "  </svg>\n",
              "      </button>\n",
              "      \n",
              "  <style>\n",
              "    .colab-df-container {\n",
              "      display:flex;\n",
              "      flex-wrap:wrap;\n",
              "      gap: 12px;\n",
              "    }\n",
              "\n",
              "    .colab-df-convert {\n",
              "      background-color: #E8F0FE;\n",
              "      border: none;\n",
              "      border-radius: 50%;\n",
              "      cursor: pointer;\n",
              "      display: none;\n",
              "      fill: #1967D2;\n",
              "      height: 32px;\n",
              "      padding: 0 0 0 0;\n",
              "      width: 32px;\n",
              "    }\n",
              "\n",
              "    .colab-df-convert:hover {\n",
              "      background-color: #E2EBFA;\n",
              "      box-shadow: 0px 1px 2px rgba(60, 64, 67, 0.3), 0px 1px 3px 1px rgba(60, 64, 67, 0.15);\n",
              "      fill: #174EA6;\n",
              "    }\n",
              "\n",
              "    [theme=dark] .colab-df-convert {\n",
              "      background-color: #3B4455;\n",
              "      fill: #D2E3FC;\n",
              "    }\n",
              "\n",
              "    [theme=dark] .colab-df-convert:hover {\n",
              "      background-color: #434B5C;\n",
              "      box-shadow: 0px 1px 3px 1px rgba(0, 0, 0, 0.15);\n",
              "      filter: drop-shadow(0px 1px 2px rgba(0, 0, 0, 0.3));\n",
              "      fill: #FFFFFF;\n",
              "    }\n",
              "  </style>\n",
              "\n",
              "      <script>\n",
              "        const buttonEl =\n",
              "          document.querySelector('#df-ad4b4b86-6694-4325-917f-41fe9f6cea30 button.colab-df-convert');\n",
              "        buttonEl.style.display =\n",
              "          google.colab.kernel.accessAllowed ? 'block' : 'none';\n",
              "\n",
              "        async function convertToInteractive(key) {\n",
              "          const element = document.querySelector('#df-ad4b4b86-6694-4325-917f-41fe9f6cea30');\n",
              "          const dataTable =\n",
              "            await google.colab.kernel.invokeFunction('convertToInteractive',\n",
              "                                                     [key], {});\n",
              "          if (!dataTable) return;\n",
              "\n",
              "          const docLinkHtml = 'Like what you see? Visit the ' +\n",
              "            '<a target=\"_blank\" href=https://colab.research.google.com/notebooks/data_table.ipynb>data table notebook</a>'\n",
              "            + ' to learn more about interactive tables.';\n",
              "          element.innerHTML = '';\n",
              "          dataTable['output_type'] = 'display_data';\n",
              "          await google.colab.output.renderOutput(dataTable, element);\n",
              "          const docLink = document.createElement('div');\n",
              "          docLink.innerHTML = docLinkHtml;\n",
              "          element.appendChild(docLink);\n",
              "        }\n",
              "      </script>\n",
              "    </div>\n",
              "  </div>\n",
              "  "
            ]
          },
          "metadata": {},
          "execution_count": 2
        }
      ]
    },
    {
      "cell_type": "markdown",
      "source": [
        "#Inspecting the data frame"
      ],
      "metadata": {
        "id": "9aord7reOtHU"
      }
    },
    {
      "cell_type": "code",
      "source": [
        "dataset.info()"
      ],
      "metadata": {
        "colab": {
          "base_uri": "https://localhost:8080/"
        },
        "id": "TqSLatwTOtyy",
        "outputId": "3ace3741-54e1-4114-c72f-deff80ae85c7"
      },
      "execution_count": 3,
      "outputs": [
        {
          "output_type": "stream",
          "name": "stdout",
          "text": [
            "<class 'pandas.core.frame.DataFrame'>\n",
            "RangeIndex: 46608 entries, 0 to 46607\n",
            "Data columns (total 16 columns):\n",
            " #   Column          Non-Null Count  Dtype         \n",
            "---  ------          --------------  -----         \n",
            " 0   Unnamed: 0      46608 non-null  float64       \n",
            " 1   Agent_id        46608 non-null  object        \n",
            " 2   status          46608 non-null  object        \n",
            " 3   lost_reason     43244 non-null  object        \n",
            " 4   budget          42908 non-null  object        \n",
            " 5   lease           44267 non-null  object        \n",
            " 6   movein          32970 non-null  datetime64[ns]\n",
            " 7   source          46608 non-null  object        \n",
            " 8   source_city     46608 non-null  object        \n",
            " 9   source_country  46608 non-null  object        \n",
            " 10  utm_source      46608 non-null  object        \n",
            " 11  utm_medium      46608 non-null  object        \n",
            " 12  des_city        46608 non-null  object        \n",
            " 13  des_country     46608 non-null  object        \n",
            " 14  room_type       23061 non-null  object        \n",
            " 15  lead_id         46608 non-null  object        \n",
            "dtypes: datetime64[ns](1), float64(1), object(14)\n",
            "memory usage: 5.7+ MB\n"
          ]
        }
      ]
    },
    {
      "cell_type": "code",
      "source": [
        "# Dropping first column which is duplication of index.\n",
        "dataset = dataset.drop('Unnamed: 0',axis = 1)"
      ],
      "metadata": {
        "id": "8MAbybmjOyns"
      },
      "execution_count": 4,
      "outputs": []
    },
    {
      "cell_type": "code",
      "source": [
        "dataset"
      ],
      "metadata": {
        "colab": {
          "base_uri": "https://localhost:8080/",
          "height": 782
        },
        "id": "7pQlRgwyO2Py",
        "outputId": "7d786647-9c7d-4d7a-c3c5-0381dd495124"
      },
      "execution_count": 5,
      "outputs": [
        {
          "output_type": "execute_result",
          "data": {
            "text/plain": [
              "                                                Agent_id status  \\\n",
              "0      1deba9e96f404694373de9749ddd1ca8aa7bb823145a6f...   LOST   \n",
              "1      299ae77a4ef350ae0dd37d6bba1c002d03444fb1edb236...   LOST   \n",
              "2      c213697430c006013012dd2aca82dd9732aa0a1a6bca13...   LOST   \n",
              "3      eac9815a500f908736d303e23aa227f0957177b0e6756b...   LOST   \n",
              "4      1deba9e96f404694373de9749ddd1ca8aa7bb823145a6f...   LOST   \n",
              "...                                                  ...    ...   \n",
              "46603  2306878a9ad9b57686cd623dd285aaa9b25afdf627f651...   LOST   \n",
              "46604  327ec29056cc47c24bf922f7dc0f78261dad5c726d7353...   LOST   \n",
              "46605  1134c0a7d44fdae1afd7f1f64e2789496784095ca0a050...   LOST   \n",
              "46606  8b8b029f1142f5cbc825aa6cbee01406c915c6b055db79...   LOST   \n",
              "46607  1ea65ea38f2f574b3875ba895e4ff76b284b7725041612...   LOST   \n",
              "\n",
              "            lost_reason                budget  \\\n",
              "0        Not responding                   NaN   \n",
              "1            Low budget                   NaN   \n",
              "2        Not responding  £121 - £180 Per Week   \n",
              "3            Low budget                   0-0   \n",
              "4             Junk lead                   NaN   \n",
              "...                 ...                   ...   \n",
              "46603  Low availability   £60 - £120 Per week   \n",
              "46604     Semester stay   £60 - £120 Per week   \n",
              "46605  Low availability  £241 - £300 Per week   \n",
              "46606  Low availability                1108.0   \n",
              "46607  Low availability  £181 - £240 Per Week   \n",
              "\n",
              "                                            lease     movein  \\\n",
              "0                                             NaN        NaT   \n",
              "1                                             NaN        NaT   \n",
              "2             Full Year Course Stay 40 - 44 weeks 2022-08-31   \n",
              "3                                             0.0        NaT   \n",
              "4                                             NaN        NaT   \n",
              "...                                           ...        ...   \n",
              "46603  Complete Education Year Stay 50 - 52 weeks 2022-09-01   \n",
              "46604              Summer/Short Stay 8 - 12 weeks 2022-09-29   \n",
              "46605         Full Year Course Stay 40 - 44 weeks 2022-09-20   \n",
              "46606                                       294.0 2022-08-30   \n",
              "46607         Full Year Course Stay 40 - 44 weeks 2022-09-01   \n",
              "\n",
              "                                                  source  \\\n",
              "0      9b2d5b4678781e53038e91ea5324530a03f27dc1d0e5f6...   \n",
              "1      9b2d5b4678781e53038e91ea5324530a03f27dc1d0e5f6...   \n",
              "2      7aae3e886e89fc1187a5c47d6cea1c22998ee610ade1f2...   \n",
              "3      ba2d0a29556ac20f86f45e4543c0825428cba33fd7a9ea...   \n",
              "4      9b2d5b4678781e53038e91ea5324530a03f27dc1d0e5f6...   \n",
              "...                                                  ...   \n",
              "46603  9b2d5b4678781e53038e91ea5324530a03f27dc1d0e5f6...   \n",
              "46604  9b2d5b4678781e53038e91ea5324530a03f27dc1d0e5f6...   \n",
              "46605  7aae3e886e89fc1187a5c47d6cea1c22998ee610ade1f2...   \n",
              "46606  d684761c17c11590f6e2525b48141cb2c0c6f2be5df4e2...   \n",
              "46607  7aae3e886e89fc1187a5c47d6cea1c22998ee610ade1f2...   \n",
              "\n",
              "                                             source_city  \\\n",
              "0      9b2d5b4678781e53038e91ea5324530a03f27dc1d0e5f6...   \n",
              "1      9b2d5b4678781e53038e91ea5324530a03f27dc1d0e5f6...   \n",
              "2      9b8cc3c63cdf447e463c11544924bf027945cbd29675f7...   \n",
              "3      a5f0d2d08eb0592087e3a3a2f9c1ba2c67cc30f2efd2bd...   \n",
              "4      9b2d5b4678781e53038e91ea5324530a03f27dc1d0e5f6...   \n",
              "...                                                  ...   \n",
              "46603  7d1550b844ff586a6023216c06263105eed0a849a2a1f6...   \n",
              "46604  9f2ba6981e36ea0fca6c16f42e6413d788d2a7499b8b7f...   \n",
              "46605  7d1550b844ff586a6023216c06263105eed0a849a2a1f6...   \n",
              "46606  e9c722cbefc2f055ae60b4e2cbe73a2d99537eab0c37f3...   \n",
              "46607  1496126b7015defbc3b1d129a46096a5c135075aff2add...   \n",
              "\n",
              "                                          source_country  \\\n",
              "0      9b2d5b4678781e53038e91ea5324530a03f27dc1d0e5f6...   \n",
              "1      9b2d5b4678781e53038e91ea5324530a03f27dc1d0e5f6...   \n",
              "2      e09e10e67812e9d236ad900e5d46b4308fc62f5d69446a...   \n",
              "3      e09e10e67812e9d236ad900e5d46b4308fc62f5d69446a...   \n",
              "4      9b2d5b4678781e53038e91ea5324530a03f27dc1d0e5f6...   \n",
              "...                                                  ...   \n",
              "46603  8da82000ef9c4468ba47362a924b895e40662fed846942...   \n",
              "46604  8da82000ef9c4468ba47362a924b895e40662fed846942...   \n",
              "46605  8da82000ef9c4468ba47362a924b895e40662fed846942...   \n",
              "46606  b936ee09e20b3b2234907cde349cda1c1a5327c4a486bf...   \n",
              "46607  e09e10e67812e9d236ad900e5d46b4308fc62f5d69446a...   \n",
              "\n",
              "                                              utm_source  \\\n",
              "0      3d59f7548e1af2151b64135003ce63c0a484c26b9b8b16...   \n",
              "1      3d59f7548e1af2151b64135003ce63c0a484c26b9b8b16...   \n",
              "2      bbdefa2950f49882f295b1285d4fa9dec45fc4144bfb07...   \n",
              "3      bbdefa2950f49882f295b1285d4fa9dec45fc4144bfb07...   \n",
              "4      3d59f7548e1af2151b64135003ce63c0a484c26b9b8b16...   \n",
              "...                                                  ...   \n",
              "46603  bbdefa2950f49882f295b1285d4fa9dec45fc4144bfb07...   \n",
              "46604  bbdefa2950f49882f295b1285d4fa9dec45fc4144bfb07...   \n",
              "46605  bbdefa2950f49882f295b1285d4fa9dec45fc4144bfb07...   \n",
              "46606  7f3fa48ca885678134842fa7456f3ece53a97f843b6101...   \n",
              "46607  bbdefa2950f49882f295b1285d4fa9dec45fc4144bfb07...   \n",
              "\n",
              "                                              utm_medium  \\\n",
              "0      268ad70eb5bc4737a2ae28162cbca30118cc94520e49ef...   \n",
              "1      268ad70eb5bc4737a2ae28162cbca30118cc94520e49ef...   \n",
              "2      09076eb7665d1fb9389c7c4517fee0b00e43092eb34821...   \n",
              "3      09076eb7665d1fb9389c7c4517fee0b00e43092eb34821...   \n",
              "4      268ad70eb5bc4737a2ae28162cbca30118cc94520e49ef...   \n",
              "...                                                  ...   \n",
              "46603  09076eb7665d1fb9389c7c4517fee0b00e43092eb34821...   \n",
              "46604  09076eb7665d1fb9389c7c4517fee0b00e43092eb34821...   \n",
              "46605  09076eb7665d1fb9389c7c4517fee0b00e43092eb34821...   \n",
              "46606  abb8e2badd5b6265c3237170cc599257a4f566706715d2...   \n",
              "46607  09076eb7665d1fb9389c7c4517fee0b00e43092eb34821...   \n",
              "\n",
              "                                                des_city  \\\n",
              "0      ecc0e7dc084f141b29479058967d0bc07dee25d9690a98...   \n",
              "1      5372372f3bf5896820cb2819300c3e681820d82c6efc54...   \n",
              "2      11ab03a1a8c367191355c152f39fe28cae5e426fce49ef...   \n",
              "3      19372fa44c57a01c37a5a8418779ca3d99b0b59731fb35...   \n",
              "4      9b2d5b4678781e53038e91ea5324530a03f27dc1d0e5f6...   \n",
              "...                                                  ...   \n",
              "46603  13d4b96b6ee361b737e22404aeecca45f322ba7d4c2c42...   \n",
              "46604  998c18dc0e513ab0035c7b858e3780bbbead88695a15de...   \n",
              "46605  ecc0e7dc084f141b29479058967d0bc07dee25d9690a98...   \n",
              "46606  ecc0e7dc084f141b29479058967d0bc07dee25d9690a98...   \n",
              "46607  618738f7143c9b43a98a6b42d743a6595069a9b4dcf42d...   \n",
              "\n",
              "                                             des_country room_type  \\\n",
              "0      8d23a6e37e0a6431a8f1b43a91026dcff51170a89a6512...       NaN   \n",
              "1      8d23a6e37e0a6431a8f1b43a91026dcff51170a89a6512...       NaN   \n",
              "2      8d23a6e37e0a6431a8f1b43a91026dcff51170a89a6512...   Ensuite   \n",
              "3      8d23a6e37e0a6431a8f1b43a91026dcff51170a89a6512...       NaN   \n",
              "4      9b2d5b4678781e53038e91ea5324530a03f27dc1d0e5f6...       NaN   \n",
              "...                                                  ...       ...   \n",
              "46603  8d23a6e37e0a6431a8f1b43a91026dcff51170a89a6512...    Studio   \n",
              "46604  8d23a6e37e0a6431a8f1b43a91026dcff51170a89a6512...    Studio   \n",
              "46605  8d23a6e37e0a6431a8f1b43a91026dcff51170a89a6512...    Studio   \n",
              "46606  8d23a6e37e0a6431a8f1b43a91026dcff51170a89a6512...       NaN   \n",
              "46607  8d23a6e37e0a6431a8f1b43a91026dcff51170a89a6512...    Studio   \n",
              "\n",
              "                                                 lead_id  \n",
              "0      cd5dc0d9393f3980d11d4ba6f88f8110c2b7a7f7796307...  \n",
              "1      b94693673a5f7178d1b114e4004ad52377d3244dd24a3d...  \n",
              "2      96ea4e2bf04496c044745938c0299c264c3f4ba079e572...  \n",
              "3      1d2b34d8add02a182a4129023766ca4585a8ddced0e5b3...  \n",
              "4      fc10fffd29cfbe93c55158fb47752a7501c211d253468c...  \n",
              "...                                                  ...  \n",
              "46603  1aaa4a4a9092e4c0eabf958ed9aea59c50d8ea3f08f691...  \n",
              "46604  1f90dbad4873cb9673ff3c7ec69fbac4289181453c6cea...  \n",
              "46605  d9e0f455b68a6573544ffac32292541a510fe2daffe2bb...  \n",
              "46606  1f90dbad4873cb9673ff3c7ec69fbac4289181453c6cea...  \n",
              "46607  7520a8abba2b44d7f37c0ddbe5f7f3d87540b2b7a670e9...  \n",
              "\n",
              "[46608 rows x 15 columns]"
            ],
            "text/html": [
              "\n",
              "  <div id=\"df-4c252441-4cf2-450e-b2cf-fabd0405e8e9\">\n",
              "    <div class=\"colab-df-container\">\n",
              "      <div>\n",
              "<style scoped>\n",
              "    .dataframe tbody tr th:only-of-type {\n",
              "        vertical-align: middle;\n",
              "    }\n",
              "\n",
              "    .dataframe tbody tr th {\n",
              "        vertical-align: top;\n",
              "    }\n",
              "\n",
              "    .dataframe thead th {\n",
              "        text-align: right;\n",
              "    }\n",
              "</style>\n",
              "<table border=\"1\" class=\"dataframe\">\n",
              "  <thead>\n",
              "    <tr style=\"text-align: right;\">\n",
              "      <th></th>\n",
              "      <th>Agent_id</th>\n",
              "      <th>status</th>\n",
              "      <th>lost_reason</th>\n",
              "      <th>budget</th>\n",
              "      <th>lease</th>\n",
              "      <th>movein</th>\n",
              "      <th>source</th>\n",
              "      <th>source_city</th>\n",
              "      <th>source_country</th>\n",
              "      <th>utm_source</th>\n",
              "      <th>utm_medium</th>\n",
              "      <th>des_city</th>\n",
              "      <th>des_country</th>\n",
              "      <th>room_type</th>\n",
              "      <th>lead_id</th>\n",
              "    </tr>\n",
              "  </thead>\n",
              "  <tbody>\n",
              "    <tr>\n",
              "      <th>0</th>\n",
              "      <td>1deba9e96f404694373de9749ddd1ca8aa7bb823145a6f...</td>\n",
              "      <td>LOST</td>\n",
              "      <td>Not responding</td>\n",
              "      <td>NaN</td>\n",
              "      <td>NaN</td>\n",
              "      <td>NaT</td>\n",
              "      <td>9b2d5b4678781e53038e91ea5324530a03f27dc1d0e5f6...</td>\n",
              "      <td>9b2d5b4678781e53038e91ea5324530a03f27dc1d0e5f6...</td>\n",
              "      <td>9b2d5b4678781e53038e91ea5324530a03f27dc1d0e5f6...</td>\n",
              "      <td>3d59f7548e1af2151b64135003ce63c0a484c26b9b8b16...</td>\n",
              "      <td>268ad70eb5bc4737a2ae28162cbca30118cc94520e49ef...</td>\n",
              "      <td>ecc0e7dc084f141b29479058967d0bc07dee25d9690a98...</td>\n",
              "      <td>8d23a6e37e0a6431a8f1b43a91026dcff51170a89a6512...</td>\n",
              "      <td>NaN</td>\n",
              "      <td>cd5dc0d9393f3980d11d4ba6f88f8110c2b7a7f7796307...</td>\n",
              "    </tr>\n",
              "    <tr>\n",
              "      <th>1</th>\n",
              "      <td>299ae77a4ef350ae0dd37d6bba1c002d03444fb1edb236...</td>\n",
              "      <td>LOST</td>\n",
              "      <td>Low budget</td>\n",
              "      <td>NaN</td>\n",
              "      <td>NaN</td>\n",
              "      <td>NaT</td>\n",
              "      <td>9b2d5b4678781e53038e91ea5324530a03f27dc1d0e5f6...</td>\n",
              "      <td>9b2d5b4678781e53038e91ea5324530a03f27dc1d0e5f6...</td>\n",
              "      <td>9b2d5b4678781e53038e91ea5324530a03f27dc1d0e5f6...</td>\n",
              "      <td>3d59f7548e1af2151b64135003ce63c0a484c26b9b8b16...</td>\n",
              "      <td>268ad70eb5bc4737a2ae28162cbca30118cc94520e49ef...</td>\n",
              "      <td>5372372f3bf5896820cb2819300c3e681820d82c6efc54...</td>\n",
              "      <td>8d23a6e37e0a6431a8f1b43a91026dcff51170a89a6512...</td>\n",
              "      <td>NaN</td>\n",
              "      <td>b94693673a5f7178d1b114e4004ad52377d3244dd24a3d...</td>\n",
              "    </tr>\n",
              "    <tr>\n",
              "      <th>2</th>\n",
              "      <td>c213697430c006013012dd2aca82dd9732aa0a1a6bca13...</td>\n",
              "      <td>LOST</td>\n",
              "      <td>Not responding</td>\n",
              "      <td>£121 - £180 Per Week</td>\n",
              "      <td>Full Year Course Stay 40 - 44 weeks</td>\n",
              "      <td>2022-08-31</td>\n",
              "      <td>7aae3e886e89fc1187a5c47d6cea1c22998ee610ade1f2...</td>\n",
              "      <td>9b8cc3c63cdf447e463c11544924bf027945cbd29675f7...</td>\n",
              "      <td>e09e10e67812e9d236ad900e5d46b4308fc62f5d69446a...</td>\n",
              "      <td>bbdefa2950f49882f295b1285d4fa9dec45fc4144bfb07...</td>\n",
              "      <td>09076eb7665d1fb9389c7c4517fee0b00e43092eb34821...</td>\n",
              "      <td>11ab03a1a8c367191355c152f39fe28cae5e426fce49ef...</td>\n",
              "      <td>8d23a6e37e0a6431a8f1b43a91026dcff51170a89a6512...</td>\n",
              "      <td>Ensuite</td>\n",
              "      <td>96ea4e2bf04496c044745938c0299c264c3f4ba079e572...</td>\n",
              "    </tr>\n",
              "    <tr>\n",
              "      <th>3</th>\n",
              "      <td>eac9815a500f908736d303e23aa227f0957177b0e6756b...</td>\n",
              "      <td>LOST</td>\n",
              "      <td>Low budget</td>\n",
              "      <td>0-0</td>\n",
              "      <td>0.0</td>\n",
              "      <td>NaT</td>\n",
              "      <td>ba2d0a29556ac20f86f45e4543c0825428cba33fd7a9ea...</td>\n",
              "      <td>a5f0d2d08eb0592087e3a3a2f9c1ba2c67cc30f2efd2bd...</td>\n",
              "      <td>e09e10e67812e9d236ad900e5d46b4308fc62f5d69446a...</td>\n",
              "      <td>bbdefa2950f49882f295b1285d4fa9dec45fc4144bfb07...</td>\n",
              "      <td>09076eb7665d1fb9389c7c4517fee0b00e43092eb34821...</td>\n",
              "      <td>19372fa44c57a01c37a5a8418779ca3d99b0b59731fb35...</td>\n",
              "      <td>8d23a6e37e0a6431a8f1b43a91026dcff51170a89a6512...</td>\n",
              "      <td>NaN</td>\n",
              "      <td>1d2b34d8add02a182a4129023766ca4585a8ddced0e5b3...</td>\n",
              "    </tr>\n",
              "    <tr>\n",
              "      <th>4</th>\n",
              "      <td>1deba9e96f404694373de9749ddd1ca8aa7bb823145a6f...</td>\n",
              "      <td>LOST</td>\n",
              "      <td>Junk lead</td>\n",
              "      <td>NaN</td>\n",
              "      <td>NaN</td>\n",
              "      <td>NaT</td>\n",
              "      <td>9b2d5b4678781e53038e91ea5324530a03f27dc1d0e5f6...</td>\n",
              "      <td>9b2d5b4678781e53038e91ea5324530a03f27dc1d0e5f6...</td>\n",
              "      <td>9b2d5b4678781e53038e91ea5324530a03f27dc1d0e5f6...</td>\n",
              "      <td>3d59f7548e1af2151b64135003ce63c0a484c26b9b8b16...</td>\n",
              "      <td>268ad70eb5bc4737a2ae28162cbca30118cc94520e49ef...</td>\n",
              "      <td>9b2d5b4678781e53038e91ea5324530a03f27dc1d0e5f6...</td>\n",
              "      <td>9b2d5b4678781e53038e91ea5324530a03f27dc1d0e5f6...</td>\n",
              "      <td>NaN</td>\n",
              "      <td>fc10fffd29cfbe93c55158fb47752a7501c211d253468c...</td>\n",
              "    </tr>\n",
              "    <tr>\n",
              "      <th>...</th>\n",
              "      <td>...</td>\n",
              "      <td>...</td>\n",
              "      <td>...</td>\n",
              "      <td>...</td>\n",
              "      <td>...</td>\n",
              "      <td>...</td>\n",
              "      <td>...</td>\n",
              "      <td>...</td>\n",
              "      <td>...</td>\n",
              "      <td>...</td>\n",
              "      <td>...</td>\n",
              "      <td>...</td>\n",
              "      <td>...</td>\n",
              "      <td>...</td>\n",
              "      <td>...</td>\n",
              "    </tr>\n",
              "    <tr>\n",
              "      <th>46603</th>\n",
              "      <td>2306878a9ad9b57686cd623dd285aaa9b25afdf627f651...</td>\n",
              "      <td>LOST</td>\n",
              "      <td>Low availability</td>\n",
              "      <td>£60 - £120 Per week</td>\n",
              "      <td>Complete Education Year Stay 50 - 52 weeks</td>\n",
              "      <td>2022-09-01</td>\n",
              "      <td>9b2d5b4678781e53038e91ea5324530a03f27dc1d0e5f6...</td>\n",
              "      <td>7d1550b844ff586a6023216c06263105eed0a849a2a1f6...</td>\n",
              "      <td>8da82000ef9c4468ba47362a924b895e40662fed846942...</td>\n",
              "      <td>bbdefa2950f49882f295b1285d4fa9dec45fc4144bfb07...</td>\n",
              "      <td>09076eb7665d1fb9389c7c4517fee0b00e43092eb34821...</td>\n",
              "      <td>13d4b96b6ee361b737e22404aeecca45f322ba7d4c2c42...</td>\n",
              "      <td>8d23a6e37e0a6431a8f1b43a91026dcff51170a89a6512...</td>\n",
              "      <td>Studio</td>\n",
              "      <td>1aaa4a4a9092e4c0eabf958ed9aea59c50d8ea3f08f691...</td>\n",
              "    </tr>\n",
              "    <tr>\n",
              "      <th>46604</th>\n",
              "      <td>327ec29056cc47c24bf922f7dc0f78261dad5c726d7353...</td>\n",
              "      <td>LOST</td>\n",
              "      <td>Semester stay</td>\n",
              "      <td>£60 - £120 Per week</td>\n",
              "      <td>Summer/Short Stay 8 - 12 weeks</td>\n",
              "      <td>2022-09-29</td>\n",
              "      <td>9b2d5b4678781e53038e91ea5324530a03f27dc1d0e5f6...</td>\n",
              "      <td>9f2ba6981e36ea0fca6c16f42e6413d788d2a7499b8b7f...</td>\n",
              "      <td>8da82000ef9c4468ba47362a924b895e40662fed846942...</td>\n",
              "      <td>bbdefa2950f49882f295b1285d4fa9dec45fc4144bfb07...</td>\n",
              "      <td>09076eb7665d1fb9389c7c4517fee0b00e43092eb34821...</td>\n",
              "      <td>998c18dc0e513ab0035c7b858e3780bbbead88695a15de...</td>\n",
              "      <td>8d23a6e37e0a6431a8f1b43a91026dcff51170a89a6512...</td>\n",
              "      <td>Studio</td>\n",
              "      <td>1f90dbad4873cb9673ff3c7ec69fbac4289181453c6cea...</td>\n",
              "    </tr>\n",
              "    <tr>\n",
              "      <th>46605</th>\n",
              "      <td>1134c0a7d44fdae1afd7f1f64e2789496784095ca0a050...</td>\n",
              "      <td>LOST</td>\n",
              "      <td>Low availability</td>\n",
              "      <td>£241 - £300 Per week</td>\n",
              "      <td>Full Year Course Stay 40 - 44 weeks</td>\n",
              "      <td>2022-09-20</td>\n",
              "      <td>7aae3e886e89fc1187a5c47d6cea1c22998ee610ade1f2...</td>\n",
              "      <td>7d1550b844ff586a6023216c06263105eed0a849a2a1f6...</td>\n",
              "      <td>8da82000ef9c4468ba47362a924b895e40662fed846942...</td>\n",
              "      <td>bbdefa2950f49882f295b1285d4fa9dec45fc4144bfb07...</td>\n",
              "      <td>09076eb7665d1fb9389c7c4517fee0b00e43092eb34821...</td>\n",
              "      <td>ecc0e7dc084f141b29479058967d0bc07dee25d9690a98...</td>\n",
              "      <td>8d23a6e37e0a6431a8f1b43a91026dcff51170a89a6512...</td>\n",
              "      <td>Studio</td>\n",
              "      <td>d9e0f455b68a6573544ffac32292541a510fe2daffe2bb...</td>\n",
              "    </tr>\n",
              "    <tr>\n",
              "      <th>46606</th>\n",
              "      <td>8b8b029f1142f5cbc825aa6cbee01406c915c6b055db79...</td>\n",
              "      <td>LOST</td>\n",
              "      <td>Low availability</td>\n",
              "      <td>1108.0</td>\n",
              "      <td>294.0</td>\n",
              "      <td>2022-08-30</td>\n",
              "      <td>d684761c17c11590f6e2525b48141cb2c0c6f2be5df4e2...</td>\n",
              "      <td>e9c722cbefc2f055ae60b4e2cbe73a2d99537eab0c37f3...</td>\n",
              "      <td>b936ee09e20b3b2234907cde349cda1c1a5327c4a486bf...</td>\n",
              "      <td>7f3fa48ca885678134842fa7456f3ece53a97f843b6101...</td>\n",
              "      <td>abb8e2badd5b6265c3237170cc599257a4f566706715d2...</td>\n",
              "      <td>ecc0e7dc084f141b29479058967d0bc07dee25d9690a98...</td>\n",
              "      <td>8d23a6e37e0a6431a8f1b43a91026dcff51170a89a6512...</td>\n",
              "      <td>NaN</td>\n",
              "      <td>1f90dbad4873cb9673ff3c7ec69fbac4289181453c6cea...</td>\n",
              "    </tr>\n",
              "    <tr>\n",
              "      <th>46607</th>\n",
              "      <td>1ea65ea38f2f574b3875ba895e4ff76b284b7725041612...</td>\n",
              "      <td>LOST</td>\n",
              "      <td>Low availability</td>\n",
              "      <td>£181 - £240 Per Week</td>\n",
              "      <td>Full Year Course Stay 40 - 44 weeks</td>\n",
              "      <td>2022-09-01</td>\n",
              "      <td>7aae3e886e89fc1187a5c47d6cea1c22998ee610ade1f2...</td>\n",
              "      <td>1496126b7015defbc3b1d129a46096a5c135075aff2add...</td>\n",
              "      <td>e09e10e67812e9d236ad900e5d46b4308fc62f5d69446a...</td>\n",
              "      <td>bbdefa2950f49882f295b1285d4fa9dec45fc4144bfb07...</td>\n",
              "      <td>09076eb7665d1fb9389c7c4517fee0b00e43092eb34821...</td>\n",
              "      <td>618738f7143c9b43a98a6b42d743a6595069a9b4dcf42d...</td>\n",
              "      <td>8d23a6e37e0a6431a8f1b43a91026dcff51170a89a6512...</td>\n",
              "      <td>Studio</td>\n",
              "      <td>7520a8abba2b44d7f37c0ddbe5f7f3d87540b2b7a670e9...</td>\n",
              "    </tr>\n",
              "  </tbody>\n",
              "</table>\n",
              "<p>46608 rows × 15 columns</p>\n",
              "</div>\n",
              "      <button class=\"colab-df-convert\" onclick=\"convertToInteractive('df-4c252441-4cf2-450e-b2cf-fabd0405e8e9')\"\n",
              "              title=\"Convert this dataframe to an interactive table.\"\n",
              "              style=\"display:none;\">\n",
              "        \n",
              "  <svg xmlns=\"http://www.w3.org/2000/svg\" height=\"24px\"viewBox=\"0 0 24 24\"\n",
              "       width=\"24px\">\n",
              "    <path d=\"M0 0h24v24H0V0z\" fill=\"none\"/>\n",
              "    <path d=\"M18.56 5.44l.94 2.06.94-2.06 2.06-.94-2.06-.94-.94-2.06-.94 2.06-2.06.94zm-11 1L8.5 8.5l.94-2.06 2.06-.94-2.06-.94L8.5 2.5l-.94 2.06-2.06.94zm10 10l.94 2.06.94-2.06 2.06-.94-2.06-.94-.94-2.06-.94 2.06-2.06.94z\"/><path d=\"M17.41 7.96l-1.37-1.37c-.4-.4-.92-.59-1.43-.59-.52 0-1.04.2-1.43.59L10.3 9.45l-7.72 7.72c-.78.78-.78 2.05 0 2.83L4 21.41c.39.39.9.59 1.41.59.51 0 1.02-.2 1.41-.59l7.78-7.78 2.81-2.81c.8-.78.8-2.07 0-2.86zM5.41 20L4 18.59l7.72-7.72 1.47 1.35L5.41 20z\"/>\n",
              "  </svg>\n",
              "      </button>\n",
              "      \n",
              "  <style>\n",
              "    .colab-df-container {\n",
              "      display:flex;\n",
              "      flex-wrap:wrap;\n",
              "      gap: 12px;\n",
              "    }\n",
              "\n",
              "    .colab-df-convert {\n",
              "      background-color: #E8F0FE;\n",
              "      border: none;\n",
              "      border-radius: 50%;\n",
              "      cursor: pointer;\n",
              "      display: none;\n",
              "      fill: #1967D2;\n",
              "      height: 32px;\n",
              "      padding: 0 0 0 0;\n",
              "      width: 32px;\n",
              "    }\n",
              "\n",
              "    .colab-df-convert:hover {\n",
              "      background-color: #E2EBFA;\n",
              "      box-shadow: 0px 1px 2px rgba(60, 64, 67, 0.3), 0px 1px 3px 1px rgba(60, 64, 67, 0.15);\n",
              "      fill: #174EA6;\n",
              "    }\n",
              "\n",
              "    [theme=dark] .colab-df-convert {\n",
              "      background-color: #3B4455;\n",
              "      fill: #D2E3FC;\n",
              "    }\n",
              "\n",
              "    [theme=dark] .colab-df-convert:hover {\n",
              "      background-color: #434B5C;\n",
              "      box-shadow: 0px 1px 3px 1px rgba(0, 0, 0, 0.15);\n",
              "      filter: drop-shadow(0px 1px 2px rgba(0, 0, 0, 0.3));\n",
              "      fill: #FFFFFF;\n",
              "    }\n",
              "  </style>\n",
              "\n",
              "      <script>\n",
              "        const buttonEl =\n",
              "          document.querySelector('#df-4c252441-4cf2-450e-b2cf-fabd0405e8e9 button.colab-df-convert');\n",
              "        buttonEl.style.display =\n",
              "          google.colab.kernel.accessAllowed ? 'block' : 'none';\n",
              "\n",
              "        async function convertToInteractive(key) {\n",
              "          const element = document.querySelector('#df-4c252441-4cf2-450e-b2cf-fabd0405e8e9');\n",
              "          const dataTable =\n",
              "            await google.colab.kernel.invokeFunction('convertToInteractive',\n",
              "                                                     [key], {});\n",
              "          if (!dataTable) return;\n",
              "\n",
              "          const docLinkHtml = 'Like what you see? Visit the ' +\n",
              "            '<a target=\"_blank\" href=https://colab.research.google.com/notebooks/data_table.ipynb>data table notebook</a>'\n",
              "            + ' to learn more about interactive tables.';\n",
              "          element.innerHTML = '';\n",
              "          dataTable['output_type'] = 'display_data';\n",
              "          await google.colab.output.renderOutput(dataTable, element);\n",
              "          const docLink = document.createElement('div');\n",
              "          docLink.innerHTML = docLinkHtml;\n",
              "          element.appendChild(docLink);\n",
              "        }\n",
              "      </script>\n",
              "    </div>\n",
              "  </div>\n",
              "  "
            ]
          },
          "metadata": {},
          "execution_count": 5
        }
      ]
    },
    {
      "cell_type": "code",
      "source": [
        "# Missing Data Percentage \n",
        "\n",
        "round(dataset.isnull().sum()/dataset.shape[0], 2)"
      ],
      "metadata": {
        "colab": {
          "base_uri": "https://localhost:8080/"
        },
        "id": "6pxZaC_9O5vg",
        "outputId": "944edd71-4ebf-46ef-f7b9-e10e9735e3db"
      },
      "execution_count": 6,
      "outputs": [
        {
          "output_type": "execute_result",
          "data": {
            "text/plain": [
              "Agent_id          0.00\n",
              "status            0.00\n",
              "lost_reason       0.07\n",
              "budget            0.08\n",
              "lease             0.05\n",
              "movein            0.29\n",
              "source            0.00\n",
              "source_city       0.00\n",
              "source_country    0.00\n",
              "utm_source        0.00\n",
              "utm_medium        0.00\n",
              "des_city          0.00\n",
              "des_country       0.00\n",
              "room_type         0.51\n",
              "lead_id           0.00\n",
              "dtype: float64"
            ]
          },
          "metadata": {},
          "execution_count": 6
        }
      ]
    },
    {
      "cell_type": "markdown",
      "source": [
        "# Data Preparation"
      ],
      "metadata": {
        "id": "irnqT8aSPAK5"
      }
    },
    {
      "cell_type": "code",
      "source": [
        "dataset['status'].unique()"
      ],
      "metadata": {
        "colab": {
          "base_uri": "https://localhost:8080/"
        },
        "id": "pFaF6_VYO-R3",
        "outputId": "4c820a5a-ae2f-4b07-b967-0fb77dc55beb"
      },
      "execution_count": 7,
      "outputs": [
        {
          "output_type": "execute_result",
          "data": {
            "text/plain": [
              "array(['LOST', 'WON', 'OPPORTUNITY', 'CONTACTED', 'PROCESSING',\n",
              "       'IMPORTANT'], dtype=object)"
            ]
          },
          "metadata": {},
          "execution_count": 7
        }
      ]
    },
    {
      "cell_type": "code",
      "source": [
        "dataset[\"status\"].value_counts(normalize=True)"
      ],
      "metadata": {
        "colab": {
          "base_uri": "https://localhost:8080/"
        },
        "id": "9s_dp4KUPHb9",
        "outputId": "13c2739e-1185-4588-d4cb-51bb6ad3966d"
      },
      "execution_count": 8,
      "outputs": [
        {
          "output_type": "execute_result",
          "data": {
            "text/plain": [
              "LOST           0.927824\n",
              "WON            0.065933\n",
              "OPPORTUNITY    0.005450\n",
              "CONTACTED      0.000601\n",
              "PROCESSING     0.000172\n",
              "IMPORTANT      0.000021\n",
              "Name: status, dtype: float64"
            ]
          },
          "metadata": {},
          "execution_count": 8
        }
      ]
    },
    {
      "cell_type": "markdown",
      "source": [
        "#### As we can see that won percentage is very low which is 6%. So dropping missing values may lead to dropping all won data."
      ],
      "metadata": {
        "id": "VZBVABiJPMfV"
      }
    },
    {
      "cell_type": "markdown",
      "source": [
        "#### So keeping won and lost and removing rest as we are dealing with won and lost."
      ],
      "metadata": {
        "id": "707l9UyhPbPG"
      }
    },
    {
      "cell_type": "code",
      "source": [
        "dataset = dataset[dataset['status'].str.contains('OPPORTUNITY') == False]\n",
        "dataset = dataset[dataset['status'].str.contains('CONTACTED') == False]\n",
        "dataset = dataset[dataset['status'].str.contains('PROCESSING') == False]\n",
        "dataset = dataset[dataset['status'].str.contains('IMPORTANT') == False]\n",
        "dataset"
      ],
      "metadata": {
        "colab": {
          "base_uri": "https://localhost:8080/",
          "height": 782
        },
        "id": "_7Vpa8IjPLeZ",
        "outputId": "3f9b025a-7d89-4343-aafe-9f8b197166b0"
      },
      "execution_count": 9,
      "outputs": [
        {
          "output_type": "execute_result",
          "data": {
            "text/plain": [
              "                                                Agent_id status  \\\n",
              "0      1deba9e96f404694373de9749ddd1ca8aa7bb823145a6f...   LOST   \n",
              "1      299ae77a4ef350ae0dd37d6bba1c002d03444fb1edb236...   LOST   \n",
              "2      c213697430c006013012dd2aca82dd9732aa0a1a6bca13...   LOST   \n",
              "3      eac9815a500f908736d303e23aa227f0957177b0e6756b...   LOST   \n",
              "4      1deba9e96f404694373de9749ddd1ca8aa7bb823145a6f...   LOST   \n",
              "...                                                  ...    ...   \n",
              "46603  2306878a9ad9b57686cd623dd285aaa9b25afdf627f651...   LOST   \n",
              "46604  327ec29056cc47c24bf922f7dc0f78261dad5c726d7353...   LOST   \n",
              "46605  1134c0a7d44fdae1afd7f1f64e2789496784095ca0a050...   LOST   \n",
              "46606  8b8b029f1142f5cbc825aa6cbee01406c915c6b055db79...   LOST   \n",
              "46607  1ea65ea38f2f574b3875ba895e4ff76b284b7725041612...   LOST   \n",
              "\n",
              "            lost_reason                budget  \\\n",
              "0        Not responding                   NaN   \n",
              "1            Low budget                   NaN   \n",
              "2        Not responding  £121 - £180 Per Week   \n",
              "3            Low budget                   0-0   \n",
              "4             Junk lead                   NaN   \n",
              "...                 ...                   ...   \n",
              "46603  Low availability   £60 - £120 Per week   \n",
              "46604     Semester stay   £60 - £120 Per week   \n",
              "46605  Low availability  £241 - £300 Per week   \n",
              "46606  Low availability                1108.0   \n",
              "46607  Low availability  £181 - £240 Per Week   \n",
              "\n",
              "                                            lease     movein  \\\n",
              "0                                             NaN        NaT   \n",
              "1                                             NaN        NaT   \n",
              "2             Full Year Course Stay 40 - 44 weeks 2022-08-31   \n",
              "3                                             0.0        NaT   \n",
              "4                                             NaN        NaT   \n",
              "...                                           ...        ...   \n",
              "46603  Complete Education Year Stay 50 - 52 weeks 2022-09-01   \n",
              "46604              Summer/Short Stay 8 - 12 weeks 2022-09-29   \n",
              "46605         Full Year Course Stay 40 - 44 weeks 2022-09-20   \n",
              "46606                                       294.0 2022-08-30   \n",
              "46607         Full Year Course Stay 40 - 44 weeks 2022-09-01   \n",
              "\n",
              "                                                  source  \\\n",
              "0      9b2d5b4678781e53038e91ea5324530a03f27dc1d0e5f6...   \n",
              "1      9b2d5b4678781e53038e91ea5324530a03f27dc1d0e5f6...   \n",
              "2      7aae3e886e89fc1187a5c47d6cea1c22998ee610ade1f2...   \n",
              "3      ba2d0a29556ac20f86f45e4543c0825428cba33fd7a9ea...   \n",
              "4      9b2d5b4678781e53038e91ea5324530a03f27dc1d0e5f6...   \n",
              "...                                                  ...   \n",
              "46603  9b2d5b4678781e53038e91ea5324530a03f27dc1d0e5f6...   \n",
              "46604  9b2d5b4678781e53038e91ea5324530a03f27dc1d0e5f6...   \n",
              "46605  7aae3e886e89fc1187a5c47d6cea1c22998ee610ade1f2...   \n",
              "46606  d684761c17c11590f6e2525b48141cb2c0c6f2be5df4e2...   \n",
              "46607  7aae3e886e89fc1187a5c47d6cea1c22998ee610ade1f2...   \n",
              "\n",
              "                                             source_city  \\\n",
              "0      9b2d5b4678781e53038e91ea5324530a03f27dc1d0e5f6...   \n",
              "1      9b2d5b4678781e53038e91ea5324530a03f27dc1d0e5f6...   \n",
              "2      9b8cc3c63cdf447e463c11544924bf027945cbd29675f7...   \n",
              "3      a5f0d2d08eb0592087e3a3a2f9c1ba2c67cc30f2efd2bd...   \n",
              "4      9b2d5b4678781e53038e91ea5324530a03f27dc1d0e5f6...   \n",
              "...                                                  ...   \n",
              "46603  7d1550b844ff586a6023216c06263105eed0a849a2a1f6...   \n",
              "46604  9f2ba6981e36ea0fca6c16f42e6413d788d2a7499b8b7f...   \n",
              "46605  7d1550b844ff586a6023216c06263105eed0a849a2a1f6...   \n",
              "46606  e9c722cbefc2f055ae60b4e2cbe73a2d99537eab0c37f3...   \n",
              "46607  1496126b7015defbc3b1d129a46096a5c135075aff2add...   \n",
              "\n",
              "                                          source_country  \\\n",
              "0      9b2d5b4678781e53038e91ea5324530a03f27dc1d0e5f6...   \n",
              "1      9b2d5b4678781e53038e91ea5324530a03f27dc1d0e5f6...   \n",
              "2      e09e10e67812e9d236ad900e5d46b4308fc62f5d69446a...   \n",
              "3      e09e10e67812e9d236ad900e5d46b4308fc62f5d69446a...   \n",
              "4      9b2d5b4678781e53038e91ea5324530a03f27dc1d0e5f6...   \n",
              "...                                                  ...   \n",
              "46603  8da82000ef9c4468ba47362a924b895e40662fed846942...   \n",
              "46604  8da82000ef9c4468ba47362a924b895e40662fed846942...   \n",
              "46605  8da82000ef9c4468ba47362a924b895e40662fed846942...   \n",
              "46606  b936ee09e20b3b2234907cde349cda1c1a5327c4a486bf...   \n",
              "46607  e09e10e67812e9d236ad900e5d46b4308fc62f5d69446a...   \n",
              "\n",
              "                                              utm_source  \\\n",
              "0      3d59f7548e1af2151b64135003ce63c0a484c26b9b8b16...   \n",
              "1      3d59f7548e1af2151b64135003ce63c0a484c26b9b8b16...   \n",
              "2      bbdefa2950f49882f295b1285d4fa9dec45fc4144bfb07...   \n",
              "3      bbdefa2950f49882f295b1285d4fa9dec45fc4144bfb07...   \n",
              "4      3d59f7548e1af2151b64135003ce63c0a484c26b9b8b16...   \n",
              "...                                                  ...   \n",
              "46603  bbdefa2950f49882f295b1285d4fa9dec45fc4144bfb07...   \n",
              "46604  bbdefa2950f49882f295b1285d4fa9dec45fc4144bfb07...   \n",
              "46605  bbdefa2950f49882f295b1285d4fa9dec45fc4144bfb07...   \n",
              "46606  7f3fa48ca885678134842fa7456f3ece53a97f843b6101...   \n",
              "46607  bbdefa2950f49882f295b1285d4fa9dec45fc4144bfb07...   \n",
              "\n",
              "                                              utm_medium  \\\n",
              "0      268ad70eb5bc4737a2ae28162cbca30118cc94520e49ef...   \n",
              "1      268ad70eb5bc4737a2ae28162cbca30118cc94520e49ef...   \n",
              "2      09076eb7665d1fb9389c7c4517fee0b00e43092eb34821...   \n",
              "3      09076eb7665d1fb9389c7c4517fee0b00e43092eb34821...   \n",
              "4      268ad70eb5bc4737a2ae28162cbca30118cc94520e49ef...   \n",
              "...                                                  ...   \n",
              "46603  09076eb7665d1fb9389c7c4517fee0b00e43092eb34821...   \n",
              "46604  09076eb7665d1fb9389c7c4517fee0b00e43092eb34821...   \n",
              "46605  09076eb7665d1fb9389c7c4517fee0b00e43092eb34821...   \n",
              "46606  abb8e2badd5b6265c3237170cc599257a4f566706715d2...   \n",
              "46607  09076eb7665d1fb9389c7c4517fee0b00e43092eb34821...   \n",
              "\n",
              "                                                des_city  \\\n",
              "0      ecc0e7dc084f141b29479058967d0bc07dee25d9690a98...   \n",
              "1      5372372f3bf5896820cb2819300c3e681820d82c6efc54...   \n",
              "2      11ab03a1a8c367191355c152f39fe28cae5e426fce49ef...   \n",
              "3      19372fa44c57a01c37a5a8418779ca3d99b0b59731fb35...   \n",
              "4      9b2d5b4678781e53038e91ea5324530a03f27dc1d0e5f6...   \n",
              "...                                                  ...   \n",
              "46603  13d4b96b6ee361b737e22404aeecca45f322ba7d4c2c42...   \n",
              "46604  998c18dc0e513ab0035c7b858e3780bbbead88695a15de...   \n",
              "46605  ecc0e7dc084f141b29479058967d0bc07dee25d9690a98...   \n",
              "46606  ecc0e7dc084f141b29479058967d0bc07dee25d9690a98...   \n",
              "46607  618738f7143c9b43a98a6b42d743a6595069a9b4dcf42d...   \n",
              "\n",
              "                                             des_country room_type  \\\n",
              "0      8d23a6e37e0a6431a8f1b43a91026dcff51170a89a6512...       NaN   \n",
              "1      8d23a6e37e0a6431a8f1b43a91026dcff51170a89a6512...       NaN   \n",
              "2      8d23a6e37e0a6431a8f1b43a91026dcff51170a89a6512...   Ensuite   \n",
              "3      8d23a6e37e0a6431a8f1b43a91026dcff51170a89a6512...       NaN   \n",
              "4      9b2d5b4678781e53038e91ea5324530a03f27dc1d0e5f6...       NaN   \n",
              "...                                                  ...       ...   \n",
              "46603  8d23a6e37e0a6431a8f1b43a91026dcff51170a89a6512...    Studio   \n",
              "46604  8d23a6e37e0a6431a8f1b43a91026dcff51170a89a6512...    Studio   \n",
              "46605  8d23a6e37e0a6431a8f1b43a91026dcff51170a89a6512...    Studio   \n",
              "46606  8d23a6e37e0a6431a8f1b43a91026dcff51170a89a6512...       NaN   \n",
              "46607  8d23a6e37e0a6431a8f1b43a91026dcff51170a89a6512...    Studio   \n",
              "\n",
              "                                                 lead_id  \n",
              "0      cd5dc0d9393f3980d11d4ba6f88f8110c2b7a7f7796307...  \n",
              "1      b94693673a5f7178d1b114e4004ad52377d3244dd24a3d...  \n",
              "2      96ea4e2bf04496c044745938c0299c264c3f4ba079e572...  \n",
              "3      1d2b34d8add02a182a4129023766ca4585a8ddced0e5b3...  \n",
              "4      fc10fffd29cfbe93c55158fb47752a7501c211d253468c...  \n",
              "...                                                  ...  \n",
              "46603  1aaa4a4a9092e4c0eabf958ed9aea59c50d8ea3f08f691...  \n",
              "46604  1f90dbad4873cb9673ff3c7ec69fbac4289181453c6cea...  \n",
              "46605  d9e0f455b68a6573544ffac32292541a510fe2daffe2bb...  \n",
              "46606  1f90dbad4873cb9673ff3c7ec69fbac4289181453c6cea...  \n",
              "46607  7520a8abba2b44d7f37c0ddbe5f7f3d87540b2b7a670e9...  \n",
              "\n",
              "[46317 rows x 15 columns]"
            ],
            "text/html": [
              "\n",
              "  <div id=\"df-0b0b9a75-a51b-4f9f-8d59-be6f39e04496\">\n",
              "    <div class=\"colab-df-container\">\n",
              "      <div>\n",
              "<style scoped>\n",
              "    .dataframe tbody tr th:only-of-type {\n",
              "        vertical-align: middle;\n",
              "    }\n",
              "\n",
              "    .dataframe tbody tr th {\n",
              "        vertical-align: top;\n",
              "    }\n",
              "\n",
              "    .dataframe thead th {\n",
              "        text-align: right;\n",
              "    }\n",
              "</style>\n",
              "<table border=\"1\" class=\"dataframe\">\n",
              "  <thead>\n",
              "    <tr style=\"text-align: right;\">\n",
              "      <th></th>\n",
              "      <th>Agent_id</th>\n",
              "      <th>status</th>\n",
              "      <th>lost_reason</th>\n",
              "      <th>budget</th>\n",
              "      <th>lease</th>\n",
              "      <th>movein</th>\n",
              "      <th>source</th>\n",
              "      <th>source_city</th>\n",
              "      <th>source_country</th>\n",
              "      <th>utm_source</th>\n",
              "      <th>utm_medium</th>\n",
              "      <th>des_city</th>\n",
              "      <th>des_country</th>\n",
              "      <th>room_type</th>\n",
              "      <th>lead_id</th>\n",
              "    </tr>\n",
              "  </thead>\n",
              "  <tbody>\n",
              "    <tr>\n",
              "      <th>0</th>\n",
              "      <td>1deba9e96f404694373de9749ddd1ca8aa7bb823145a6f...</td>\n",
              "      <td>LOST</td>\n",
              "      <td>Not responding</td>\n",
              "      <td>NaN</td>\n",
              "      <td>NaN</td>\n",
              "      <td>NaT</td>\n",
              "      <td>9b2d5b4678781e53038e91ea5324530a03f27dc1d0e5f6...</td>\n",
              "      <td>9b2d5b4678781e53038e91ea5324530a03f27dc1d0e5f6...</td>\n",
              "      <td>9b2d5b4678781e53038e91ea5324530a03f27dc1d0e5f6...</td>\n",
              "      <td>3d59f7548e1af2151b64135003ce63c0a484c26b9b8b16...</td>\n",
              "      <td>268ad70eb5bc4737a2ae28162cbca30118cc94520e49ef...</td>\n",
              "      <td>ecc0e7dc084f141b29479058967d0bc07dee25d9690a98...</td>\n",
              "      <td>8d23a6e37e0a6431a8f1b43a91026dcff51170a89a6512...</td>\n",
              "      <td>NaN</td>\n",
              "      <td>cd5dc0d9393f3980d11d4ba6f88f8110c2b7a7f7796307...</td>\n",
              "    </tr>\n",
              "    <tr>\n",
              "      <th>1</th>\n",
              "      <td>299ae77a4ef350ae0dd37d6bba1c002d03444fb1edb236...</td>\n",
              "      <td>LOST</td>\n",
              "      <td>Low budget</td>\n",
              "      <td>NaN</td>\n",
              "      <td>NaN</td>\n",
              "      <td>NaT</td>\n",
              "      <td>9b2d5b4678781e53038e91ea5324530a03f27dc1d0e5f6...</td>\n",
              "      <td>9b2d5b4678781e53038e91ea5324530a03f27dc1d0e5f6...</td>\n",
              "      <td>9b2d5b4678781e53038e91ea5324530a03f27dc1d0e5f6...</td>\n",
              "      <td>3d59f7548e1af2151b64135003ce63c0a484c26b9b8b16...</td>\n",
              "      <td>268ad70eb5bc4737a2ae28162cbca30118cc94520e49ef...</td>\n",
              "      <td>5372372f3bf5896820cb2819300c3e681820d82c6efc54...</td>\n",
              "      <td>8d23a6e37e0a6431a8f1b43a91026dcff51170a89a6512...</td>\n",
              "      <td>NaN</td>\n",
              "      <td>b94693673a5f7178d1b114e4004ad52377d3244dd24a3d...</td>\n",
              "    </tr>\n",
              "    <tr>\n",
              "      <th>2</th>\n",
              "      <td>c213697430c006013012dd2aca82dd9732aa0a1a6bca13...</td>\n",
              "      <td>LOST</td>\n",
              "      <td>Not responding</td>\n",
              "      <td>£121 - £180 Per Week</td>\n",
              "      <td>Full Year Course Stay 40 - 44 weeks</td>\n",
              "      <td>2022-08-31</td>\n",
              "      <td>7aae3e886e89fc1187a5c47d6cea1c22998ee610ade1f2...</td>\n",
              "      <td>9b8cc3c63cdf447e463c11544924bf027945cbd29675f7...</td>\n",
              "      <td>e09e10e67812e9d236ad900e5d46b4308fc62f5d69446a...</td>\n",
              "      <td>bbdefa2950f49882f295b1285d4fa9dec45fc4144bfb07...</td>\n",
              "      <td>09076eb7665d1fb9389c7c4517fee0b00e43092eb34821...</td>\n",
              "      <td>11ab03a1a8c367191355c152f39fe28cae5e426fce49ef...</td>\n",
              "      <td>8d23a6e37e0a6431a8f1b43a91026dcff51170a89a6512...</td>\n",
              "      <td>Ensuite</td>\n",
              "      <td>96ea4e2bf04496c044745938c0299c264c3f4ba079e572...</td>\n",
              "    </tr>\n",
              "    <tr>\n",
              "      <th>3</th>\n",
              "      <td>eac9815a500f908736d303e23aa227f0957177b0e6756b...</td>\n",
              "      <td>LOST</td>\n",
              "      <td>Low budget</td>\n",
              "      <td>0-0</td>\n",
              "      <td>0.0</td>\n",
              "      <td>NaT</td>\n",
              "      <td>ba2d0a29556ac20f86f45e4543c0825428cba33fd7a9ea...</td>\n",
              "      <td>a5f0d2d08eb0592087e3a3a2f9c1ba2c67cc30f2efd2bd...</td>\n",
              "      <td>e09e10e67812e9d236ad900e5d46b4308fc62f5d69446a...</td>\n",
              "      <td>bbdefa2950f49882f295b1285d4fa9dec45fc4144bfb07...</td>\n",
              "      <td>09076eb7665d1fb9389c7c4517fee0b00e43092eb34821...</td>\n",
              "      <td>19372fa44c57a01c37a5a8418779ca3d99b0b59731fb35...</td>\n",
              "      <td>8d23a6e37e0a6431a8f1b43a91026dcff51170a89a6512...</td>\n",
              "      <td>NaN</td>\n",
              "      <td>1d2b34d8add02a182a4129023766ca4585a8ddced0e5b3...</td>\n",
              "    </tr>\n",
              "    <tr>\n",
              "      <th>4</th>\n",
              "      <td>1deba9e96f404694373de9749ddd1ca8aa7bb823145a6f...</td>\n",
              "      <td>LOST</td>\n",
              "      <td>Junk lead</td>\n",
              "      <td>NaN</td>\n",
              "      <td>NaN</td>\n",
              "      <td>NaT</td>\n",
              "      <td>9b2d5b4678781e53038e91ea5324530a03f27dc1d0e5f6...</td>\n",
              "      <td>9b2d5b4678781e53038e91ea5324530a03f27dc1d0e5f6...</td>\n",
              "      <td>9b2d5b4678781e53038e91ea5324530a03f27dc1d0e5f6...</td>\n",
              "      <td>3d59f7548e1af2151b64135003ce63c0a484c26b9b8b16...</td>\n",
              "      <td>268ad70eb5bc4737a2ae28162cbca30118cc94520e49ef...</td>\n",
              "      <td>9b2d5b4678781e53038e91ea5324530a03f27dc1d0e5f6...</td>\n",
              "      <td>9b2d5b4678781e53038e91ea5324530a03f27dc1d0e5f6...</td>\n",
              "      <td>NaN</td>\n",
              "      <td>fc10fffd29cfbe93c55158fb47752a7501c211d253468c...</td>\n",
              "    </tr>\n",
              "    <tr>\n",
              "      <th>...</th>\n",
              "      <td>...</td>\n",
              "      <td>...</td>\n",
              "      <td>...</td>\n",
              "      <td>...</td>\n",
              "      <td>...</td>\n",
              "      <td>...</td>\n",
              "      <td>...</td>\n",
              "      <td>...</td>\n",
              "      <td>...</td>\n",
              "      <td>...</td>\n",
              "      <td>...</td>\n",
              "      <td>...</td>\n",
              "      <td>...</td>\n",
              "      <td>...</td>\n",
              "      <td>...</td>\n",
              "    </tr>\n",
              "    <tr>\n",
              "      <th>46603</th>\n",
              "      <td>2306878a9ad9b57686cd623dd285aaa9b25afdf627f651...</td>\n",
              "      <td>LOST</td>\n",
              "      <td>Low availability</td>\n",
              "      <td>£60 - £120 Per week</td>\n",
              "      <td>Complete Education Year Stay 50 - 52 weeks</td>\n",
              "      <td>2022-09-01</td>\n",
              "      <td>9b2d5b4678781e53038e91ea5324530a03f27dc1d0e5f6...</td>\n",
              "      <td>7d1550b844ff586a6023216c06263105eed0a849a2a1f6...</td>\n",
              "      <td>8da82000ef9c4468ba47362a924b895e40662fed846942...</td>\n",
              "      <td>bbdefa2950f49882f295b1285d4fa9dec45fc4144bfb07...</td>\n",
              "      <td>09076eb7665d1fb9389c7c4517fee0b00e43092eb34821...</td>\n",
              "      <td>13d4b96b6ee361b737e22404aeecca45f322ba7d4c2c42...</td>\n",
              "      <td>8d23a6e37e0a6431a8f1b43a91026dcff51170a89a6512...</td>\n",
              "      <td>Studio</td>\n",
              "      <td>1aaa4a4a9092e4c0eabf958ed9aea59c50d8ea3f08f691...</td>\n",
              "    </tr>\n",
              "    <tr>\n",
              "      <th>46604</th>\n",
              "      <td>327ec29056cc47c24bf922f7dc0f78261dad5c726d7353...</td>\n",
              "      <td>LOST</td>\n",
              "      <td>Semester stay</td>\n",
              "      <td>£60 - £120 Per week</td>\n",
              "      <td>Summer/Short Stay 8 - 12 weeks</td>\n",
              "      <td>2022-09-29</td>\n",
              "      <td>9b2d5b4678781e53038e91ea5324530a03f27dc1d0e5f6...</td>\n",
              "      <td>9f2ba6981e36ea0fca6c16f42e6413d788d2a7499b8b7f...</td>\n",
              "      <td>8da82000ef9c4468ba47362a924b895e40662fed846942...</td>\n",
              "      <td>bbdefa2950f49882f295b1285d4fa9dec45fc4144bfb07...</td>\n",
              "      <td>09076eb7665d1fb9389c7c4517fee0b00e43092eb34821...</td>\n",
              "      <td>998c18dc0e513ab0035c7b858e3780bbbead88695a15de...</td>\n",
              "      <td>8d23a6e37e0a6431a8f1b43a91026dcff51170a89a6512...</td>\n",
              "      <td>Studio</td>\n",
              "      <td>1f90dbad4873cb9673ff3c7ec69fbac4289181453c6cea...</td>\n",
              "    </tr>\n",
              "    <tr>\n",
              "      <th>46605</th>\n",
              "      <td>1134c0a7d44fdae1afd7f1f64e2789496784095ca0a050...</td>\n",
              "      <td>LOST</td>\n",
              "      <td>Low availability</td>\n",
              "      <td>£241 - £300 Per week</td>\n",
              "      <td>Full Year Course Stay 40 - 44 weeks</td>\n",
              "      <td>2022-09-20</td>\n",
              "      <td>7aae3e886e89fc1187a5c47d6cea1c22998ee610ade1f2...</td>\n",
              "      <td>7d1550b844ff586a6023216c06263105eed0a849a2a1f6...</td>\n",
              "      <td>8da82000ef9c4468ba47362a924b895e40662fed846942...</td>\n",
              "      <td>bbdefa2950f49882f295b1285d4fa9dec45fc4144bfb07...</td>\n",
              "      <td>09076eb7665d1fb9389c7c4517fee0b00e43092eb34821...</td>\n",
              "      <td>ecc0e7dc084f141b29479058967d0bc07dee25d9690a98...</td>\n",
              "      <td>8d23a6e37e0a6431a8f1b43a91026dcff51170a89a6512...</td>\n",
              "      <td>Studio</td>\n",
              "      <td>d9e0f455b68a6573544ffac32292541a510fe2daffe2bb...</td>\n",
              "    </tr>\n",
              "    <tr>\n",
              "      <th>46606</th>\n",
              "      <td>8b8b029f1142f5cbc825aa6cbee01406c915c6b055db79...</td>\n",
              "      <td>LOST</td>\n",
              "      <td>Low availability</td>\n",
              "      <td>1108.0</td>\n",
              "      <td>294.0</td>\n",
              "      <td>2022-08-30</td>\n",
              "      <td>d684761c17c11590f6e2525b48141cb2c0c6f2be5df4e2...</td>\n",
              "      <td>e9c722cbefc2f055ae60b4e2cbe73a2d99537eab0c37f3...</td>\n",
              "      <td>b936ee09e20b3b2234907cde349cda1c1a5327c4a486bf...</td>\n",
              "      <td>7f3fa48ca885678134842fa7456f3ece53a97f843b6101...</td>\n",
              "      <td>abb8e2badd5b6265c3237170cc599257a4f566706715d2...</td>\n",
              "      <td>ecc0e7dc084f141b29479058967d0bc07dee25d9690a98...</td>\n",
              "      <td>8d23a6e37e0a6431a8f1b43a91026dcff51170a89a6512...</td>\n",
              "      <td>NaN</td>\n",
              "      <td>1f90dbad4873cb9673ff3c7ec69fbac4289181453c6cea...</td>\n",
              "    </tr>\n",
              "    <tr>\n",
              "      <th>46607</th>\n",
              "      <td>1ea65ea38f2f574b3875ba895e4ff76b284b7725041612...</td>\n",
              "      <td>LOST</td>\n",
              "      <td>Low availability</td>\n",
              "      <td>£181 - £240 Per Week</td>\n",
              "      <td>Full Year Course Stay 40 - 44 weeks</td>\n",
              "      <td>2022-09-01</td>\n",
              "      <td>7aae3e886e89fc1187a5c47d6cea1c22998ee610ade1f2...</td>\n",
              "      <td>1496126b7015defbc3b1d129a46096a5c135075aff2add...</td>\n",
              "      <td>e09e10e67812e9d236ad900e5d46b4308fc62f5d69446a...</td>\n",
              "      <td>bbdefa2950f49882f295b1285d4fa9dec45fc4144bfb07...</td>\n",
              "      <td>09076eb7665d1fb9389c7c4517fee0b00e43092eb34821...</td>\n",
              "      <td>618738f7143c9b43a98a6b42d743a6595069a9b4dcf42d...</td>\n",
              "      <td>8d23a6e37e0a6431a8f1b43a91026dcff51170a89a6512...</td>\n",
              "      <td>Studio</td>\n",
              "      <td>7520a8abba2b44d7f37c0ddbe5f7f3d87540b2b7a670e9...</td>\n",
              "    </tr>\n",
              "  </tbody>\n",
              "</table>\n",
              "<p>46317 rows × 15 columns</p>\n",
              "</div>\n",
              "      <button class=\"colab-df-convert\" onclick=\"convertToInteractive('df-0b0b9a75-a51b-4f9f-8d59-be6f39e04496')\"\n",
              "              title=\"Convert this dataframe to an interactive table.\"\n",
              "              style=\"display:none;\">\n",
              "        \n",
              "  <svg xmlns=\"http://www.w3.org/2000/svg\" height=\"24px\"viewBox=\"0 0 24 24\"\n",
              "       width=\"24px\">\n",
              "    <path d=\"M0 0h24v24H0V0z\" fill=\"none\"/>\n",
              "    <path d=\"M18.56 5.44l.94 2.06.94-2.06 2.06-.94-2.06-.94-.94-2.06-.94 2.06-2.06.94zm-11 1L8.5 8.5l.94-2.06 2.06-.94-2.06-.94L8.5 2.5l-.94 2.06-2.06.94zm10 10l.94 2.06.94-2.06 2.06-.94-2.06-.94-.94-2.06-.94 2.06-2.06.94z\"/><path d=\"M17.41 7.96l-1.37-1.37c-.4-.4-.92-.59-1.43-.59-.52 0-1.04.2-1.43.59L10.3 9.45l-7.72 7.72c-.78.78-.78 2.05 0 2.83L4 21.41c.39.39.9.59 1.41.59.51 0 1.02-.2 1.41-.59l7.78-7.78 2.81-2.81c.8-.78.8-2.07 0-2.86zM5.41 20L4 18.59l7.72-7.72 1.47 1.35L5.41 20z\"/>\n",
              "  </svg>\n",
              "      </button>\n",
              "      \n",
              "  <style>\n",
              "    .colab-df-container {\n",
              "      display:flex;\n",
              "      flex-wrap:wrap;\n",
              "      gap: 12px;\n",
              "    }\n",
              "\n",
              "    .colab-df-convert {\n",
              "      background-color: #E8F0FE;\n",
              "      border: none;\n",
              "      border-radius: 50%;\n",
              "      cursor: pointer;\n",
              "      display: none;\n",
              "      fill: #1967D2;\n",
              "      height: 32px;\n",
              "      padding: 0 0 0 0;\n",
              "      width: 32px;\n",
              "    }\n",
              "\n",
              "    .colab-df-convert:hover {\n",
              "      background-color: #E2EBFA;\n",
              "      box-shadow: 0px 1px 2px rgba(60, 64, 67, 0.3), 0px 1px 3px 1px rgba(60, 64, 67, 0.15);\n",
              "      fill: #174EA6;\n",
              "    }\n",
              "\n",
              "    [theme=dark] .colab-df-convert {\n",
              "      background-color: #3B4455;\n",
              "      fill: #D2E3FC;\n",
              "    }\n",
              "\n",
              "    [theme=dark] .colab-df-convert:hover {\n",
              "      background-color: #434B5C;\n",
              "      box-shadow: 0px 1px 3px 1px rgba(0, 0, 0, 0.15);\n",
              "      filter: drop-shadow(0px 1px 2px rgba(0, 0, 0, 0.3));\n",
              "      fill: #FFFFFF;\n",
              "    }\n",
              "  </style>\n",
              "\n",
              "      <script>\n",
              "        const buttonEl =\n",
              "          document.querySelector('#df-0b0b9a75-a51b-4f9f-8d59-be6f39e04496 button.colab-df-convert');\n",
              "        buttonEl.style.display =\n",
              "          google.colab.kernel.accessAllowed ? 'block' : 'none';\n",
              "\n",
              "        async function convertToInteractive(key) {\n",
              "          const element = document.querySelector('#df-0b0b9a75-a51b-4f9f-8d59-be6f39e04496');\n",
              "          const dataTable =\n",
              "            await google.colab.kernel.invokeFunction('convertToInteractive',\n",
              "                                                     [key], {});\n",
              "          if (!dataTable) return;\n",
              "\n",
              "          const docLinkHtml = 'Like what you see? Visit the ' +\n",
              "            '<a target=\"_blank\" href=https://colab.research.google.com/notebooks/data_table.ipynb>data table notebook</a>'\n",
              "            + ' to learn more about interactive tables.';\n",
              "          element.innerHTML = '';\n",
              "          dataTable['output_type'] = 'display_data';\n",
              "          await google.colab.output.renderOutput(dataTable, element);\n",
              "          const docLink = document.createElement('div');\n",
              "          docLink.innerHTML = docLinkHtml;\n",
              "          element.appendChild(docLink);\n",
              "        }\n",
              "      </script>\n",
              "    </div>\n",
              "  </div>\n",
              "  "
            ]
          },
          "metadata": {},
          "execution_count": 9
        }
      ]
    },
    {
      "cell_type": "markdown",
      "source": [
        "#### As budget, lease and lost reason have less than 10% missing values, changing those missing values into valuable input."
      ],
      "metadata": {
        "id": "YDYEZPu7QDVa"
      }
    },
    {
      "cell_type": "code",
      "source": [
        "dataset['lost_reason'] = dataset['lost_reason'].replace(np.nan, '0')\n",
        "dataset['budget'] = dataset['budget'].replace(np.nan, '0')\n",
        "dataset['lease'] = dataset['lease'].replace(np.nan, '0')\n",
        "dataset"
      ],
      "metadata": {
        "colab": {
          "base_uri": "https://localhost:8080/",
          "height": 782
        },
        "id": "sC8uwSkpPs8R",
        "outputId": "c2b02542-f1ca-48db-91fc-949d0b866d41"
      },
      "execution_count": 10,
      "outputs": [
        {
          "output_type": "execute_result",
          "data": {
            "text/plain": [
              "                                                Agent_id status  \\\n",
              "0      1deba9e96f404694373de9749ddd1ca8aa7bb823145a6f...   LOST   \n",
              "1      299ae77a4ef350ae0dd37d6bba1c002d03444fb1edb236...   LOST   \n",
              "2      c213697430c006013012dd2aca82dd9732aa0a1a6bca13...   LOST   \n",
              "3      eac9815a500f908736d303e23aa227f0957177b0e6756b...   LOST   \n",
              "4      1deba9e96f404694373de9749ddd1ca8aa7bb823145a6f...   LOST   \n",
              "...                                                  ...    ...   \n",
              "46603  2306878a9ad9b57686cd623dd285aaa9b25afdf627f651...   LOST   \n",
              "46604  327ec29056cc47c24bf922f7dc0f78261dad5c726d7353...   LOST   \n",
              "46605  1134c0a7d44fdae1afd7f1f64e2789496784095ca0a050...   LOST   \n",
              "46606  8b8b029f1142f5cbc825aa6cbee01406c915c6b055db79...   LOST   \n",
              "46607  1ea65ea38f2f574b3875ba895e4ff76b284b7725041612...   LOST   \n",
              "\n",
              "            lost_reason                budget  \\\n",
              "0        Not responding                     0   \n",
              "1            Low budget                     0   \n",
              "2        Not responding  £121 - £180 Per Week   \n",
              "3            Low budget                   0-0   \n",
              "4             Junk lead                     0   \n",
              "...                 ...                   ...   \n",
              "46603  Low availability   £60 - £120 Per week   \n",
              "46604     Semester stay   £60 - £120 Per week   \n",
              "46605  Low availability  £241 - £300 Per week   \n",
              "46606  Low availability                1108.0   \n",
              "46607  Low availability  £181 - £240 Per Week   \n",
              "\n",
              "                                            lease     movein  \\\n",
              "0                                               0        NaT   \n",
              "1                                               0        NaT   \n",
              "2             Full Year Course Stay 40 - 44 weeks 2022-08-31   \n",
              "3                                             0.0        NaT   \n",
              "4                                               0        NaT   \n",
              "...                                           ...        ...   \n",
              "46603  Complete Education Year Stay 50 - 52 weeks 2022-09-01   \n",
              "46604              Summer/Short Stay 8 - 12 weeks 2022-09-29   \n",
              "46605         Full Year Course Stay 40 - 44 weeks 2022-09-20   \n",
              "46606                                       294.0 2022-08-30   \n",
              "46607         Full Year Course Stay 40 - 44 weeks 2022-09-01   \n",
              "\n",
              "                                                  source  \\\n",
              "0      9b2d5b4678781e53038e91ea5324530a03f27dc1d0e5f6...   \n",
              "1      9b2d5b4678781e53038e91ea5324530a03f27dc1d0e5f6...   \n",
              "2      7aae3e886e89fc1187a5c47d6cea1c22998ee610ade1f2...   \n",
              "3      ba2d0a29556ac20f86f45e4543c0825428cba33fd7a9ea...   \n",
              "4      9b2d5b4678781e53038e91ea5324530a03f27dc1d0e5f6...   \n",
              "...                                                  ...   \n",
              "46603  9b2d5b4678781e53038e91ea5324530a03f27dc1d0e5f6...   \n",
              "46604  9b2d5b4678781e53038e91ea5324530a03f27dc1d0e5f6...   \n",
              "46605  7aae3e886e89fc1187a5c47d6cea1c22998ee610ade1f2...   \n",
              "46606  d684761c17c11590f6e2525b48141cb2c0c6f2be5df4e2...   \n",
              "46607  7aae3e886e89fc1187a5c47d6cea1c22998ee610ade1f2...   \n",
              "\n",
              "                                             source_city  \\\n",
              "0      9b2d5b4678781e53038e91ea5324530a03f27dc1d0e5f6...   \n",
              "1      9b2d5b4678781e53038e91ea5324530a03f27dc1d0e5f6...   \n",
              "2      9b8cc3c63cdf447e463c11544924bf027945cbd29675f7...   \n",
              "3      a5f0d2d08eb0592087e3a3a2f9c1ba2c67cc30f2efd2bd...   \n",
              "4      9b2d5b4678781e53038e91ea5324530a03f27dc1d0e5f6...   \n",
              "...                                                  ...   \n",
              "46603  7d1550b844ff586a6023216c06263105eed0a849a2a1f6...   \n",
              "46604  9f2ba6981e36ea0fca6c16f42e6413d788d2a7499b8b7f...   \n",
              "46605  7d1550b844ff586a6023216c06263105eed0a849a2a1f6...   \n",
              "46606  e9c722cbefc2f055ae60b4e2cbe73a2d99537eab0c37f3...   \n",
              "46607  1496126b7015defbc3b1d129a46096a5c135075aff2add...   \n",
              "\n",
              "                                          source_country  \\\n",
              "0      9b2d5b4678781e53038e91ea5324530a03f27dc1d0e5f6...   \n",
              "1      9b2d5b4678781e53038e91ea5324530a03f27dc1d0e5f6...   \n",
              "2      e09e10e67812e9d236ad900e5d46b4308fc62f5d69446a...   \n",
              "3      e09e10e67812e9d236ad900e5d46b4308fc62f5d69446a...   \n",
              "4      9b2d5b4678781e53038e91ea5324530a03f27dc1d0e5f6...   \n",
              "...                                                  ...   \n",
              "46603  8da82000ef9c4468ba47362a924b895e40662fed846942...   \n",
              "46604  8da82000ef9c4468ba47362a924b895e40662fed846942...   \n",
              "46605  8da82000ef9c4468ba47362a924b895e40662fed846942...   \n",
              "46606  b936ee09e20b3b2234907cde349cda1c1a5327c4a486bf...   \n",
              "46607  e09e10e67812e9d236ad900e5d46b4308fc62f5d69446a...   \n",
              "\n",
              "                                              utm_source  \\\n",
              "0      3d59f7548e1af2151b64135003ce63c0a484c26b9b8b16...   \n",
              "1      3d59f7548e1af2151b64135003ce63c0a484c26b9b8b16...   \n",
              "2      bbdefa2950f49882f295b1285d4fa9dec45fc4144bfb07...   \n",
              "3      bbdefa2950f49882f295b1285d4fa9dec45fc4144bfb07...   \n",
              "4      3d59f7548e1af2151b64135003ce63c0a484c26b9b8b16...   \n",
              "...                                                  ...   \n",
              "46603  bbdefa2950f49882f295b1285d4fa9dec45fc4144bfb07...   \n",
              "46604  bbdefa2950f49882f295b1285d4fa9dec45fc4144bfb07...   \n",
              "46605  bbdefa2950f49882f295b1285d4fa9dec45fc4144bfb07...   \n",
              "46606  7f3fa48ca885678134842fa7456f3ece53a97f843b6101...   \n",
              "46607  bbdefa2950f49882f295b1285d4fa9dec45fc4144bfb07...   \n",
              "\n",
              "                                              utm_medium  \\\n",
              "0      268ad70eb5bc4737a2ae28162cbca30118cc94520e49ef...   \n",
              "1      268ad70eb5bc4737a2ae28162cbca30118cc94520e49ef...   \n",
              "2      09076eb7665d1fb9389c7c4517fee0b00e43092eb34821...   \n",
              "3      09076eb7665d1fb9389c7c4517fee0b00e43092eb34821...   \n",
              "4      268ad70eb5bc4737a2ae28162cbca30118cc94520e49ef...   \n",
              "...                                                  ...   \n",
              "46603  09076eb7665d1fb9389c7c4517fee0b00e43092eb34821...   \n",
              "46604  09076eb7665d1fb9389c7c4517fee0b00e43092eb34821...   \n",
              "46605  09076eb7665d1fb9389c7c4517fee0b00e43092eb34821...   \n",
              "46606  abb8e2badd5b6265c3237170cc599257a4f566706715d2...   \n",
              "46607  09076eb7665d1fb9389c7c4517fee0b00e43092eb34821...   \n",
              "\n",
              "                                                des_city  \\\n",
              "0      ecc0e7dc084f141b29479058967d0bc07dee25d9690a98...   \n",
              "1      5372372f3bf5896820cb2819300c3e681820d82c6efc54...   \n",
              "2      11ab03a1a8c367191355c152f39fe28cae5e426fce49ef...   \n",
              "3      19372fa44c57a01c37a5a8418779ca3d99b0b59731fb35...   \n",
              "4      9b2d5b4678781e53038e91ea5324530a03f27dc1d0e5f6...   \n",
              "...                                                  ...   \n",
              "46603  13d4b96b6ee361b737e22404aeecca45f322ba7d4c2c42...   \n",
              "46604  998c18dc0e513ab0035c7b858e3780bbbead88695a15de...   \n",
              "46605  ecc0e7dc084f141b29479058967d0bc07dee25d9690a98...   \n",
              "46606  ecc0e7dc084f141b29479058967d0bc07dee25d9690a98...   \n",
              "46607  618738f7143c9b43a98a6b42d743a6595069a9b4dcf42d...   \n",
              "\n",
              "                                             des_country room_type  \\\n",
              "0      8d23a6e37e0a6431a8f1b43a91026dcff51170a89a6512...       NaN   \n",
              "1      8d23a6e37e0a6431a8f1b43a91026dcff51170a89a6512...       NaN   \n",
              "2      8d23a6e37e0a6431a8f1b43a91026dcff51170a89a6512...   Ensuite   \n",
              "3      8d23a6e37e0a6431a8f1b43a91026dcff51170a89a6512...       NaN   \n",
              "4      9b2d5b4678781e53038e91ea5324530a03f27dc1d0e5f6...       NaN   \n",
              "...                                                  ...       ...   \n",
              "46603  8d23a6e37e0a6431a8f1b43a91026dcff51170a89a6512...    Studio   \n",
              "46604  8d23a6e37e0a6431a8f1b43a91026dcff51170a89a6512...    Studio   \n",
              "46605  8d23a6e37e0a6431a8f1b43a91026dcff51170a89a6512...    Studio   \n",
              "46606  8d23a6e37e0a6431a8f1b43a91026dcff51170a89a6512...       NaN   \n",
              "46607  8d23a6e37e0a6431a8f1b43a91026dcff51170a89a6512...    Studio   \n",
              "\n",
              "                                                 lead_id  \n",
              "0      cd5dc0d9393f3980d11d4ba6f88f8110c2b7a7f7796307...  \n",
              "1      b94693673a5f7178d1b114e4004ad52377d3244dd24a3d...  \n",
              "2      96ea4e2bf04496c044745938c0299c264c3f4ba079e572...  \n",
              "3      1d2b34d8add02a182a4129023766ca4585a8ddced0e5b3...  \n",
              "4      fc10fffd29cfbe93c55158fb47752a7501c211d253468c...  \n",
              "...                                                  ...  \n",
              "46603  1aaa4a4a9092e4c0eabf958ed9aea59c50d8ea3f08f691...  \n",
              "46604  1f90dbad4873cb9673ff3c7ec69fbac4289181453c6cea...  \n",
              "46605  d9e0f455b68a6573544ffac32292541a510fe2daffe2bb...  \n",
              "46606  1f90dbad4873cb9673ff3c7ec69fbac4289181453c6cea...  \n",
              "46607  7520a8abba2b44d7f37c0ddbe5f7f3d87540b2b7a670e9...  \n",
              "\n",
              "[46317 rows x 15 columns]"
            ],
            "text/html": [
              "\n",
              "  <div id=\"df-c26de3dc-aec4-4868-ab25-8ecf8cd3b87c\">\n",
              "    <div class=\"colab-df-container\">\n",
              "      <div>\n",
              "<style scoped>\n",
              "    .dataframe tbody tr th:only-of-type {\n",
              "        vertical-align: middle;\n",
              "    }\n",
              "\n",
              "    .dataframe tbody tr th {\n",
              "        vertical-align: top;\n",
              "    }\n",
              "\n",
              "    .dataframe thead th {\n",
              "        text-align: right;\n",
              "    }\n",
              "</style>\n",
              "<table border=\"1\" class=\"dataframe\">\n",
              "  <thead>\n",
              "    <tr style=\"text-align: right;\">\n",
              "      <th></th>\n",
              "      <th>Agent_id</th>\n",
              "      <th>status</th>\n",
              "      <th>lost_reason</th>\n",
              "      <th>budget</th>\n",
              "      <th>lease</th>\n",
              "      <th>movein</th>\n",
              "      <th>source</th>\n",
              "      <th>source_city</th>\n",
              "      <th>source_country</th>\n",
              "      <th>utm_source</th>\n",
              "      <th>utm_medium</th>\n",
              "      <th>des_city</th>\n",
              "      <th>des_country</th>\n",
              "      <th>room_type</th>\n",
              "      <th>lead_id</th>\n",
              "    </tr>\n",
              "  </thead>\n",
              "  <tbody>\n",
              "    <tr>\n",
              "      <th>0</th>\n",
              "      <td>1deba9e96f404694373de9749ddd1ca8aa7bb823145a6f...</td>\n",
              "      <td>LOST</td>\n",
              "      <td>Not responding</td>\n",
              "      <td>0</td>\n",
              "      <td>0</td>\n",
              "      <td>NaT</td>\n",
              "      <td>9b2d5b4678781e53038e91ea5324530a03f27dc1d0e5f6...</td>\n",
              "      <td>9b2d5b4678781e53038e91ea5324530a03f27dc1d0e5f6...</td>\n",
              "      <td>9b2d5b4678781e53038e91ea5324530a03f27dc1d0e5f6...</td>\n",
              "      <td>3d59f7548e1af2151b64135003ce63c0a484c26b9b8b16...</td>\n",
              "      <td>268ad70eb5bc4737a2ae28162cbca30118cc94520e49ef...</td>\n",
              "      <td>ecc0e7dc084f141b29479058967d0bc07dee25d9690a98...</td>\n",
              "      <td>8d23a6e37e0a6431a8f1b43a91026dcff51170a89a6512...</td>\n",
              "      <td>NaN</td>\n",
              "      <td>cd5dc0d9393f3980d11d4ba6f88f8110c2b7a7f7796307...</td>\n",
              "    </tr>\n",
              "    <tr>\n",
              "      <th>1</th>\n",
              "      <td>299ae77a4ef350ae0dd37d6bba1c002d03444fb1edb236...</td>\n",
              "      <td>LOST</td>\n",
              "      <td>Low budget</td>\n",
              "      <td>0</td>\n",
              "      <td>0</td>\n",
              "      <td>NaT</td>\n",
              "      <td>9b2d5b4678781e53038e91ea5324530a03f27dc1d0e5f6...</td>\n",
              "      <td>9b2d5b4678781e53038e91ea5324530a03f27dc1d0e5f6...</td>\n",
              "      <td>9b2d5b4678781e53038e91ea5324530a03f27dc1d0e5f6...</td>\n",
              "      <td>3d59f7548e1af2151b64135003ce63c0a484c26b9b8b16...</td>\n",
              "      <td>268ad70eb5bc4737a2ae28162cbca30118cc94520e49ef...</td>\n",
              "      <td>5372372f3bf5896820cb2819300c3e681820d82c6efc54...</td>\n",
              "      <td>8d23a6e37e0a6431a8f1b43a91026dcff51170a89a6512...</td>\n",
              "      <td>NaN</td>\n",
              "      <td>b94693673a5f7178d1b114e4004ad52377d3244dd24a3d...</td>\n",
              "    </tr>\n",
              "    <tr>\n",
              "      <th>2</th>\n",
              "      <td>c213697430c006013012dd2aca82dd9732aa0a1a6bca13...</td>\n",
              "      <td>LOST</td>\n",
              "      <td>Not responding</td>\n",
              "      <td>£121 - £180 Per Week</td>\n",
              "      <td>Full Year Course Stay 40 - 44 weeks</td>\n",
              "      <td>2022-08-31</td>\n",
              "      <td>7aae3e886e89fc1187a5c47d6cea1c22998ee610ade1f2...</td>\n",
              "      <td>9b8cc3c63cdf447e463c11544924bf027945cbd29675f7...</td>\n",
              "      <td>e09e10e67812e9d236ad900e5d46b4308fc62f5d69446a...</td>\n",
              "      <td>bbdefa2950f49882f295b1285d4fa9dec45fc4144bfb07...</td>\n",
              "      <td>09076eb7665d1fb9389c7c4517fee0b00e43092eb34821...</td>\n",
              "      <td>11ab03a1a8c367191355c152f39fe28cae5e426fce49ef...</td>\n",
              "      <td>8d23a6e37e0a6431a8f1b43a91026dcff51170a89a6512...</td>\n",
              "      <td>Ensuite</td>\n",
              "      <td>96ea4e2bf04496c044745938c0299c264c3f4ba079e572...</td>\n",
              "    </tr>\n",
              "    <tr>\n",
              "      <th>3</th>\n",
              "      <td>eac9815a500f908736d303e23aa227f0957177b0e6756b...</td>\n",
              "      <td>LOST</td>\n",
              "      <td>Low budget</td>\n",
              "      <td>0-0</td>\n",
              "      <td>0.0</td>\n",
              "      <td>NaT</td>\n",
              "      <td>ba2d0a29556ac20f86f45e4543c0825428cba33fd7a9ea...</td>\n",
              "      <td>a5f0d2d08eb0592087e3a3a2f9c1ba2c67cc30f2efd2bd...</td>\n",
              "      <td>e09e10e67812e9d236ad900e5d46b4308fc62f5d69446a...</td>\n",
              "      <td>bbdefa2950f49882f295b1285d4fa9dec45fc4144bfb07...</td>\n",
              "      <td>09076eb7665d1fb9389c7c4517fee0b00e43092eb34821...</td>\n",
              "      <td>19372fa44c57a01c37a5a8418779ca3d99b0b59731fb35...</td>\n",
              "      <td>8d23a6e37e0a6431a8f1b43a91026dcff51170a89a6512...</td>\n",
              "      <td>NaN</td>\n",
              "      <td>1d2b34d8add02a182a4129023766ca4585a8ddced0e5b3...</td>\n",
              "    </tr>\n",
              "    <tr>\n",
              "      <th>4</th>\n",
              "      <td>1deba9e96f404694373de9749ddd1ca8aa7bb823145a6f...</td>\n",
              "      <td>LOST</td>\n",
              "      <td>Junk lead</td>\n",
              "      <td>0</td>\n",
              "      <td>0</td>\n",
              "      <td>NaT</td>\n",
              "      <td>9b2d5b4678781e53038e91ea5324530a03f27dc1d0e5f6...</td>\n",
              "      <td>9b2d5b4678781e53038e91ea5324530a03f27dc1d0e5f6...</td>\n",
              "      <td>9b2d5b4678781e53038e91ea5324530a03f27dc1d0e5f6...</td>\n",
              "      <td>3d59f7548e1af2151b64135003ce63c0a484c26b9b8b16...</td>\n",
              "      <td>268ad70eb5bc4737a2ae28162cbca30118cc94520e49ef...</td>\n",
              "      <td>9b2d5b4678781e53038e91ea5324530a03f27dc1d0e5f6...</td>\n",
              "      <td>9b2d5b4678781e53038e91ea5324530a03f27dc1d0e5f6...</td>\n",
              "      <td>NaN</td>\n",
              "      <td>fc10fffd29cfbe93c55158fb47752a7501c211d253468c...</td>\n",
              "    </tr>\n",
              "    <tr>\n",
              "      <th>...</th>\n",
              "      <td>...</td>\n",
              "      <td>...</td>\n",
              "      <td>...</td>\n",
              "      <td>...</td>\n",
              "      <td>...</td>\n",
              "      <td>...</td>\n",
              "      <td>...</td>\n",
              "      <td>...</td>\n",
              "      <td>...</td>\n",
              "      <td>...</td>\n",
              "      <td>...</td>\n",
              "      <td>...</td>\n",
              "      <td>...</td>\n",
              "      <td>...</td>\n",
              "      <td>...</td>\n",
              "    </tr>\n",
              "    <tr>\n",
              "      <th>46603</th>\n",
              "      <td>2306878a9ad9b57686cd623dd285aaa9b25afdf627f651...</td>\n",
              "      <td>LOST</td>\n",
              "      <td>Low availability</td>\n",
              "      <td>£60 - £120 Per week</td>\n",
              "      <td>Complete Education Year Stay 50 - 52 weeks</td>\n",
              "      <td>2022-09-01</td>\n",
              "      <td>9b2d5b4678781e53038e91ea5324530a03f27dc1d0e5f6...</td>\n",
              "      <td>7d1550b844ff586a6023216c06263105eed0a849a2a1f6...</td>\n",
              "      <td>8da82000ef9c4468ba47362a924b895e40662fed846942...</td>\n",
              "      <td>bbdefa2950f49882f295b1285d4fa9dec45fc4144bfb07...</td>\n",
              "      <td>09076eb7665d1fb9389c7c4517fee0b00e43092eb34821...</td>\n",
              "      <td>13d4b96b6ee361b737e22404aeecca45f322ba7d4c2c42...</td>\n",
              "      <td>8d23a6e37e0a6431a8f1b43a91026dcff51170a89a6512...</td>\n",
              "      <td>Studio</td>\n",
              "      <td>1aaa4a4a9092e4c0eabf958ed9aea59c50d8ea3f08f691...</td>\n",
              "    </tr>\n",
              "    <tr>\n",
              "      <th>46604</th>\n",
              "      <td>327ec29056cc47c24bf922f7dc0f78261dad5c726d7353...</td>\n",
              "      <td>LOST</td>\n",
              "      <td>Semester stay</td>\n",
              "      <td>£60 - £120 Per week</td>\n",
              "      <td>Summer/Short Stay 8 - 12 weeks</td>\n",
              "      <td>2022-09-29</td>\n",
              "      <td>9b2d5b4678781e53038e91ea5324530a03f27dc1d0e5f6...</td>\n",
              "      <td>9f2ba6981e36ea0fca6c16f42e6413d788d2a7499b8b7f...</td>\n",
              "      <td>8da82000ef9c4468ba47362a924b895e40662fed846942...</td>\n",
              "      <td>bbdefa2950f49882f295b1285d4fa9dec45fc4144bfb07...</td>\n",
              "      <td>09076eb7665d1fb9389c7c4517fee0b00e43092eb34821...</td>\n",
              "      <td>998c18dc0e513ab0035c7b858e3780bbbead88695a15de...</td>\n",
              "      <td>8d23a6e37e0a6431a8f1b43a91026dcff51170a89a6512...</td>\n",
              "      <td>Studio</td>\n",
              "      <td>1f90dbad4873cb9673ff3c7ec69fbac4289181453c6cea...</td>\n",
              "    </tr>\n",
              "    <tr>\n",
              "      <th>46605</th>\n",
              "      <td>1134c0a7d44fdae1afd7f1f64e2789496784095ca0a050...</td>\n",
              "      <td>LOST</td>\n",
              "      <td>Low availability</td>\n",
              "      <td>£241 - £300 Per week</td>\n",
              "      <td>Full Year Course Stay 40 - 44 weeks</td>\n",
              "      <td>2022-09-20</td>\n",
              "      <td>7aae3e886e89fc1187a5c47d6cea1c22998ee610ade1f2...</td>\n",
              "      <td>7d1550b844ff586a6023216c06263105eed0a849a2a1f6...</td>\n",
              "      <td>8da82000ef9c4468ba47362a924b895e40662fed846942...</td>\n",
              "      <td>bbdefa2950f49882f295b1285d4fa9dec45fc4144bfb07...</td>\n",
              "      <td>09076eb7665d1fb9389c7c4517fee0b00e43092eb34821...</td>\n",
              "      <td>ecc0e7dc084f141b29479058967d0bc07dee25d9690a98...</td>\n",
              "      <td>8d23a6e37e0a6431a8f1b43a91026dcff51170a89a6512...</td>\n",
              "      <td>Studio</td>\n",
              "      <td>d9e0f455b68a6573544ffac32292541a510fe2daffe2bb...</td>\n",
              "    </tr>\n",
              "    <tr>\n",
              "      <th>46606</th>\n",
              "      <td>8b8b029f1142f5cbc825aa6cbee01406c915c6b055db79...</td>\n",
              "      <td>LOST</td>\n",
              "      <td>Low availability</td>\n",
              "      <td>1108.0</td>\n",
              "      <td>294.0</td>\n",
              "      <td>2022-08-30</td>\n",
              "      <td>d684761c17c11590f6e2525b48141cb2c0c6f2be5df4e2...</td>\n",
              "      <td>e9c722cbefc2f055ae60b4e2cbe73a2d99537eab0c37f3...</td>\n",
              "      <td>b936ee09e20b3b2234907cde349cda1c1a5327c4a486bf...</td>\n",
              "      <td>7f3fa48ca885678134842fa7456f3ece53a97f843b6101...</td>\n",
              "      <td>abb8e2badd5b6265c3237170cc599257a4f566706715d2...</td>\n",
              "      <td>ecc0e7dc084f141b29479058967d0bc07dee25d9690a98...</td>\n",
              "      <td>8d23a6e37e0a6431a8f1b43a91026dcff51170a89a6512...</td>\n",
              "      <td>NaN</td>\n",
              "      <td>1f90dbad4873cb9673ff3c7ec69fbac4289181453c6cea...</td>\n",
              "    </tr>\n",
              "    <tr>\n",
              "      <th>46607</th>\n",
              "      <td>1ea65ea38f2f574b3875ba895e4ff76b284b7725041612...</td>\n",
              "      <td>LOST</td>\n",
              "      <td>Low availability</td>\n",
              "      <td>£181 - £240 Per Week</td>\n",
              "      <td>Full Year Course Stay 40 - 44 weeks</td>\n",
              "      <td>2022-09-01</td>\n",
              "      <td>7aae3e886e89fc1187a5c47d6cea1c22998ee610ade1f2...</td>\n",
              "      <td>1496126b7015defbc3b1d129a46096a5c135075aff2add...</td>\n",
              "      <td>e09e10e67812e9d236ad900e5d46b4308fc62f5d69446a...</td>\n",
              "      <td>bbdefa2950f49882f295b1285d4fa9dec45fc4144bfb07...</td>\n",
              "      <td>09076eb7665d1fb9389c7c4517fee0b00e43092eb34821...</td>\n",
              "      <td>618738f7143c9b43a98a6b42d743a6595069a9b4dcf42d...</td>\n",
              "      <td>8d23a6e37e0a6431a8f1b43a91026dcff51170a89a6512...</td>\n",
              "      <td>Studio</td>\n",
              "      <td>7520a8abba2b44d7f37c0ddbe5f7f3d87540b2b7a670e9...</td>\n",
              "    </tr>\n",
              "  </tbody>\n",
              "</table>\n",
              "<p>46317 rows × 15 columns</p>\n",
              "</div>\n",
              "      <button class=\"colab-df-convert\" onclick=\"convertToInteractive('df-c26de3dc-aec4-4868-ab25-8ecf8cd3b87c')\"\n",
              "              title=\"Convert this dataframe to an interactive table.\"\n",
              "              style=\"display:none;\">\n",
              "        \n",
              "  <svg xmlns=\"http://www.w3.org/2000/svg\" height=\"24px\"viewBox=\"0 0 24 24\"\n",
              "       width=\"24px\">\n",
              "    <path d=\"M0 0h24v24H0V0z\" fill=\"none\"/>\n",
              "    <path d=\"M18.56 5.44l.94 2.06.94-2.06 2.06-.94-2.06-.94-.94-2.06-.94 2.06-2.06.94zm-11 1L8.5 8.5l.94-2.06 2.06-.94-2.06-.94L8.5 2.5l-.94 2.06-2.06.94zm10 10l.94 2.06.94-2.06 2.06-.94-2.06-.94-.94-2.06-.94 2.06-2.06.94z\"/><path d=\"M17.41 7.96l-1.37-1.37c-.4-.4-.92-.59-1.43-.59-.52 0-1.04.2-1.43.59L10.3 9.45l-7.72 7.72c-.78.78-.78 2.05 0 2.83L4 21.41c.39.39.9.59 1.41.59.51 0 1.02-.2 1.41-.59l7.78-7.78 2.81-2.81c.8-.78.8-2.07 0-2.86zM5.41 20L4 18.59l7.72-7.72 1.47 1.35L5.41 20z\"/>\n",
              "  </svg>\n",
              "      </button>\n",
              "      \n",
              "  <style>\n",
              "    .colab-df-container {\n",
              "      display:flex;\n",
              "      flex-wrap:wrap;\n",
              "      gap: 12px;\n",
              "    }\n",
              "\n",
              "    .colab-df-convert {\n",
              "      background-color: #E8F0FE;\n",
              "      border: none;\n",
              "      border-radius: 50%;\n",
              "      cursor: pointer;\n",
              "      display: none;\n",
              "      fill: #1967D2;\n",
              "      height: 32px;\n",
              "      padding: 0 0 0 0;\n",
              "      width: 32px;\n",
              "    }\n",
              "\n",
              "    .colab-df-convert:hover {\n",
              "      background-color: #E2EBFA;\n",
              "      box-shadow: 0px 1px 2px rgba(60, 64, 67, 0.3), 0px 1px 3px 1px rgba(60, 64, 67, 0.15);\n",
              "      fill: #174EA6;\n",
              "    }\n",
              "\n",
              "    [theme=dark] .colab-df-convert {\n",
              "      background-color: #3B4455;\n",
              "      fill: #D2E3FC;\n",
              "    }\n",
              "\n",
              "    [theme=dark] .colab-df-convert:hover {\n",
              "      background-color: #434B5C;\n",
              "      box-shadow: 0px 1px 3px 1px rgba(0, 0, 0, 0.15);\n",
              "      filter: drop-shadow(0px 1px 2px rgba(0, 0, 0, 0.3));\n",
              "      fill: #FFFFFF;\n",
              "    }\n",
              "  </style>\n",
              "\n",
              "      <script>\n",
              "        const buttonEl =\n",
              "          document.querySelector('#df-c26de3dc-aec4-4868-ab25-8ecf8cd3b87c button.colab-df-convert');\n",
              "        buttonEl.style.display =\n",
              "          google.colab.kernel.accessAllowed ? 'block' : 'none';\n",
              "\n",
              "        async function convertToInteractive(key) {\n",
              "          const element = document.querySelector('#df-c26de3dc-aec4-4868-ab25-8ecf8cd3b87c');\n",
              "          const dataTable =\n",
              "            await google.colab.kernel.invokeFunction('convertToInteractive',\n",
              "                                                     [key], {});\n",
              "          if (!dataTable) return;\n",
              "\n",
              "          const docLinkHtml = 'Like what you see? Visit the ' +\n",
              "            '<a target=\"_blank\" href=https://colab.research.google.com/notebooks/data_table.ipynb>data table notebook</a>'\n",
              "            + ' to learn more about interactive tables.';\n",
              "          element.innerHTML = '';\n",
              "          dataTable['output_type'] = 'display_data';\n",
              "          await google.colab.output.renderOutput(dataTable, element);\n",
              "          const docLink = document.createElement('div');\n",
              "          docLink.innerHTML = docLinkHtml;\n",
              "          element.appendChild(docLink);\n",
              "        }\n",
              "      </script>\n",
              "    </div>\n",
              "  </div>\n",
              "  "
            ]
          },
          "metadata": {},
          "execution_count": 10
        }
      ]
    },
    {
      "cell_type": "markdown",
      "source": [
        "#### As lease and budget contains some rows with statement, so dealing with those rows."
      ],
      "metadata": {
        "id": "MIClqt6HQV9-"
      }
    },
    {
      "cell_type": "code",
      "source": [
        "dataset['lease'] = dataset['lease'].str.extract('(\\d+)')\n",
        "dataset['budget'] = dataset['budget'].str.extract('(\\d+)')\n",
        "dataset"
      ],
      "metadata": {
        "colab": {
          "base_uri": "https://localhost:8080/",
          "height": 609
        },
        "id": "5Z1uK5EGQWsd",
        "outputId": "4790c619-ded3-49e7-b43f-6a0d29fad103"
      },
      "execution_count": 11,
      "outputs": [
        {
          "output_type": "execute_result",
          "data": {
            "text/plain": [
              "                                                Agent_id status  \\\n",
              "0      1deba9e96f404694373de9749ddd1ca8aa7bb823145a6f...   LOST   \n",
              "1      299ae77a4ef350ae0dd37d6bba1c002d03444fb1edb236...   LOST   \n",
              "2      c213697430c006013012dd2aca82dd9732aa0a1a6bca13...   LOST   \n",
              "3      eac9815a500f908736d303e23aa227f0957177b0e6756b...   LOST   \n",
              "4      1deba9e96f404694373de9749ddd1ca8aa7bb823145a6f...   LOST   \n",
              "...                                                  ...    ...   \n",
              "46603  2306878a9ad9b57686cd623dd285aaa9b25afdf627f651...   LOST   \n",
              "46604  327ec29056cc47c24bf922f7dc0f78261dad5c726d7353...   LOST   \n",
              "46605  1134c0a7d44fdae1afd7f1f64e2789496784095ca0a050...   LOST   \n",
              "46606  8b8b029f1142f5cbc825aa6cbee01406c915c6b055db79...   LOST   \n",
              "46607  1ea65ea38f2f574b3875ba895e4ff76b284b7725041612...   LOST   \n",
              "\n",
              "            lost_reason budget lease     movein  \\\n",
              "0        Not responding      0     0        NaT   \n",
              "1            Low budget      0     0        NaT   \n",
              "2        Not responding    121    40 2022-08-31   \n",
              "3            Low budget      0   NaN        NaT   \n",
              "4             Junk lead      0     0        NaT   \n",
              "...                 ...    ...   ...        ...   \n",
              "46603  Low availability     60    50 2022-09-01   \n",
              "46604     Semester stay     60     8 2022-09-29   \n",
              "46605  Low availability    241    40 2022-09-20   \n",
              "46606  Low availability    NaN   NaN 2022-08-30   \n",
              "46607  Low availability    181    40 2022-09-01   \n",
              "\n",
              "                                                  source  \\\n",
              "0      9b2d5b4678781e53038e91ea5324530a03f27dc1d0e5f6...   \n",
              "1      9b2d5b4678781e53038e91ea5324530a03f27dc1d0e5f6...   \n",
              "2      7aae3e886e89fc1187a5c47d6cea1c22998ee610ade1f2...   \n",
              "3      ba2d0a29556ac20f86f45e4543c0825428cba33fd7a9ea...   \n",
              "4      9b2d5b4678781e53038e91ea5324530a03f27dc1d0e5f6...   \n",
              "...                                                  ...   \n",
              "46603  9b2d5b4678781e53038e91ea5324530a03f27dc1d0e5f6...   \n",
              "46604  9b2d5b4678781e53038e91ea5324530a03f27dc1d0e5f6...   \n",
              "46605  7aae3e886e89fc1187a5c47d6cea1c22998ee610ade1f2...   \n",
              "46606  d684761c17c11590f6e2525b48141cb2c0c6f2be5df4e2...   \n",
              "46607  7aae3e886e89fc1187a5c47d6cea1c22998ee610ade1f2...   \n",
              "\n",
              "                                             source_city  \\\n",
              "0      9b2d5b4678781e53038e91ea5324530a03f27dc1d0e5f6...   \n",
              "1      9b2d5b4678781e53038e91ea5324530a03f27dc1d0e5f6...   \n",
              "2      9b8cc3c63cdf447e463c11544924bf027945cbd29675f7...   \n",
              "3      a5f0d2d08eb0592087e3a3a2f9c1ba2c67cc30f2efd2bd...   \n",
              "4      9b2d5b4678781e53038e91ea5324530a03f27dc1d0e5f6...   \n",
              "...                                                  ...   \n",
              "46603  7d1550b844ff586a6023216c06263105eed0a849a2a1f6...   \n",
              "46604  9f2ba6981e36ea0fca6c16f42e6413d788d2a7499b8b7f...   \n",
              "46605  7d1550b844ff586a6023216c06263105eed0a849a2a1f6...   \n",
              "46606  e9c722cbefc2f055ae60b4e2cbe73a2d99537eab0c37f3...   \n",
              "46607  1496126b7015defbc3b1d129a46096a5c135075aff2add...   \n",
              "\n",
              "                                          source_country  \\\n",
              "0      9b2d5b4678781e53038e91ea5324530a03f27dc1d0e5f6...   \n",
              "1      9b2d5b4678781e53038e91ea5324530a03f27dc1d0e5f6...   \n",
              "2      e09e10e67812e9d236ad900e5d46b4308fc62f5d69446a...   \n",
              "3      e09e10e67812e9d236ad900e5d46b4308fc62f5d69446a...   \n",
              "4      9b2d5b4678781e53038e91ea5324530a03f27dc1d0e5f6...   \n",
              "...                                                  ...   \n",
              "46603  8da82000ef9c4468ba47362a924b895e40662fed846942...   \n",
              "46604  8da82000ef9c4468ba47362a924b895e40662fed846942...   \n",
              "46605  8da82000ef9c4468ba47362a924b895e40662fed846942...   \n",
              "46606  b936ee09e20b3b2234907cde349cda1c1a5327c4a486bf...   \n",
              "46607  e09e10e67812e9d236ad900e5d46b4308fc62f5d69446a...   \n",
              "\n",
              "                                              utm_source  \\\n",
              "0      3d59f7548e1af2151b64135003ce63c0a484c26b9b8b16...   \n",
              "1      3d59f7548e1af2151b64135003ce63c0a484c26b9b8b16...   \n",
              "2      bbdefa2950f49882f295b1285d4fa9dec45fc4144bfb07...   \n",
              "3      bbdefa2950f49882f295b1285d4fa9dec45fc4144bfb07...   \n",
              "4      3d59f7548e1af2151b64135003ce63c0a484c26b9b8b16...   \n",
              "...                                                  ...   \n",
              "46603  bbdefa2950f49882f295b1285d4fa9dec45fc4144bfb07...   \n",
              "46604  bbdefa2950f49882f295b1285d4fa9dec45fc4144bfb07...   \n",
              "46605  bbdefa2950f49882f295b1285d4fa9dec45fc4144bfb07...   \n",
              "46606  7f3fa48ca885678134842fa7456f3ece53a97f843b6101...   \n",
              "46607  bbdefa2950f49882f295b1285d4fa9dec45fc4144bfb07...   \n",
              "\n",
              "                                              utm_medium  \\\n",
              "0      268ad70eb5bc4737a2ae28162cbca30118cc94520e49ef...   \n",
              "1      268ad70eb5bc4737a2ae28162cbca30118cc94520e49ef...   \n",
              "2      09076eb7665d1fb9389c7c4517fee0b00e43092eb34821...   \n",
              "3      09076eb7665d1fb9389c7c4517fee0b00e43092eb34821...   \n",
              "4      268ad70eb5bc4737a2ae28162cbca30118cc94520e49ef...   \n",
              "...                                                  ...   \n",
              "46603  09076eb7665d1fb9389c7c4517fee0b00e43092eb34821...   \n",
              "46604  09076eb7665d1fb9389c7c4517fee0b00e43092eb34821...   \n",
              "46605  09076eb7665d1fb9389c7c4517fee0b00e43092eb34821...   \n",
              "46606  abb8e2badd5b6265c3237170cc599257a4f566706715d2...   \n",
              "46607  09076eb7665d1fb9389c7c4517fee0b00e43092eb34821...   \n",
              "\n",
              "                                                des_city  \\\n",
              "0      ecc0e7dc084f141b29479058967d0bc07dee25d9690a98...   \n",
              "1      5372372f3bf5896820cb2819300c3e681820d82c6efc54...   \n",
              "2      11ab03a1a8c367191355c152f39fe28cae5e426fce49ef...   \n",
              "3      19372fa44c57a01c37a5a8418779ca3d99b0b59731fb35...   \n",
              "4      9b2d5b4678781e53038e91ea5324530a03f27dc1d0e5f6...   \n",
              "...                                                  ...   \n",
              "46603  13d4b96b6ee361b737e22404aeecca45f322ba7d4c2c42...   \n",
              "46604  998c18dc0e513ab0035c7b858e3780bbbead88695a15de...   \n",
              "46605  ecc0e7dc084f141b29479058967d0bc07dee25d9690a98...   \n",
              "46606  ecc0e7dc084f141b29479058967d0bc07dee25d9690a98...   \n",
              "46607  618738f7143c9b43a98a6b42d743a6595069a9b4dcf42d...   \n",
              "\n",
              "                                             des_country room_type  \\\n",
              "0      8d23a6e37e0a6431a8f1b43a91026dcff51170a89a6512...       NaN   \n",
              "1      8d23a6e37e0a6431a8f1b43a91026dcff51170a89a6512...       NaN   \n",
              "2      8d23a6e37e0a6431a8f1b43a91026dcff51170a89a6512...   Ensuite   \n",
              "3      8d23a6e37e0a6431a8f1b43a91026dcff51170a89a6512...       NaN   \n",
              "4      9b2d5b4678781e53038e91ea5324530a03f27dc1d0e5f6...       NaN   \n",
              "...                                                  ...       ...   \n",
              "46603  8d23a6e37e0a6431a8f1b43a91026dcff51170a89a6512...    Studio   \n",
              "46604  8d23a6e37e0a6431a8f1b43a91026dcff51170a89a6512...    Studio   \n",
              "46605  8d23a6e37e0a6431a8f1b43a91026dcff51170a89a6512...    Studio   \n",
              "46606  8d23a6e37e0a6431a8f1b43a91026dcff51170a89a6512...       NaN   \n",
              "46607  8d23a6e37e0a6431a8f1b43a91026dcff51170a89a6512...    Studio   \n",
              "\n",
              "                                                 lead_id  \n",
              "0      cd5dc0d9393f3980d11d4ba6f88f8110c2b7a7f7796307...  \n",
              "1      b94693673a5f7178d1b114e4004ad52377d3244dd24a3d...  \n",
              "2      96ea4e2bf04496c044745938c0299c264c3f4ba079e572...  \n",
              "3      1d2b34d8add02a182a4129023766ca4585a8ddced0e5b3...  \n",
              "4      fc10fffd29cfbe93c55158fb47752a7501c211d253468c...  \n",
              "...                                                  ...  \n",
              "46603  1aaa4a4a9092e4c0eabf958ed9aea59c50d8ea3f08f691...  \n",
              "46604  1f90dbad4873cb9673ff3c7ec69fbac4289181453c6cea...  \n",
              "46605  d9e0f455b68a6573544ffac32292541a510fe2daffe2bb...  \n",
              "46606  1f90dbad4873cb9673ff3c7ec69fbac4289181453c6cea...  \n",
              "46607  7520a8abba2b44d7f37c0ddbe5f7f3d87540b2b7a670e9...  \n",
              "\n",
              "[46317 rows x 15 columns]"
            ],
            "text/html": [
              "\n",
              "  <div id=\"df-ad511547-1c46-4ba0-b62a-3a9597adf655\">\n",
              "    <div class=\"colab-df-container\">\n",
              "      <div>\n",
              "<style scoped>\n",
              "    .dataframe tbody tr th:only-of-type {\n",
              "        vertical-align: middle;\n",
              "    }\n",
              "\n",
              "    .dataframe tbody tr th {\n",
              "        vertical-align: top;\n",
              "    }\n",
              "\n",
              "    .dataframe thead th {\n",
              "        text-align: right;\n",
              "    }\n",
              "</style>\n",
              "<table border=\"1\" class=\"dataframe\">\n",
              "  <thead>\n",
              "    <tr style=\"text-align: right;\">\n",
              "      <th></th>\n",
              "      <th>Agent_id</th>\n",
              "      <th>status</th>\n",
              "      <th>lost_reason</th>\n",
              "      <th>budget</th>\n",
              "      <th>lease</th>\n",
              "      <th>movein</th>\n",
              "      <th>source</th>\n",
              "      <th>source_city</th>\n",
              "      <th>source_country</th>\n",
              "      <th>utm_source</th>\n",
              "      <th>utm_medium</th>\n",
              "      <th>des_city</th>\n",
              "      <th>des_country</th>\n",
              "      <th>room_type</th>\n",
              "      <th>lead_id</th>\n",
              "    </tr>\n",
              "  </thead>\n",
              "  <tbody>\n",
              "    <tr>\n",
              "      <th>0</th>\n",
              "      <td>1deba9e96f404694373de9749ddd1ca8aa7bb823145a6f...</td>\n",
              "      <td>LOST</td>\n",
              "      <td>Not responding</td>\n",
              "      <td>0</td>\n",
              "      <td>0</td>\n",
              "      <td>NaT</td>\n",
              "      <td>9b2d5b4678781e53038e91ea5324530a03f27dc1d0e5f6...</td>\n",
              "      <td>9b2d5b4678781e53038e91ea5324530a03f27dc1d0e5f6...</td>\n",
              "      <td>9b2d5b4678781e53038e91ea5324530a03f27dc1d0e5f6...</td>\n",
              "      <td>3d59f7548e1af2151b64135003ce63c0a484c26b9b8b16...</td>\n",
              "      <td>268ad70eb5bc4737a2ae28162cbca30118cc94520e49ef...</td>\n",
              "      <td>ecc0e7dc084f141b29479058967d0bc07dee25d9690a98...</td>\n",
              "      <td>8d23a6e37e0a6431a8f1b43a91026dcff51170a89a6512...</td>\n",
              "      <td>NaN</td>\n",
              "      <td>cd5dc0d9393f3980d11d4ba6f88f8110c2b7a7f7796307...</td>\n",
              "    </tr>\n",
              "    <tr>\n",
              "      <th>1</th>\n",
              "      <td>299ae77a4ef350ae0dd37d6bba1c002d03444fb1edb236...</td>\n",
              "      <td>LOST</td>\n",
              "      <td>Low budget</td>\n",
              "      <td>0</td>\n",
              "      <td>0</td>\n",
              "      <td>NaT</td>\n",
              "      <td>9b2d5b4678781e53038e91ea5324530a03f27dc1d0e5f6...</td>\n",
              "      <td>9b2d5b4678781e53038e91ea5324530a03f27dc1d0e5f6...</td>\n",
              "      <td>9b2d5b4678781e53038e91ea5324530a03f27dc1d0e5f6...</td>\n",
              "      <td>3d59f7548e1af2151b64135003ce63c0a484c26b9b8b16...</td>\n",
              "      <td>268ad70eb5bc4737a2ae28162cbca30118cc94520e49ef...</td>\n",
              "      <td>5372372f3bf5896820cb2819300c3e681820d82c6efc54...</td>\n",
              "      <td>8d23a6e37e0a6431a8f1b43a91026dcff51170a89a6512...</td>\n",
              "      <td>NaN</td>\n",
              "      <td>b94693673a5f7178d1b114e4004ad52377d3244dd24a3d...</td>\n",
              "    </tr>\n",
              "    <tr>\n",
              "      <th>2</th>\n",
              "      <td>c213697430c006013012dd2aca82dd9732aa0a1a6bca13...</td>\n",
              "      <td>LOST</td>\n",
              "      <td>Not responding</td>\n",
              "      <td>121</td>\n",
              "      <td>40</td>\n",
              "      <td>2022-08-31</td>\n",
              "      <td>7aae3e886e89fc1187a5c47d6cea1c22998ee610ade1f2...</td>\n",
              "      <td>9b8cc3c63cdf447e463c11544924bf027945cbd29675f7...</td>\n",
              "      <td>e09e10e67812e9d236ad900e5d46b4308fc62f5d69446a...</td>\n",
              "      <td>bbdefa2950f49882f295b1285d4fa9dec45fc4144bfb07...</td>\n",
              "      <td>09076eb7665d1fb9389c7c4517fee0b00e43092eb34821...</td>\n",
              "      <td>11ab03a1a8c367191355c152f39fe28cae5e426fce49ef...</td>\n",
              "      <td>8d23a6e37e0a6431a8f1b43a91026dcff51170a89a6512...</td>\n",
              "      <td>Ensuite</td>\n",
              "      <td>96ea4e2bf04496c044745938c0299c264c3f4ba079e572...</td>\n",
              "    </tr>\n",
              "    <tr>\n",
              "      <th>3</th>\n",
              "      <td>eac9815a500f908736d303e23aa227f0957177b0e6756b...</td>\n",
              "      <td>LOST</td>\n",
              "      <td>Low budget</td>\n",
              "      <td>0</td>\n",
              "      <td>NaN</td>\n",
              "      <td>NaT</td>\n",
              "      <td>ba2d0a29556ac20f86f45e4543c0825428cba33fd7a9ea...</td>\n",
              "      <td>a5f0d2d08eb0592087e3a3a2f9c1ba2c67cc30f2efd2bd...</td>\n",
              "      <td>e09e10e67812e9d236ad900e5d46b4308fc62f5d69446a...</td>\n",
              "      <td>bbdefa2950f49882f295b1285d4fa9dec45fc4144bfb07...</td>\n",
              "      <td>09076eb7665d1fb9389c7c4517fee0b00e43092eb34821...</td>\n",
              "      <td>19372fa44c57a01c37a5a8418779ca3d99b0b59731fb35...</td>\n",
              "      <td>8d23a6e37e0a6431a8f1b43a91026dcff51170a89a6512...</td>\n",
              "      <td>NaN</td>\n",
              "      <td>1d2b34d8add02a182a4129023766ca4585a8ddced0e5b3...</td>\n",
              "    </tr>\n",
              "    <tr>\n",
              "      <th>4</th>\n",
              "      <td>1deba9e96f404694373de9749ddd1ca8aa7bb823145a6f...</td>\n",
              "      <td>LOST</td>\n",
              "      <td>Junk lead</td>\n",
              "      <td>0</td>\n",
              "      <td>0</td>\n",
              "      <td>NaT</td>\n",
              "      <td>9b2d5b4678781e53038e91ea5324530a03f27dc1d0e5f6...</td>\n",
              "      <td>9b2d5b4678781e53038e91ea5324530a03f27dc1d0e5f6...</td>\n",
              "      <td>9b2d5b4678781e53038e91ea5324530a03f27dc1d0e5f6...</td>\n",
              "      <td>3d59f7548e1af2151b64135003ce63c0a484c26b9b8b16...</td>\n",
              "      <td>268ad70eb5bc4737a2ae28162cbca30118cc94520e49ef...</td>\n",
              "      <td>9b2d5b4678781e53038e91ea5324530a03f27dc1d0e5f6...</td>\n",
              "      <td>9b2d5b4678781e53038e91ea5324530a03f27dc1d0e5f6...</td>\n",
              "      <td>NaN</td>\n",
              "      <td>fc10fffd29cfbe93c55158fb47752a7501c211d253468c...</td>\n",
              "    </tr>\n",
              "    <tr>\n",
              "      <th>...</th>\n",
              "      <td>...</td>\n",
              "      <td>...</td>\n",
              "      <td>...</td>\n",
              "      <td>...</td>\n",
              "      <td>...</td>\n",
              "      <td>...</td>\n",
              "      <td>...</td>\n",
              "      <td>...</td>\n",
              "      <td>...</td>\n",
              "      <td>...</td>\n",
              "      <td>...</td>\n",
              "      <td>...</td>\n",
              "      <td>...</td>\n",
              "      <td>...</td>\n",
              "      <td>...</td>\n",
              "    </tr>\n",
              "    <tr>\n",
              "      <th>46603</th>\n",
              "      <td>2306878a9ad9b57686cd623dd285aaa9b25afdf627f651...</td>\n",
              "      <td>LOST</td>\n",
              "      <td>Low availability</td>\n",
              "      <td>60</td>\n",
              "      <td>50</td>\n",
              "      <td>2022-09-01</td>\n",
              "      <td>9b2d5b4678781e53038e91ea5324530a03f27dc1d0e5f6...</td>\n",
              "      <td>7d1550b844ff586a6023216c06263105eed0a849a2a1f6...</td>\n",
              "      <td>8da82000ef9c4468ba47362a924b895e40662fed846942...</td>\n",
              "      <td>bbdefa2950f49882f295b1285d4fa9dec45fc4144bfb07...</td>\n",
              "      <td>09076eb7665d1fb9389c7c4517fee0b00e43092eb34821...</td>\n",
              "      <td>13d4b96b6ee361b737e22404aeecca45f322ba7d4c2c42...</td>\n",
              "      <td>8d23a6e37e0a6431a8f1b43a91026dcff51170a89a6512...</td>\n",
              "      <td>Studio</td>\n",
              "      <td>1aaa4a4a9092e4c0eabf958ed9aea59c50d8ea3f08f691...</td>\n",
              "    </tr>\n",
              "    <tr>\n",
              "      <th>46604</th>\n",
              "      <td>327ec29056cc47c24bf922f7dc0f78261dad5c726d7353...</td>\n",
              "      <td>LOST</td>\n",
              "      <td>Semester stay</td>\n",
              "      <td>60</td>\n",
              "      <td>8</td>\n",
              "      <td>2022-09-29</td>\n",
              "      <td>9b2d5b4678781e53038e91ea5324530a03f27dc1d0e5f6...</td>\n",
              "      <td>9f2ba6981e36ea0fca6c16f42e6413d788d2a7499b8b7f...</td>\n",
              "      <td>8da82000ef9c4468ba47362a924b895e40662fed846942...</td>\n",
              "      <td>bbdefa2950f49882f295b1285d4fa9dec45fc4144bfb07...</td>\n",
              "      <td>09076eb7665d1fb9389c7c4517fee0b00e43092eb34821...</td>\n",
              "      <td>998c18dc0e513ab0035c7b858e3780bbbead88695a15de...</td>\n",
              "      <td>8d23a6e37e0a6431a8f1b43a91026dcff51170a89a6512...</td>\n",
              "      <td>Studio</td>\n",
              "      <td>1f90dbad4873cb9673ff3c7ec69fbac4289181453c6cea...</td>\n",
              "    </tr>\n",
              "    <tr>\n",
              "      <th>46605</th>\n",
              "      <td>1134c0a7d44fdae1afd7f1f64e2789496784095ca0a050...</td>\n",
              "      <td>LOST</td>\n",
              "      <td>Low availability</td>\n",
              "      <td>241</td>\n",
              "      <td>40</td>\n",
              "      <td>2022-09-20</td>\n",
              "      <td>7aae3e886e89fc1187a5c47d6cea1c22998ee610ade1f2...</td>\n",
              "      <td>7d1550b844ff586a6023216c06263105eed0a849a2a1f6...</td>\n",
              "      <td>8da82000ef9c4468ba47362a924b895e40662fed846942...</td>\n",
              "      <td>bbdefa2950f49882f295b1285d4fa9dec45fc4144bfb07...</td>\n",
              "      <td>09076eb7665d1fb9389c7c4517fee0b00e43092eb34821...</td>\n",
              "      <td>ecc0e7dc084f141b29479058967d0bc07dee25d9690a98...</td>\n",
              "      <td>8d23a6e37e0a6431a8f1b43a91026dcff51170a89a6512...</td>\n",
              "      <td>Studio</td>\n",
              "      <td>d9e0f455b68a6573544ffac32292541a510fe2daffe2bb...</td>\n",
              "    </tr>\n",
              "    <tr>\n",
              "      <th>46606</th>\n",
              "      <td>8b8b029f1142f5cbc825aa6cbee01406c915c6b055db79...</td>\n",
              "      <td>LOST</td>\n",
              "      <td>Low availability</td>\n",
              "      <td>NaN</td>\n",
              "      <td>NaN</td>\n",
              "      <td>2022-08-30</td>\n",
              "      <td>d684761c17c11590f6e2525b48141cb2c0c6f2be5df4e2...</td>\n",
              "      <td>e9c722cbefc2f055ae60b4e2cbe73a2d99537eab0c37f3...</td>\n",
              "      <td>b936ee09e20b3b2234907cde349cda1c1a5327c4a486bf...</td>\n",
              "      <td>7f3fa48ca885678134842fa7456f3ece53a97f843b6101...</td>\n",
              "      <td>abb8e2badd5b6265c3237170cc599257a4f566706715d2...</td>\n",
              "      <td>ecc0e7dc084f141b29479058967d0bc07dee25d9690a98...</td>\n",
              "      <td>8d23a6e37e0a6431a8f1b43a91026dcff51170a89a6512...</td>\n",
              "      <td>NaN</td>\n",
              "      <td>1f90dbad4873cb9673ff3c7ec69fbac4289181453c6cea...</td>\n",
              "    </tr>\n",
              "    <tr>\n",
              "      <th>46607</th>\n",
              "      <td>1ea65ea38f2f574b3875ba895e4ff76b284b7725041612...</td>\n",
              "      <td>LOST</td>\n",
              "      <td>Low availability</td>\n",
              "      <td>181</td>\n",
              "      <td>40</td>\n",
              "      <td>2022-09-01</td>\n",
              "      <td>7aae3e886e89fc1187a5c47d6cea1c22998ee610ade1f2...</td>\n",
              "      <td>1496126b7015defbc3b1d129a46096a5c135075aff2add...</td>\n",
              "      <td>e09e10e67812e9d236ad900e5d46b4308fc62f5d69446a...</td>\n",
              "      <td>bbdefa2950f49882f295b1285d4fa9dec45fc4144bfb07...</td>\n",
              "      <td>09076eb7665d1fb9389c7c4517fee0b00e43092eb34821...</td>\n",
              "      <td>618738f7143c9b43a98a6b42d743a6595069a9b4dcf42d...</td>\n",
              "      <td>8d23a6e37e0a6431a8f1b43a91026dcff51170a89a6512...</td>\n",
              "      <td>Studio</td>\n",
              "      <td>7520a8abba2b44d7f37c0ddbe5f7f3d87540b2b7a670e9...</td>\n",
              "    </tr>\n",
              "  </tbody>\n",
              "</table>\n",
              "<p>46317 rows × 15 columns</p>\n",
              "</div>\n",
              "      <button class=\"colab-df-convert\" onclick=\"convertToInteractive('df-ad511547-1c46-4ba0-b62a-3a9597adf655')\"\n",
              "              title=\"Convert this dataframe to an interactive table.\"\n",
              "              style=\"display:none;\">\n",
              "        \n",
              "  <svg xmlns=\"http://www.w3.org/2000/svg\" height=\"24px\"viewBox=\"0 0 24 24\"\n",
              "       width=\"24px\">\n",
              "    <path d=\"M0 0h24v24H0V0z\" fill=\"none\"/>\n",
              "    <path d=\"M18.56 5.44l.94 2.06.94-2.06 2.06-.94-2.06-.94-.94-2.06-.94 2.06-2.06.94zm-11 1L8.5 8.5l.94-2.06 2.06-.94-2.06-.94L8.5 2.5l-.94 2.06-2.06.94zm10 10l.94 2.06.94-2.06 2.06-.94-2.06-.94-.94-2.06-.94 2.06-2.06.94z\"/><path d=\"M17.41 7.96l-1.37-1.37c-.4-.4-.92-.59-1.43-.59-.52 0-1.04.2-1.43.59L10.3 9.45l-7.72 7.72c-.78.78-.78 2.05 0 2.83L4 21.41c.39.39.9.59 1.41.59.51 0 1.02-.2 1.41-.59l7.78-7.78 2.81-2.81c.8-.78.8-2.07 0-2.86zM5.41 20L4 18.59l7.72-7.72 1.47 1.35L5.41 20z\"/>\n",
              "  </svg>\n",
              "      </button>\n",
              "      \n",
              "  <style>\n",
              "    .colab-df-container {\n",
              "      display:flex;\n",
              "      flex-wrap:wrap;\n",
              "      gap: 12px;\n",
              "    }\n",
              "\n",
              "    .colab-df-convert {\n",
              "      background-color: #E8F0FE;\n",
              "      border: none;\n",
              "      border-radius: 50%;\n",
              "      cursor: pointer;\n",
              "      display: none;\n",
              "      fill: #1967D2;\n",
              "      height: 32px;\n",
              "      padding: 0 0 0 0;\n",
              "      width: 32px;\n",
              "    }\n",
              "\n",
              "    .colab-df-convert:hover {\n",
              "      background-color: #E2EBFA;\n",
              "      box-shadow: 0px 1px 2px rgba(60, 64, 67, 0.3), 0px 1px 3px 1px rgba(60, 64, 67, 0.15);\n",
              "      fill: #174EA6;\n",
              "    }\n",
              "\n",
              "    [theme=dark] .colab-df-convert {\n",
              "      background-color: #3B4455;\n",
              "      fill: #D2E3FC;\n",
              "    }\n",
              "\n",
              "    [theme=dark] .colab-df-convert:hover {\n",
              "      background-color: #434B5C;\n",
              "      box-shadow: 0px 1px 3px 1px rgba(0, 0, 0, 0.15);\n",
              "      filter: drop-shadow(0px 1px 2px rgba(0, 0, 0, 0.3));\n",
              "      fill: #FFFFFF;\n",
              "    }\n",
              "  </style>\n",
              "\n",
              "      <script>\n",
              "        const buttonEl =\n",
              "          document.querySelector('#df-ad511547-1c46-4ba0-b62a-3a9597adf655 button.colab-df-convert');\n",
              "        buttonEl.style.display =\n",
              "          google.colab.kernel.accessAllowed ? 'block' : 'none';\n",
              "\n",
              "        async function convertToInteractive(key) {\n",
              "          const element = document.querySelector('#df-ad511547-1c46-4ba0-b62a-3a9597adf655');\n",
              "          const dataTable =\n",
              "            await google.colab.kernel.invokeFunction('convertToInteractive',\n",
              "                                                     [key], {});\n",
              "          if (!dataTable) return;\n",
              "\n",
              "          const docLinkHtml = 'Like what you see? Visit the ' +\n",
              "            '<a target=\"_blank\" href=https://colab.research.google.com/notebooks/data_table.ipynb>data table notebook</a>'\n",
              "            + ' to learn more about interactive tables.';\n",
              "          element.innerHTML = '';\n",
              "          dataTable['output_type'] = 'display_data';\n",
              "          await google.colab.output.renderOutput(dataTable, element);\n",
              "          const docLink = document.createElement('div');\n",
              "          docLink.innerHTML = docLinkHtml;\n",
              "          element.appendChild(docLink);\n",
              "        }\n",
              "      </script>\n",
              "    </div>\n",
              "  </div>\n",
              "  "
            ]
          },
          "metadata": {},
          "execution_count": 11
        }
      ]
    },
    {
      "cell_type": "markdown",
      "source": [
        "#### As room type has more than 50% missing value, droping that many data will significantly reduce the data quantity and keeping them like that also wiil not provide proper results. So converting those missing values into 'Not Sure'."
      ],
      "metadata": {
        "id": "Va5iIf64XaWS"
      }
    },
    {
      "cell_type": "code",
      "source": [
        "dataset['room_type'] = dataset['room_type'].replace(np.nan, 'Not Sure')"
      ],
      "metadata": {
        "id": "ZigYEnZtWKNT"
      },
      "execution_count": 12,
      "outputs": []
    },
    {
      "cell_type": "markdown",
      "source": [
        "#### Only movein has missing values whic is a datetime format. First getting the duration of days from movein date to today and then replace the null values with 0."
      ],
      "metadata": {
        "id": "AcxjjBwhXi_9"
      }
    },
    {
      "cell_type": "code",
      "source": [
        "import datetime\n",
        "now = pd.to_datetime('2023-02-10', format='%Y-%m-%d')\n",
        "dataset['duration'] = pd.to_datetime(dataset['movein'], format='%Y-%m-%d')\n",
        "dataset['duration']  = dataset['movein'].where(dataset['movein']  < now, dataset['movein']  -  np.timedelta64(100, 'Y'))   \n",
        "dataset['duration']  = (now - dataset['movein'])\n",
        "dataset = dataset.drop('movein',1)\n",
        "dataset['duration'] = dataset['duration'].replace(np.nan, '0')\n",
        "dataset"
      ],
      "metadata": {
        "colab": {
          "base_uri": "https://localhost:8080/",
          "height": 644
        },
        "id": "oG_DnLR6XjhS",
        "outputId": "7f7796c0-1032-4b5d-c6f8-571bbfd64120"
      },
      "execution_count": 13,
      "outputs": [
        {
          "output_type": "stream",
          "name": "stderr",
          "text": [
            "<ipython-input-13-24dd50453507>:6: FutureWarning: In a future version of pandas all arguments of DataFrame.drop except for the argument 'labels' will be keyword-only\n",
            "  dataset = dataset.drop('movein',1)\n"
          ]
        },
        {
          "output_type": "execute_result",
          "data": {
            "text/plain": [
              "                                                Agent_id status  \\\n",
              "0      1deba9e96f404694373de9749ddd1ca8aa7bb823145a6f...   LOST   \n",
              "1      299ae77a4ef350ae0dd37d6bba1c002d03444fb1edb236...   LOST   \n",
              "2      c213697430c006013012dd2aca82dd9732aa0a1a6bca13...   LOST   \n",
              "3      eac9815a500f908736d303e23aa227f0957177b0e6756b...   LOST   \n",
              "4      1deba9e96f404694373de9749ddd1ca8aa7bb823145a6f...   LOST   \n",
              "...                                                  ...    ...   \n",
              "46603  2306878a9ad9b57686cd623dd285aaa9b25afdf627f651...   LOST   \n",
              "46604  327ec29056cc47c24bf922f7dc0f78261dad5c726d7353...   LOST   \n",
              "46605  1134c0a7d44fdae1afd7f1f64e2789496784095ca0a050...   LOST   \n",
              "46606  8b8b029f1142f5cbc825aa6cbee01406c915c6b055db79...   LOST   \n",
              "46607  1ea65ea38f2f574b3875ba895e4ff76b284b7725041612...   LOST   \n",
              "\n",
              "            lost_reason budget lease  \\\n",
              "0        Not responding      0     0   \n",
              "1            Low budget      0     0   \n",
              "2        Not responding    121    40   \n",
              "3            Low budget      0   NaN   \n",
              "4             Junk lead      0     0   \n",
              "...                 ...    ...   ...   \n",
              "46603  Low availability     60    50   \n",
              "46604     Semester stay     60     8   \n",
              "46605  Low availability    241    40   \n",
              "46606  Low availability    NaN   NaN   \n",
              "46607  Low availability    181    40   \n",
              "\n",
              "                                                  source  \\\n",
              "0      9b2d5b4678781e53038e91ea5324530a03f27dc1d0e5f6...   \n",
              "1      9b2d5b4678781e53038e91ea5324530a03f27dc1d0e5f6...   \n",
              "2      7aae3e886e89fc1187a5c47d6cea1c22998ee610ade1f2...   \n",
              "3      ba2d0a29556ac20f86f45e4543c0825428cba33fd7a9ea...   \n",
              "4      9b2d5b4678781e53038e91ea5324530a03f27dc1d0e5f6...   \n",
              "...                                                  ...   \n",
              "46603  9b2d5b4678781e53038e91ea5324530a03f27dc1d0e5f6...   \n",
              "46604  9b2d5b4678781e53038e91ea5324530a03f27dc1d0e5f6...   \n",
              "46605  7aae3e886e89fc1187a5c47d6cea1c22998ee610ade1f2...   \n",
              "46606  d684761c17c11590f6e2525b48141cb2c0c6f2be5df4e2...   \n",
              "46607  7aae3e886e89fc1187a5c47d6cea1c22998ee610ade1f2...   \n",
              "\n",
              "                                             source_city  \\\n",
              "0      9b2d5b4678781e53038e91ea5324530a03f27dc1d0e5f6...   \n",
              "1      9b2d5b4678781e53038e91ea5324530a03f27dc1d0e5f6...   \n",
              "2      9b8cc3c63cdf447e463c11544924bf027945cbd29675f7...   \n",
              "3      a5f0d2d08eb0592087e3a3a2f9c1ba2c67cc30f2efd2bd...   \n",
              "4      9b2d5b4678781e53038e91ea5324530a03f27dc1d0e5f6...   \n",
              "...                                                  ...   \n",
              "46603  7d1550b844ff586a6023216c06263105eed0a849a2a1f6...   \n",
              "46604  9f2ba6981e36ea0fca6c16f42e6413d788d2a7499b8b7f...   \n",
              "46605  7d1550b844ff586a6023216c06263105eed0a849a2a1f6...   \n",
              "46606  e9c722cbefc2f055ae60b4e2cbe73a2d99537eab0c37f3...   \n",
              "46607  1496126b7015defbc3b1d129a46096a5c135075aff2add...   \n",
              "\n",
              "                                          source_country  \\\n",
              "0      9b2d5b4678781e53038e91ea5324530a03f27dc1d0e5f6...   \n",
              "1      9b2d5b4678781e53038e91ea5324530a03f27dc1d0e5f6...   \n",
              "2      e09e10e67812e9d236ad900e5d46b4308fc62f5d69446a...   \n",
              "3      e09e10e67812e9d236ad900e5d46b4308fc62f5d69446a...   \n",
              "4      9b2d5b4678781e53038e91ea5324530a03f27dc1d0e5f6...   \n",
              "...                                                  ...   \n",
              "46603  8da82000ef9c4468ba47362a924b895e40662fed846942...   \n",
              "46604  8da82000ef9c4468ba47362a924b895e40662fed846942...   \n",
              "46605  8da82000ef9c4468ba47362a924b895e40662fed846942...   \n",
              "46606  b936ee09e20b3b2234907cde349cda1c1a5327c4a486bf...   \n",
              "46607  e09e10e67812e9d236ad900e5d46b4308fc62f5d69446a...   \n",
              "\n",
              "                                              utm_source  \\\n",
              "0      3d59f7548e1af2151b64135003ce63c0a484c26b9b8b16...   \n",
              "1      3d59f7548e1af2151b64135003ce63c0a484c26b9b8b16...   \n",
              "2      bbdefa2950f49882f295b1285d4fa9dec45fc4144bfb07...   \n",
              "3      bbdefa2950f49882f295b1285d4fa9dec45fc4144bfb07...   \n",
              "4      3d59f7548e1af2151b64135003ce63c0a484c26b9b8b16...   \n",
              "...                                                  ...   \n",
              "46603  bbdefa2950f49882f295b1285d4fa9dec45fc4144bfb07...   \n",
              "46604  bbdefa2950f49882f295b1285d4fa9dec45fc4144bfb07...   \n",
              "46605  bbdefa2950f49882f295b1285d4fa9dec45fc4144bfb07...   \n",
              "46606  7f3fa48ca885678134842fa7456f3ece53a97f843b6101...   \n",
              "46607  bbdefa2950f49882f295b1285d4fa9dec45fc4144bfb07...   \n",
              "\n",
              "                                              utm_medium  \\\n",
              "0      268ad70eb5bc4737a2ae28162cbca30118cc94520e49ef...   \n",
              "1      268ad70eb5bc4737a2ae28162cbca30118cc94520e49ef...   \n",
              "2      09076eb7665d1fb9389c7c4517fee0b00e43092eb34821...   \n",
              "3      09076eb7665d1fb9389c7c4517fee0b00e43092eb34821...   \n",
              "4      268ad70eb5bc4737a2ae28162cbca30118cc94520e49ef...   \n",
              "...                                                  ...   \n",
              "46603  09076eb7665d1fb9389c7c4517fee0b00e43092eb34821...   \n",
              "46604  09076eb7665d1fb9389c7c4517fee0b00e43092eb34821...   \n",
              "46605  09076eb7665d1fb9389c7c4517fee0b00e43092eb34821...   \n",
              "46606  abb8e2badd5b6265c3237170cc599257a4f566706715d2...   \n",
              "46607  09076eb7665d1fb9389c7c4517fee0b00e43092eb34821...   \n",
              "\n",
              "                                                des_city  \\\n",
              "0      ecc0e7dc084f141b29479058967d0bc07dee25d9690a98...   \n",
              "1      5372372f3bf5896820cb2819300c3e681820d82c6efc54...   \n",
              "2      11ab03a1a8c367191355c152f39fe28cae5e426fce49ef...   \n",
              "3      19372fa44c57a01c37a5a8418779ca3d99b0b59731fb35...   \n",
              "4      9b2d5b4678781e53038e91ea5324530a03f27dc1d0e5f6...   \n",
              "...                                                  ...   \n",
              "46603  13d4b96b6ee361b737e22404aeecca45f322ba7d4c2c42...   \n",
              "46604  998c18dc0e513ab0035c7b858e3780bbbead88695a15de...   \n",
              "46605  ecc0e7dc084f141b29479058967d0bc07dee25d9690a98...   \n",
              "46606  ecc0e7dc084f141b29479058967d0bc07dee25d9690a98...   \n",
              "46607  618738f7143c9b43a98a6b42d743a6595069a9b4dcf42d...   \n",
              "\n",
              "                                             des_country room_type  \\\n",
              "0      8d23a6e37e0a6431a8f1b43a91026dcff51170a89a6512...  Not Sure   \n",
              "1      8d23a6e37e0a6431a8f1b43a91026dcff51170a89a6512...  Not Sure   \n",
              "2      8d23a6e37e0a6431a8f1b43a91026dcff51170a89a6512...   Ensuite   \n",
              "3      8d23a6e37e0a6431a8f1b43a91026dcff51170a89a6512...  Not Sure   \n",
              "4      9b2d5b4678781e53038e91ea5324530a03f27dc1d0e5f6...  Not Sure   \n",
              "...                                                  ...       ...   \n",
              "46603  8d23a6e37e0a6431a8f1b43a91026dcff51170a89a6512...    Studio   \n",
              "46604  8d23a6e37e0a6431a8f1b43a91026dcff51170a89a6512...    Studio   \n",
              "46605  8d23a6e37e0a6431a8f1b43a91026dcff51170a89a6512...    Studio   \n",
              "46606  8d23a6e37e0a6431a8f1b43a91026dcff51170a89a6512...  Not Sure   \n",
              "46607  8d23a6e37e0a6431a8f1b43a91026dcff51170a89a6512...    Studio   \n",
              "\n",
              "                                                 lead_id duration  \n",
              "0      cd5dc0d9393f3980d11d4ba6f88f8110c2b7a7f7796307...   0 days  \n",
              "1      b94693673a5f7178d1b114e4004ad52377d3244dd24a3d...   0 days  \n",
              "2      96ea4e2bf04496c044745938c0299c264c3f4ba079e572... 163 days  \n",
              "3      1d2b34d8add02a182a4129023766ca4585a8ddced0e5b3...   0 days  \n",
              "4      fc10fffd29cfbe93c55158fb47752a7501c211d253468c...   0 days  \n",
              "...                                                  ...      ...  \n",
              "46603  1aaa4a4a9092e4c0eabf958ed9aea59c50d8ea3f08f691... 162 days  \n",
              "46604  1f90dbad4873cb9673ff3c7ec69fbac4289181453c6cea... 134 days  \n",
              "46605  d9e0f455b68a6573544ffac32292541a510fe2daffe2bb... 143 days  \n",
              "46606  1f90dbad4873cb9673ff3c7ec69fbac4289181453c6cea... 164 days  \n",
              "46607  7520a8abba2b44d7f37c0ddbe5f7f3d87540b2b7a670e9... 162 days  \n",
              "\n",
              "[46317 rows x 15 columns]"
            ],
            "text/html": [
              "\n",
              "  <div id=\"df-9064c519-38c0-4d03-a107-620d7f654656\">\n",
              "    <div class=\"colab-df-container\">\n",
              "      <div>\n",
              "<style scoped>\n",
              "    .dataframe tbody tr th:only-of-type {\n",
              "        vertical-align: middle;\n",
              "    }\n",
              "\n",
              "    .dataframe tbody tr th {\n",
              "        vertical-align: top;\n",
              "    }\n",
              "\n",
              "    .dataframe thead th {\n",
              "        text-align: right;\n",
              "    }\n",
              "</style>\n",
              "<table border=\"1\" class=\"dataframe\">\n",
              "  <thead>\n",
              "    <tr style=\"text-align: right;\">\n",
              "      <th></th>\n",
              "      <th>Agent_id</th>\n",
              "      <th>status</th>\n",
              "      <th>lost_reason</th>\n",
              "      <th>budget</th>\n",
              "      <th>lease</th>\n",
              "      <th>source</th>\n",
              "      <th>source_city</th>\n",
              "      <th>source_country</th>\n",
              "      <th>utm_source</th>\n",
              "      <th>utm_medium</th>\n",
              "      <th>des_city</th>\n",
              "      <th>des_country</th>\n",
              "      <th>room_type</th>\n",
              "      <th>lead_id</th>\n",
              "      <th>duration</th>\n",
              "    </tr>\n",
              "  </thead>\n",
              "  <tbody>\n",
              "    <tr>\n",
              "      <th>0</th>\n",
              "      <td>1deba9e96f404694373de9749ddd1ca8aa7bb823145a6f...</td>\n",
              "      <td>LOST</td>\n",
              "      <td>Not responding</td>\n",
              "      <td>0</td>\n",
              "      <td>0</td>\n",
              "      <td>9b2d5b4678781e53038e91ea5324530a03f27dc1d0e5f6...</td>\n",
              "      <td>9b2d5b4678781e53038e91ea5324530a03f27dc1d0e5f6...</td>\n",
              "      <td>9b2d5b4678781e53038e91ea5324530a03f27dc1d0e5f6...</td>\n",
              "      <td>3d59f7548e1af2151b64135003ce63c0a484c26b9b8b16...</td>\n",
              "      <td>268ad70eb5bc4737a2ae28162cbca30118cc94520e49ef...</td>\n",
              "      <td>ecc0e7dc084f141b29479058967d0bc07dee25d9690a98...</td>\n",
              "      <td>8d23a6e37e0a6431a8f1b43a91026dcff51170a89a6512...</td>\n",
              "      <td>Not Sure</td>\n",
              "      <td>cd5dc0d9393f3980d11d4ba6f88f8110c2b7a7f7796307...</td>\n",
              "      <td>0 days</td>\n",
              "    </tr>\n",
              "    <tr>\n",
              "      <th>1</th>\n",
              "      <td>299ae77a4ef350ae0dd37d6bba1c002d03444fb1edb236...</td>\n",
              "      <td>LOST</td>\n",
              "      <td>Low budget</td>\n",
              "      <td>0</td>\n",
              "      <td>0</td>\n",
              "      <td>9b2d5b4678781e53038e91ea5324530a03f27dc1d0e5f6...</td>\n",
              "      <td>9b2d5b4678781e53038e91ea5324530a03f27dc1d0e5f6...</td>\n",
              "      <td>9b2d5b4678781e53038e91ea5324530a03f27dc1d0e5f6...</td>\n",
              "      <td>3d59f7548e1af2151b64135003ce63c0a484c26b9b8b16...</td>\n",
              "      <td>268ad70eb5bc4737a2ae28162cbca30118cc94520e49ef...</td>\n",
              "      <td>5372372f3bf5896820cb2819300c3e681820d82c6efc54...</td>\n",
              "      <td>8d23a6e37e0a6431a8f1b43a91026dcff51170a89a6512...</td>\n",
              "      <td>Not Sure</td>\n",
              "      <td>b94693673a5f7178d1b114e4004ad52377d3244dd24a3d...</td>\n",
              "      <td>0 days</td>\n",
              "    </tr>\n",
              "    <tr>\n",
              "      <th>2</th>\n",
              "      <td>c213697430c006013012dd2aca82dd9732aa0a1a6bca13...</td>\n",
              "      <td>LOST</td>\n",
              "      <td>Not responding</td>\n",
              "      <td>121</td>\n",
              "      <td>40</td>\n",
              "      <td>7aae3e886e89fc1187a5c47d6cea1c22998ee610ade1f2...</td>\n",
              "      <td>9b8cc3c63cdf447e463c11544924bf027945cbd29675f7...</td>\n",
              "      <td>e09e10e67812e9d236ad900e5d46b4308fc62f5d69446a...</td>\n",
              "      <td>bbdefa2950f49882f295b1285d4fa9dec45fc4144bfb07...</td>\n",
              "      <td>09076eb7665d1fb9389c7c4517fee0b00e43092eb34821...</td>\n",
              "      <td>11ab03a1a8c367191355c152f39fe28cae5e426fce49ef...</td>\n",
              "      <td>8d23a6e37e0a6431a8f1b43a91026dcff51170a89a6512...</td>\n",
              "      <td>Ensuite</td>\n",
              "      <td>96ea4e2bf04496c044745938c0299c264c3f4ba079e572...</td>\n",
              "      <td>163 days</td>\n",
              "    </tr>\n",
              "    <tr>\n",
              "      <th>3</th>\n",
              "      <td>eac9815a500f908736d303e23aa227f0957177b0e6756b...</td>\n",
              "      <td>LOST</td>\n",
              "      <td>Low budget</td>\n",
              "      <td>0</td>\n",
              "      <td>NaN</td>\n",
              "      <td>ba2d0a29556ac20f86f45e4543c0825428cba33fd7a9ea...</td>\n",
              "      <td>a5f0d2d08eb0592087e3a3a2f9c1ba2c67cc30f2efd2bd...</td>\n",
              "      <td>e09e10e67812e9d236ad900e5d46b4308fc62f5d69446a...</td>\n",
              "      <td>bbdefa2950f49882f295b1285d4fa9dec45fc4144bfb07...</td>\n",
              "      <td>09076eb7665d1fb9389c7c4517fee0b00e43092eb34821...</td>\n",
              "      <td>19372fa44c57a01c37a5a8418779ca3d99b0b59731fb35...</td>\n",
              "      <td>8d23a6e37e0a6431a8f1b43a91026dcff51170a89a6512...</td>\n",
              "      <td>Not Sure</td>\n",
              "      <td>1d2b34d8add02a182a4129023766ca4585a8ddced0e5b3...</td>\n",
              "      <td>0 days</td>\n",
              "    </tr>\n",
              "    <tr>\n",
              "      <th>4</th>\n",
              "      <td>1deba9e96f404694373de9749ddd1ca8aa7bb823145a6f...</td>\n",
              "      <td>LOST</td>\n",
              "      <td>Junk lead</td>\n",
              "      <td>0</td>\n",
              "      <td>0</td>\n",
              "      <td>9b2d5b4678781e53038e91ea5324530a03f27dc1d0e5f6...</td>\n",
              "      <td>9b2d5b4678781e53038e91ea5324530a03f27dc1d0e5f6...</td>\n",
              "      <td>9b2d5b4678781e53038e91ea5324530a03f27dc1d0e5f6...</td>\n",
              "      <td>3d59f7548e1af2151b64135003ce63c0a484c26b9b8b16...</td>\n",
              "      <td>268ad70eb5bc4737a2ae28162cbca30118cc94520e49ef...</td>\n",
              "      <td>9b2d5b4678781e53038e91ea5324530a03f27dc1d0e5f6...</td>\n",
              "      <td>9b2d5b4678781e53038e91ea5324530a03f27dc1d0e5f6...</td>\n",
              "      <td>Not Sure</td>\n",
              "      <td>fc10fffd29cfbe93c55158fb47752a7501c211d253468c...</td>\n",
              "      <td>0 days</td>\n",
              "    </tr>\n",
              "    <tr>\n",
              "      <th>...</th>\n",
              "      <td>...</td>\n",
              "      <td>...</td>\n",
              "      <td>...</td>\n",
              "      <td>...</td>\n",
              "      <td>...</td>\n",
              "      <td>...</td>\n",
              "      <td>...</td>\n",
              "      <td>...</td>\n",
              "      <td>...</td>\n",
              "      <td>...</td>\n",
              "      <td>...</td>\n",
              "      <td>...</td>\n",
              "      <td>...</td>\n",
              "      <td>...</td>\n",
              "      <td>...</td>\n",
              "    </tr>\n",
              "    <tr>\n",
              "      <th>46603</th>\n",
              "      <td>2306878a9ad9b57686cd623dd285aaa9b25afdf627f651...</td>\n",
              "      <td>LOST</td>\n",
              "      <td>Low availability</td>\n",
              "      <td>60</td>\n",
              "      <td>50</td>\n",
              "      <td>9b2d5b4678781e53038e91ea5324530a03f27dc1d0e5f6...</td>\n",
              "      <td>7d1550b844ff586a6023216c06263105eed0a849a2a1f6...</td>\n",
              "      <td>8da82000ef9c4468ba47362a924b895e40662fed846942...</td>\n",
              "      <td>bbdefa2950f49882f295b1285d4fa9dec45fc4144bfb07...</td>\n",
              "      <td>09076eb7665d1fb9389c7c4517fee0b00e43092eb34821...</td>\n",
              "      <td>13d4b96b6ee361b737e22404aeecca45f322ba7d4c2c42...</td>\n",
              "      <td>8d23a6e37e0a6431a8f1b43a91026dcff51170a89a6512...</td>\n",
              "      <td>Studio</td>\n",
              "      <td>1aaa4a4a9092e4c0eabf958ed9aea59c50d8ea3f08f691...</td>\n",
              "      <td>162 days</td>\n",
              "    </tr>\n",
              "    <tr>\n",
              "      <th>46604</th>\n",
              "      <td>327ec29056cc47c24bf922f7dc0f78261dad5c726d7353...</td>\n",
              "      <td>LOST</td>\n",
              "      <td>Semester stay</td>\n",
              "      <td>60</td>\n",
              "      <td>8</td>\n",
              "      <td>9b2d5b4678781e53038e91ea5324530a03f27dc1d0e5f6...</td>\n",
              "      <td>9f2ba6981e36ea0fca6c16f42e6413d788d2a7499b8b7f...</td>\n",
              "      <td>8da82000ef9c4468ba47362a924b895e40662fed846942...</td>\n",
              "      <td>bbdefa2950f49882f295b1285d4fa9dec45fc4144bfb07...</td>\n",
              "      <td>09076eb7665d1fb9389c7c4517fee0b00e43092eb34821...</td>\n",
              "      <td>998c18dc0e513ab0035c7b858e3780bbbead88695a15de...</td>\n",
              "      <td>8d23a6e37e0a6431a8f1b43a91026dcff51170a89a6512...</td>\n",
              "      <td>Studio</td>\n",
              "      <td>1f90dbad4873cb9673ff3c7ec69fbac4289181453c6cea...</td>\n",
              "      <td>134 days</td>\n",
              "    </tr>\n",
              "    <tr>\n",
              "      <th>46605</th>\n",
              "      <td>1134c0a7d44fdae1afd7f1f64e2789496784095ca0a050...</td>\n",
              "      <td>LOST</td>\n",
              "      <td>Low availability</td>\n",
              "      <td>241</td>\n",
              "      <td>40</td>\n",
              "      <td>7aae3e886e89fc1187a5c47d6cea1c22998ee610ade1f2...</td>\n",
              "      <td>7d1550b844ff586a6023216c06263105eed0a849a2a1f6...</td>\n",
              "      <td>8da82000ef9c4468ba47362a924b895e40662fed846942...</td>\n",
              "      <td>bbdefa2950f49882f295b1285d4fa9dec45fc4144bfb07...</td>\n",
              "      <td>09076eb7665d1fb9389c7c4517fee0b00e43092eb34821...</td>\n",
              "      <td>ecc0e7dc084f141b29479058967d0bc07dee25d9690a98...</td>\n",
              "      <td>8d23a6e37e0a6431a8f1b43a91026dcff51170a89a6512...</td>\n",
              "      <td>Studio</td>\n",
              "      <td>d9e0f455b68a6573544ffac32292541a510fe2daffe2bb...</td>\n",
              "      <td>143 days</td>\n",
              "    </tr>\n",
              "    <tr>\n",
              "      <th>46606</th>\n",
              "      <td>8b8b029f1142f5cbc825aa6cbee01406c915c6b055db79...</td>\n",
              "      <td>LOST</td>\n",
              "      <td>Low availability</td>\n",
              "      <td>NaN</td>\n",
              "      <td>NaN</td>\n",
              "      <td>d684761c17c11590f6e2525b48141cb2c0c6f2be5df4e2...</td>\n",
              "      <td>e9c722cbefc2f055ae60b4e2cbe73a2d99537eab0c37f3...</td>\n",
              "      <td>b936ee09e20b3b2234907cde349cda1c1a5327c4a486bf...</td>\n",
              "      <td>7f3fa48ca885678134842fa7456f3ece53a97f843b6101...</td>\n",
              "      <td>abb8e2badd5b6265c3237170cc599257a4f566706715d2...</td>\n",
              "      <td>ecc0e7dc084f141b29479058967d0bc07dee25d9690a98...</td>\n",
              "      <td>8d23a6e37e0a6431a8f1b43a91026dcff51170a89a6512...</td>\n",
              "      <td>Not Sure</td>\n",
              "      <td>1f90dbad4873cb9673ff3c7ec69fbac4289181453c6cea...</td>\n",
              "      <td>164 days</td>\n",
              "    </tr>\n",
              "    <tr>\n",
              "      <th>46607</th>\n",
              "      <td>1ea65ea38f2f574b3875ba895e4ff76b284b7725041612...</td>\n",
              "      <td>LOST</td>\n",
              "      <td>Low availability</td>\n",
              "      <td>181</td>\n",
              "      <td>40</td>\n",
              "      <td>7aae3e886e89fc1187a5c47d6cea1c22998ee610ade1f2...</td>\n",
              "      <td>1496126b7015defbc3b1d129a46096a5c135075aff2add...</td>\n",
              "      <td>e09e10e67812e9d236ad900e5d46b4308fc62f5d69446a...</td>\n",
              "      <td>bbdefa2950f49882f295b1285d4fa9dec45fc4144bfb07...</td>\n",
              "      <td>09076eb7665d1fb9389c7c4517fee0b00e43092eb34821...</td>\n",
              "      <td>618738f7143c9b43a98a6b42d743a6595069a9b4dcf42d...</td>\n",
              "      <td>8d23a6e37e0a6431a8f1b43a91026dcff51170a89a6512...</td>\n",
              "      <td>Studio</td>\n",
              "      <td>7520a8abba2b44d7f37c0ddbe5f7f3d87540b2b7a670e9...</td>\n",
              "      <td>162 days</td>\n",
              "    </tr>\n",
              "  </tbody>\n",
              "</table>\n",
              "<p>46317 rows × 15 columns</p>\n",
              "</div>\n",
              "      <button class=\"colab-df-convert\" onclick=\"convertToInteractive('df-9064c519-38c0-4d03-a107-620d7f654656')\"\n",
              "              title=\"Convert this dataframe to an interactive table.\"\n",
              "              style=\"display:none;\">\n",
              "        \n",
              "  <svg xmlns=\"http://www.w3.org/2000/svg\" height=\"24px\"viewBox=\"0 0 24 24\"\n",
              "       width=\"24px\">\n",
              "    <path d=\"M0 0h24v24H0V0z\" fill=\"none\"/>\n",
              "    <path d=\"M18.56 5.44l.94 2.06.94-2.06 2.06-.94-2.06-.94-.94-2.06-.94 2.06-2.06.94zm-11 1L8.5 8.5l.94-2.06 2.06-.94-2.06-.94L8.5 2.5l-.94 2.06-2.06.94zm10 10l.94 2.06.94-2.06 2.06-.94-2.06-.94-.94-2.06-.94 2.06-2.06.94z\"/><path d=\"M17.41 7.96l-1.37-1.37c-.4-.4-.92-.59-1.43-.59-.52 0-1.04.2-1.43.59L10.3 9.45l-7.72 7.72c-.78.78-.78 2.05 0 2.83L4 21.41c.39.39.9.59 1.41.59.51 0 1.02-.2 1.41-.59l7.78-7.78 2.81-2.81c.8-.78.8-2.07 0-2.86zM5.41 20L4 18.59l7.72-7.72 1.47 1.35L5.41 20z\"/>\n",
              "  </svg>\n",
              "      </button>\n",
              "      \n",
              "  <style>\n",
              "    .colab-df-container {\n",
              "      display:flex;\n",
              "      flex-wrap:wrap;\n",
              "      gap: 12px;\n",
              "    }\n",
              "\n",
              "    .colab-df-convert {\n",
              "      background-color: #E8F0FE;\n",
              "      border: none;\n",
              "      border-radius: 50%;\n",
              "      cursor: pointer;\n",
              "      display: none;\n",
              "      fill: #1967D2;\n",
              "      height: 32px;\n",
              "      padding: 0 0 0 0;\n",
              "      width: 32px;\n",
              "    }\n",
              "\n",
              "    .colab-df-convert:hover {\n",
              "      background-color: #E2EBFA;\n",
              "      box-shadow: 0px 1px 2px rgba(60, 64, 67, 0.3), 0px 1px 3px 1px rgba(60, 64, 67, 0.15);\n",
              "      fill: #174EA6;\n",
              "    }\n",
              "\n",
              "    [theme=dark] .colab-df-convert {\n",
              "      background-color: #3B4455;\n",
              "      fill: #D2E3FC;\n",
              "    }\n",
              "\n",
              "    [theme=dark] .colab-df-convert:hover {\n",
              "      background-color: #434B5C;\n",
              "      box-shadow: 0px 1px 3px 1px rgba(0, 0, 0, 0.15);\n",
              "      filter: drop-shadow(0px 1px 2px rgba(0, 0, 0, 0.3));\n",
              "      fill: #FFFFFF;\n",
              "    }\n",
              "  </style>\n",
              "\n",
              "      <script>\n",
              "        const buttonEl =\n",
              "          document.querySelector('#df-9064c519-38c0-4d03-a107-620d7f654656 button.colab-df-convert');\n",
              "        buttonEl.style.display =\n",
              "          google.colab.kernel.accessAllowed ? 'block' : 'none';\n",
              "\n",
              "        async function convertToInteractive(key) {\n",
              "          const element = document.querySelector('#df-9064c519-38c0-4d03-a107-620d7f654656');\n",
              "          const dataTable =\n",
              "            await google.colab.kernel.invokeFunction('convertToInteractive',\n",
              "                                                     [key], {});\n",
              "          if (!dataTable) return;\n",
              "\n",
              "          const docLinkHtml = 'Like what you see? Visit the ' +\n",
              "            '<a target=\"_blank\" href=https://colab.research.google.com/notebooks/data_table.ipynb>data table notebook</a>'\n",
              "            + ' to learn more about interactive tables.';\n",
              "          element.innerHTML = '';\n",
              "          dataTable['output_type'] = 'display_data';\n",
              "          await google.colab.output.renderOutput(dataTable, element);\n",
              "          const docLink = document.createElement('div');\n",
              "          docLink.innerHTML = docLinkHtml;\n",
              "          element.appendChild(docLink);\n",
              "        }\n",
              "      </script>\n",
              "    </div>\n",
              "  </div>\n",
              "  "
            ]
          },
          "metadata": {},
          "execution_count": 13
        }
      ]
    },
    {
      "cell_type": "markdown",
      "source": [
        "#Dealing with missing values"
      ],
      "metadata": {
        "id": "7W4ekMlMX3Wn"
      }
    },
    {
      "cell_type": "code",
      "source": [
        "# Missing Data Percentage \n",
        "\n",
        "round(dataset.isnull().sum()/dataset.shape[0], 2)"
      ],
      "metadata": {
        "colab": {
          "base_uri": "https://localhost:8080/"
        },
        "id": "V2PX1MJSX6ik",
        "outputId": "b07f09e0-1a86-4c6a-abc6-78fbf3753f4d"
      },
      "execution_count": 14,
      "outputs": [
        {
          "output_type": "execute_result",
          "data": {
            "text/plain": [
              "Agent_id          0.00\n",
              "status            0.00\n",
              "lost_reason       0.00\n",
              "budget            0.26\n",
              "lease             0.43\n",
              "source            0.00\n",
              "source_city       0.00\n",
              "source_country    0.00\n",
              "utm_source        0.00\n",
              "utm_medium        0.00\n",
              "des_city          0.00\n",
              "des_country       0.00\n",
              "room_type         0.00\n",
              "lead_id           0.00\n",
              "duration          0.00\n",
              "dtype: float64"
            ]
          },
          "metadata": {},
          "execution_count": 14
        }
      ]
    },
    {
      "cell_type": "markdown",
      "source": [
        "#### As budget and lease have missing values, replacing them into '0'."
      ],
      "metadata": {
        "id": "BZsGqNGaYGkN"
      }
    },
    {
      "cell_type": "code",
      "source": [
        "dataset['lease'] = dataset['lease'].replace(np.nan, '0')\n",
        "dataset['budget'] = dataset['budget'].replace(np.nan, '0')"
      ],
      "metadata": {
        "id": "N7NOjyXgYSUD"
      },
      "execution_count": 15,
      "outputs": []
    },
    {
      "cell_type": "code",
      "source": [
        "# Missing Data Percentage \n",
        "\n",
        "round(dataset.isnull().sum()/dataset.shape[0], 2)"
      ],
      "metadata": {
        "colab": {
          "base_uri": "https://localhost:8080/"
        },
        "id": "f7J9XT5SYZIH",
        "outputId": "cc96e438-e4fb-4195-eefe-b17f3c7f71e1"
      },
      "execution_count": 16,
      "outputs": [
        {
          "output_type": "execute_result",
          "data": {
            "text/plain": [
              "Agent_id          0.0\n",
              "status            0.0\n",
              "lost_reason       0.0\n",
              "budget            0.0\n",
              "lease             0.0\n",
              "source            0.0\n",
              "source_city       0.0\n",
              "source_country    0.0\n",
              "utm_source        0.0\n",
              "utm_medium        0.0\n",
              "des_city          0.0\n",
              "des_country       0.0\n",
              "room_type         0.0\n",
              "lead_id           0.0\n",
              "duration          0.0\n",
              "dtype: float64"
            ]
          },
          "metadata": {},
          "execution_count": 16
        }
      ]
    },
    {
      "cell_type": "markdown",
      "source": [
        "#### As mentioned in the assignment description '9b2d5b4678781e53038e91ea5324530a03f27dc1d0e5f6c9bc9d493a23be9de0'represents NAN and present in multiple columns. As these columns are not providing any valuable insights for analysis, dropping them will help us to create better model."
      ],
      "metadata": {
        "id": "mKQfOa-9YjXE"
      }
    },
    {
      "cell_type": "code",
      "source": [
        "dataset = dataset.drop(['source','source_city','source_country','utm_source','utm_medium','des_city','des_country'],1)\n",
        "dataset"
      ],
      "metadata": {
        "colab": {
          "base_uri": "https://localhost:8080/",
          "height": 458
        },
        "id": "x_B5p6CwYo1u",
        "outputId": "8e09af6c-0144-4316-bff9-9059b49f6b9d"
      },
      "execution_count": 17,
      "outputs": [
        {
          "output_type": "stream",
          "name": "stderr",
          "text": [
            "<ipython-input-17-772ff2796a7a>:1: FutureWarning: In a future version of pandas all arguments of DataFrame.drop except for the argument 'labels' will be keyword-only\n",
            "  dataset = dataset.drop(['source','source_city','source_country','utm_source','utm_medium','des_city','des_country'],1)\n"
          ]
        },
        {
          "output_type": "execute_result",
          "data": {
            "text/plain": [
              "                                                Agent_id status  \\\n",
              "0      1deba9e96f404694373de9749ddd1ca8aa7bb823145a6f...   LOST   \n",
              "1      299ae77a4ef350ae0dd37d6bba1c002d03444fb1edb236...   LOST   \n",
              "2      c213697430c006013012dd2aca82dd9732aa0a1a6bca13...   LOST   \n",
              "3      eac9815a500f908736d303e23aa227f0957177b0e6756b...   LOST   \n",
              "4      1deba9e96f404694373de9749ddd1ca8aa7bb823145a6f...   LOST   \n",
              "...                                                  ...    ...   \n",
              "46603  2306878a9ad9b57686cd623dd285aaa9b25afdf627f651...   LOST   \n",
              "46604  327ec29056cc47c24bf922f7dc0f78261dad5c726d7353...   LOST   \n",
              "46605  1134c0a7d44fdae1afd7f1f64e2789496784095ca0a050...   LOST   \n",
              "46606  8b8b029f1142f5cbc825aa6cbee01406c915c6b055db79...   LOST   \n",
              "46607  1ea65ea38f2f574b3875ba895e4ff76b284b7725041612...   LOST   \n",
              "\n",
              "            lost_reason budget lease room_type  \\\n",
              "0        Not responding      0     0  Not Sure   \n",
              "1            Low budget      0     0  Not Sure   \n",
              "2        Not responding    121    40   Ensuite   \n",
              "3            Low budget      0     0  Not Sure   \n",
              "4             Junk lead      0     0  Not Sure   \n",
              "...                 ...    ...   ...       ...   \n",
              "46603  Low availability     60    50    Studio   \n",
              "46604     Semester stay     60     8    Studio   \n",
              "46605  Low availability    241    40    Studio   \n",
              "46606  Low availability      0     0  Not Sure   \n",
              "46607  Low availability    181    40    Studio   \n",
              "\n",
              "                                                 lead_id duration  \n",
              "0      cd5dc0d9393f3980d11d4ba6f88f8110c2b7a7f7796307...   0 days  \n",
              "1      b94693673a5f7178d1b114e4004ad52377d3244dd24a3d...   0 days  \n",
              "2      96ea4e2bf04496c044745938c0299c264c3f4ba079e572... 163 days  \n",
              "3      1d2b34d8add02a182a4129023766ca4585a8ddced0e5b3...   0 days  \n",
              "4      fc10fffd29cfbe93c55158fb47752a7501c211d253468c...   0 days  \n",
              "...                                                  ...      ...  \n",
              "46603  1aaa4a4a9092e4c0eabf958ed9aea59c50d8ea3f08f691... 162 days  \n",
              "46604  1f90dbad4873cb9673ff3c7ec69fbac4289181453c6cea... 134 days  \n",
              "46605  d9e0f455b68a6573544ffac32292541a510fe2daffe2bb... 143 days  \n",
              "46606  1f90dbad4873cb9673ff3c7ec69fbac4289181453c6cea... 164 days  \n",
              "46607  7520a8abba2b44d7f37c0ddbe5f7f3d87540b2b7a670e9... 162 days  \n",
              "\n",
              "[46317 rows x 8 columns]"
            ],
            "text/html": [
              "\n",
              "  <div id=\"df-8c8e31ba-0fd9-437a-ac21-532733a8ad19\">\n",
              "    <div class=\"colab-df-container\">\n",
              "      <div>\n",
              "<style scoped>\n",
              "    .dataframe tbody tr th:only-of-type {\n",
              "        vertical-align: middle;\n",
              "    }\n",
              "\n",
              "    .dataframe tbody tr th {\n",
              "        vertical-align: top;\n",
              "    }\n",
              "\n",
              "    .dataframe thead th {\n",
              "        text-align: right;\n",
              "    }\n",
              "</style>\n",
              "<table border=\"1\" class=\"dataframe\">\n",
              "  <thead>\n",
              "    <tr style=\"text-align: right;\">\n",
              "      <th></th>\n",
              "      <th>Agent_id</th>\n",
              "      <th>status</th>\n",
              "      <th>lost_reason</th>\n",
              "      <th>budget</th>\n",
              "      <th>lease</th>\n",
              "      <th>room_type</th>\n",
              "      <th>lead_id</th>\n",
              "      <th>duration</th>\n",
              "    </tr>\n",
              "  </thead>\n",
              "  <tbody>\n",
              "    <tr>\n",
              "      <th>0</th>\n",
              "      <td>1deba9e96f404694373de9749ddd1ca8aa7bb823145a6f...</td>\n",
              "      <td>LOST</td>\n",
              "      <td>Not responding</td>\n",
              "      <td>0</td>\n",
              "      <td>0</td>\n",
              "      <td>Not Sure</td>\n",
              "      <td>cd5dc0d9393f3980d11d4ba6f88f8110c2b7a7f7796307...</td>\n",
              "      <td>0 days</td>\n",
              "    </tr>\n",
              "    <tr>\n",
              "      <th>1</th>\n",
              "      <td>299ae77a4ef350ae0dd37d6bba1c002d03444fb1edb236...</td>\n",
              "      <td>LOST</td>\n",
              "      <td>Low budget</td>\n",
              "      <td>0</td>\n",
              "      <td>0</td>\n",
              "      <td>Not Sure</td>\n",
              "      <td>b94693673a5f7178d1b114e4004ad52377d3244dd24a3d...</td>\n",
              "      <td>0 days</td>\n",
              "    </tr>\n",
              "    <tr>\n",
              "      <th>2</th>\n",
              "      <td>c213697430c006013012dd2aca82dd9732aa0a1a6bca13...</td>\n",
              "      <td>LOST</td>\n",
              "      <td>Not responding</td>\n",
              "      <td>121</td>\n",
              "      <td>40</td>\n",
              "      <td>Ensuite</td>\n",
              "      <td>96ea4e2bf04496c044745938c0299c264c3f4ba079e572...</td>\n",
              "      <td>163 days</td>\n",
              "    </tr>\n",
              "    <tr>\n",
              "      <th>3</th>\n",
              "      <td>eac9815a500f908736d303e23aa227f0957177b0e6756b...</td>\n",
              "      <td>LOST</td>\n",
              "      <td>Low budget</td>\n",
              "      <td>0</td>\n",
              "      <td>0</td>\n",
              "      <td>Not Sure</td>\n",
              "      <td>1d2b34d8add02a182a4129023766ca4585a8ddced0e5b3...</td>\n",
              "      <td>0 days</td>\n",
              "    </tr>\n",
              "    <tr>\n",
              "      <th>4</th>\n",
              "      <td>1deba9e96f404694373de9749ddd1ca8aa7bb823145a6f...</td>\n",
              "      <td>LOST</td>\n",
              "      <td>Junk lead</td>\n",
              "      <td>0</td>\n",
              "      <td>0</td>\n",
              "      <td>Not Sure</td>\n",
              "      <td>fc10fffd29cfbe93c55158fb47752a7501c211d253468c...</td>\n",
              "      <td>0 days</td>\n",
              "    </tr>\n",
              "    <tr>\n",
              "      <th>...</th>\n",
              "      <td>...</td>\n",
              "      <td>...</td>\n",
              "      <td>...</td>\n",
              "      <td>...</td>\n",
              "      <td>...</td>\n",
              "      <td>...</td>\n",
              "      <td>...</td>\n",
              "      <td>...</td>\n",
              "    </tr>\n",
              "    <tr>\n",
              "      <th>46603</th>\n",
              "      <td>2306878a9ad9b57686cd623dd285aaa9b25afdf627f651...</td>\n",
              "      <td>LOST</td>\n",
              "      <td>Low availability</td>\n",
              "      <td>60</td>\n",
              "      <td>50</td>\n",
              "      <td>Studio</td>\n",
              "      <td>1aaa4a4a9092e4c0eabf958ed9aea59c50d8ea3f08f691...</td>\n",
              "      <td>162 days</td>\n",
              "    </tr>\n",
              "    <tr>\n",
              "      <th>46604</th>\n",
              "      <td>327ec29056cc47c24bf922f7dc0f78261dad5c726d7353...</td>\n",
              "      <td>LOST</td>\n",
              "      <td>Semester stay</td>\n",
              "      <td>60</td>\n",
              "      <td>8</td>\n",
              "      <td>Studio</td>\n",
              "      <td>1f90dbad4873cb9673ff3c7ec69fbac4289181453c6cea...</td>\n",
              "      <td>134 days</td>\n",
              "    </tr>\n",
              "    <tr>\n",
              "      <th>46605</th>\n",
              "      <td>1134c0a7d44fdae1afd7f1f64e2789496784095ca0a050...</td>\n",
              "      <td>LOST</td>\n",
              "      <td>Low availability</td>\n",
              "      <td>241</td>\n",
              "      <td>40</td>\n",
              "      <td>Studio</td>\n",
              "      <td>d9e0f455b68a6573544ffac32292541a510fe2daffe2bb...</td>\n",
              "      <td>143 days</td>\n",
              "    </tr>\n",
              "    <tr>\n",
              "      <th>46606</th>\n",
              "      <td>8b8b029f1142f5cbc825aa6cbee01406c915c6b055db79...</td>\n",
              "      <td>LOST</td>\n",
              "      <td>Low availability</td>\n",
              "      <td>0</td>\n",
              "      <td>0</td>\n",
              "      <td>Not Sure</td>\n",
              "      <td>1f90dbad4873cb9673ff3c7ec69fbac4289181453c6cea...</td>\n",
              "      <td>164 days</td>\n",
              "    </tr>\n",
              "    <tr>\n",
              "      <th>46607</th>\n",
              "      <td>1ea65ea38f2f574b3875ba895e4ff76b284b7725041612...</td>\n",
              "      <td>LOST</td>\n",
              "      <td>Low availability</td>\n",
              "      <td>181</td>\n",
              "      <td>40</td>\n",
              "      <td>Studio</td>\n",
              "      <td>7520a8abba2b44d7f37c0ddbe5f7f3d87540b2b7a670e9...</td>\n",
              "      <td>162 days</td>\n",
              "    </tr>\n",
              "  </tbody>\n",
              "</table>\n",
              "<p>46317 rows × 8 columns</p>\n",
              "</div>\n",
              "      <button class=\"colab-df-convert\" onclick=\"convertToInteractive('df-8c8e31ba-0fd9-437a-ac21-532733a8ad19')\"\n",
              "              title=\"Convert this dataframe to an interactive table.\"\n",
              "              style=\"display:none;\">\n",
              "        \n",
              "  <svg xmlns=\"http://www.w3.org/2000/svg\" height=\"24px\"viewBox=\"0 0 24 24\"\n",
              "       width=\"24px\">\n",
              "    <path d=\"M0 0h24v24H0V0z\" fill=\"none\"/>\n",
              "    <path d=\"M18.56 5.44l.94 2.06.94-2.06 2.06-.94-2.06-.94-.94-2.06-.94 2.06-2.06.94zm-11 1L8.5 8.5l.94-2.06 2.06-.94-2.06-.94L8.5 2.5l-.94 2.06-2.06.94zm10 10l.94 2.06.94-2.06 2.06-.94-2.06-.94-.94-2.06-.94 2.06-2.06.94z\"/><path d=\"M17.41 7.96l-1.37-1.37c-.4-.4-.92-.59-1.43-.59-.52 0-1.04.2-1.43.59L10.3 9.45l-7.72 7.72c-.78.78-.78 2.05 0 2.83L4 21.41c.39.39.9.59 1.41.59.51 0 1.02-.2 1.41-.59l7.78-7.78 2.81-2.81c.8-.78.8-2.07 0-2.86zM5.41 20L4 18.59l7.72-7.72 1.47 1.35L5.41 20z\"/>\n",
              "  </svg>\n",
              "      </button>\n",
              "      \n",
              "  <style>\n",
              "    .colab-df-container {\n",
              "      display:flex;\n",
              "      flex-wrap:wrap;\n",
              "      gap: 12px;\n",
              "    }\n",
              "\n",
              "    .colab-df-convert {\n",
              "      background-color: #E8F0FE;\n",
              "      border: none;\n",
              "      border-radius: 50%;\n",
              "      cursor: pointer;\n",
              "      display: none;\n",
              "      fill: #1967D2;\n",
              "      height: 32px;\n",
              "      padding: 0 0 0 0;\n",
              "      width: 32px;\n",
              "    }\n",
              "\n",
              "    .colab-df-convert:hover {\n",
              "      background-color: #E2EBFA;\n",
              "      box-shadow: 0px 1px 2px rgba(60, 64, 67, 0.3), 0px 1px 3px 1px rgba(60, 64, 67, 0.15);\n",
              "      fill: #174EA6;\n",
              "    }\n",
              "\n",
              "    [theme=dark] .colab-df-convert {\n",
              "      background-color: #3B4455;\n",
              "      fill: #D2E3FC;\n",
              "    }\n",
              "\n",
              "    [theme=dark] .colab-df-convert:hover {\n",
              "      background-color: #434B5C;\n",
              "      box-shadow: 0px 1px 3px 1px rgba(0, 0, 0, 0.15);\n",
              "      filter: drop-shadow(0px 1px 2px rgba(0, 0, 0, 0.3));\n",
              "      fill: #FFFFFF;\n",
              "    }\n",
              "  </style>\n",
              "\n",
              "      <script>\n",
              "        const buttonEl =\n",
              "          document.querySelector('#df-8c8e31ba-0fd9-437a-ac21-532733a8ad19 button.colab-df-convert');\n",
              "        buttonEl.style.display =\n",
              "          google.colab.kernel.accessAllowed ? 'block' : 'none';\n",
              "\n",
              "        async function convertToInteractive(key) {\n",
              "          const element = document.querySelector('#df-8c8e31ba-0fd9-437a-ac21-532733a8ad19');\n",
              "          const dataTable =\n",
              "            await google.colab.kernel.invokeFunction('convertToInteractive',\n",
              "                                                     [key], {});\n",
              "          if (!dataTable) return;\n",
              "\n",
              "          const docLinkHtml = 'Like what you see? Visit the ' +\n",
              "            '<a target=\"_blank\" href=https://colab.research.google.com/notebooks/data_table.ipynb>data table notebook</a>'\n",
              "            + ' to learn more about interactive tables.';\n",
              "          element.innerHTML = '';\n",
              "          dataTable['output_type'] = 'display_data';\n",
              "          await google.colab.output.renderOutput(dataTable, element);\n",
              "          const docLink = document.createElement('div');\n",
              "          docLink.innerHTML = docLinkHtml;\n",
              "          element.appendChild(docLink);\n",
              "        }\n",
              "      </script>\n",
              "    </div>\n",
              "  </div>\n",
              "  "
            ]
          },
          "metadata": {},
          "execution_count": 17
        }
      ]
    },
    {
      "cell_type": "markdown",
      "source": [
        "#Data Convrsion"
      ],
      "metadata": {
        "id": "mpWsnawEY2Mr"
      }
    },
    {
      "cell_type": "code",
      "source": [
        "dataset.dtypes"
      ],
      "metadata": {
        "colab": {
          "base_uri": "https://localhost:8080/"
        },
        "id": "8H5R_9NTYxbX",
        "outputId": "516e0ea2-0256-4e9d-dcfd-24431f859881"
      },
      "execution_count": 18,
      "outputs": [
        {
          "output_type": "execute_result",
          "data": {
            "text/plain": [
              "Agent_id                object\n",
              "status                  object\n",
              "lost_reason             object\n",
              "budget                  object\n",
              "lease                   object\n",
              "room_type               object\n",
              "lead_id                 object\n",
              "duration       timedelta64[ns]\n",
              "dtype: object"
            ]
          },
          "metadata": {},
          "execution_count": 18
        }
      ]
    },
    {
      "cell_type": "markdown",
      "source": [
        "#### As we can see that most of the columns have object data type but to find out best feature column we need numerical data. So converting the object data to numerical data."
      ],
      "metadata": {
        "id": "Cjn_VkzdY-TI"
      }
    },
    {
      "cell_type": "code",
      "source": [
        "dataset['budget'] = dataset['budget'].astype(int)"
      ],
      "metadata": {
        "id": "nCACK3toY7mq"
      },
      "execution_count": 19,
      "outputs": []
    },
    {
      "cell_type": "code",
      "source": [
        "dataset['lease'] = dataset['lease'].astype(int)"
      ],
      "metadata": {
        "id": "9gfaob10ZrAX"
      },
      "execution_count": 20,
      "outputs": []
    },
    {
      "cell_type": "code",
      "source": [
        "dataset['duration'].unique()"
      ],
      "metadata": {
        "colab": {
          "base_uri": "https://localhost:8080/"
        },
        "id": "rnJAaFCTZ3dr",
        "outputId": "5f2c49a4-7e32-4ef7-acc2-abf6e081b0dc"
      },
      "execution_count": 21,
      "outputs": [
        {
          "output_type": "execute_result",
          "data": {
            "text/plain": [
              "array([                  0,   14083200000000000,   13392000000000000,\n",
              "         12787200000000000,   13910400000000000,   13737600000000000,\n",
              "         15984000000000000,   12700800000000000,   14169600000000000,\n",
              "         13219200000000000,   13305600000000000,   13996800000000000,\n",
              "         12528000000000000,   13564800000000000,   11491200000000000,\n",
              "         11923200000000000,   11577600000000000,   12873600000000000,\n",
              "          6220800000000000,   12009600000000000,  -12528000000000000,\n",
              "          2937600000000000,   12355200000000000,  -12182400000000000,\n",
              "         18057600000000000,  -18230400000000000,    3456000000000000,\n",
              "        -11750400000000000,  -17280000000000000,   13046400000000000,\n",
              "         14601600000000000,  -13824000000000000,   16761600000000000,\n",
              "         11404800000000000,   13478400000000000,   12441600000000000,\n",
              "         13132800000000000,   13824000000000000,    2505600000000000,\n",
              "         12096000000000000,   14256000000000000,   18576000000000000,\n",
              "          9590400000000000,   19180800000000000,   19353600000000000,\n",
              "         13651200000000000,  -12096000000000000,   12182400000000000,\n",
              "          3110400000000000,    2332800000000000,   16675200000000000,\n",
              "        -17452800000000000,   17884800000000000,   16588800000000000,\n",
              "         15465600000000000,    3542400000000000,   15033600000000000,\n",
              "         14947200000000000,   16243200000000000,  -27993600000000000,\n",
              "         14688000000000000,  -18662400000000000,    2851200000000000,\n",
              "         16416000000000000,  -18576000000000000,   11836800000000000,\n",
              "         -9590400000000000,  -17193600000000000,   12614400000000000,\n",
              "         15120000000000000,  -12700800000000000,    3369600000000000,\n",
              "         15897600000000000,  -17539200000000000,  -12268800000000000,\n",
              "         16156800000000000,   15724800000000000,    6134400000000000,\n",
              "         11318400000000000,    1641600000000000,  -18316800000000000,\n",
              "         12960000000000000,   15811200000000000,   15552000000000000,\n",
              "         12268800000000000,  -43545600000000000,   17020800000000000,\n",
              "         15638400000000000,   15292800000000000,   17625600000000000,\n",
              "        -12355200000000000,   16502400000000000,   15379200000000000,\n",
              "          8380800000000000,   10800000000000000,   14774400000000000,\n",
              "         16848000000000000,   17971200000000000,   16329600000000000,\n",
              "         16070400000000000,  -13046400000000000,  -16675200000000000,\n",
              "          3196800000000000,   11664000000000000,   14515200000000000,\n",
              "          9849600000000000,   14342400000000000,   17366400000000000,\n",
              "         14428800000000000,    2764800000000000,   34992000000000000,\n",
              "         18230400000000000,   10627200000000000,    1382400000000000,\n",
              "        -17798400000000000,  -17625600000000000,   10713600000000000,\n",
              "         -9504000000000000,   10886400000000000,   11232000000000000,\n",
              "        -13305600000000000,   -4320000000000000,    3715200000000000,\n",
              "         16934400000000000,  -16070400000000000,  -13219200000000000,\n",
              "        -15984000000000000,  -18403200000000000,    5011200000000000,\n",
              "         14860800000000000,   10454400000000000,  -18144000000000000,\n",
              "          8726400000000000,  -16156800000000000,  -17366400000000000,\n",
              "        -14947200000000000,  -16329600000000000,   11145600000000000,\n",
              "          9936000000000000,    4060800000000000,   17712000000000000,\n",
              "        -19958400000000000,     777600000000000,    -259200000000000,\n",
              "         18316800000000000,    1555200000000000,  559353600000000000,\n",
              "         18835200000000000,    1814400000000000,   18662400000000000,\n",
              "         10195200000000000,    8812800000000000,   18144000000000000,\n",
              "         17798400000000000,    5356800000000000,  -14774400000000000,\n",
              "          -777600000000000,   17539200000000000,  -19180800000000000,\n",
              "         15206400000000000,    4579200000000000,   19267200000000000,\n",
              "          9417600000000000,  -18057600000000000,  -14688000000000000,\n",
              "         11750400000000000,   18489600000000000,   19440000000000000,\n",
              "          4233600000000000,   18748800000000000,  652579200000000000,\n",
              "          1468800000000000,   -6220800000000000,  -12873600000000000,\n",
              "          3283200000000000,    4147200000000000,  -19094400000000000,\n",
              "         -1641600000000000,  -13737600000000000,  -43632000000000000,\n",
              "          3024000000000000,  -15811200000000000,   -3888000000000000,\n",
              "         10368000000000000,    1900800000000000,     864000000000000,\n",
              "          -345600000000000,   10108800000000000,   17280000000000000,\n",
              "        -20044800000000000,    8985600000000000,    8035200000000000,\n",
              "          4924800000000000,    6912000000000000,  -13910400000000000,\n",
              "           950400000000000,   19008000000000000,  -19785600000000000,\n",
              "          7776000000000000,  -19440000000000000,  -17020800000000000,\n",
              "        -28339200000000000,    2246400000000000,    1987200000000000,\n",
              "        -17712000000000000,   18921600000000000,  -14860800000000000,\n",
              "          4406400000000000,  -19612800000000000,  -18489600000000000,\n",
              "        -25401600000000000,   11059200000000000,    9158400000000000,\n",
              "         17193600000000000,   17107200000000000,  -12009600000000000,\n",
              "         -8726400000000000,    5270400000000000,  -14083200000000000,\n",
              "        646272000000000000,  -17107200000000000,    1728000000000000,\n",
              "        -13132800000000000,  -19699200000000000,    1036800000000000,\n",
              "         10281600000000000,  -16502400000000000,  -18748800000000000,\n",
              "          8553600000000000,   17452800000000000,    2592000000000000,\n",
              "         24364800000000000,  -10972800000000000,  -42768000000000000,\n",
              "          8899200000000000,  -18835200000000000,  -15552000000000000,\n",
              "        -20822400000000000,    3628800000000000,  -13392000000000000,\n",
              "        -16934400000000000,    6652800000000000,   -1296000000000000,\n",
              "        -16588800000000000,  -19872000000000000,  -25315200000000000,\n",
              "         19094400000000000,    8294400000000000,   10972800000000000,\n",
              "        -19267200000000000,  -14342400000000000,    2160000000000000,\n",
              "          1296000000000000,    5443200000000000,  -11577600000000000,\n",
              "        -16416000000000000,   -2419200000000000,    2678400000000000,\n",
              "         -6825600000000000,  -14515200000000000,  -19008000000000000,\n",
              "        -26438400000000000,    -518400000000000,  -41126400000000000,\n",
              "        -15897600000000000,    4752000000000000,  -30585600000000000,\n",
              "          6048000000000000,    3888000000000000,    4320000000000000,\n",
              "        -16848000000000000,  -17971200000000000,   -7603200000000000,\n",
              "         18403200000000000,    2419200000000000,  -13651200000000000,\n",
              "        -15292800000000000,   34300800000000000,    9072000000000000,\n",
              "        -41990400000000000,  -12960000000000000,  -15120000000000000,\n",
              "          7257600000000000,  -13996800000000000,  -14601600000000000,\n",
              "        -12787200000000000,  -18921600000000000,  -41472000000000000,\n",
              "        -12441600000000000,  -10800000000000000,  -19353600000000000,\n",
              "        -12614400000000000,    3801600000000000,   34214400000000000,\n",
              "         -4147200000000000,  -11232000000000000,   23932800000000000,\n",
              "        -17884800000000000,  -15033600000000000,  -28080000000000000,\n",
              "         -4233600000000000,  605404800000000000,  -16243200000000000,\n",
              "        -13564800000000000,    9763200000000000,    6307200000000000,\n",
              "         49766400000000000,     604800000000000,    5184000000000000,\n",
              "        665625600000000000,   33091200000000000,  -15465600000000000,\n",
              "        -19526400000000000,   -7257600000000000,   34128000000000000,\n",
              "        -14428800000000000,    8467200000000000,  -15724800000000000,\n",
              "        -16761600000000000,    5097600000000000,    7603200000000000,\n",
              "         -1555200000000000,  -23932800000000000, 1675987200000000000,\n",
              "        -15379200000000000,    9331200000000000,    5875200000000000,\n",
              "         44841600000000000,    5961600000000000,  -21340800000000000,\n",
              "        588988800000000000,    2073600000000000,  -33177600000000000,\n",
              "          5702400000000000,  -42163200000000000,    4838400000000000,\n",
              "          7516800000000000,  -11404800000000000,    8208000000000000,\n",
              "        518486400000000000,  -28425600000000000,  -29203200000000000,\n",
              "        -10368000000000000,   -9936000000000000,    6998400000000000,\n",
              "         -6480000000000000,   10540800000000000,   -9417600000000000,\n",
              "        -15638400000000000,  514598400000000000,    4492800000000000,\n",
              "          7084800000000000,   -9849600000000000,   32313600000000000,\n",
              "           259200000000000,    8121600000000000,   -4406400000000000,\n",
              "        -21772800000000000,    7171200000000000,     432000000000000,\n",
              "         -6912000000000000,  -42422400000000000,   -1814400000000000,\n",
              "         -5270400000000000,  -21686400000000000,  -43113600000000000,\n",
              "         76723200000000000,   -9244800000000000,  -42249600000000000,\n",
              "         34646400000000000,  -22982400000000000,    5616000000000000,\n",
              "         45878400000000000,   44668800000000000,   10022400000000000,\n",
              "        -47952000000000000,   77068800000000000,  -13478400000000000,\n",
              "         -2073600000000000,  -49420800000000000,   45273600000000000,\n",
              "         46569600000000000,    7948800000000000,  -26611200000000000,\n",
              "         45446400000000000,    5529600000000000,   -5702400000000000,\n",
              "         66441600000000000,     -86400000000000,     518400000000000,\n",
              "         31968000000000000,   21945600000000000,   77328000000000000,\n",
              "        -38448000000000000,    3974400000000000,    6739200000000000,\n",
              "         32918400000000000,    6480000000000000,   -8294400000000000,\n",
              "         -1987200000000000,   64627200000000000,   65836800000000000,\n",
              "         32832000000000000,    7430400000000000,     345600000000000,\n",
              "         36633600000000000,    6566400000000000,   76118400000000000,\n",
              "         -4579200000000000,  -22723200000000000,   -9676800000000000,\n",
              "          8640000000000000,   31622400000000000,   44064000000000000,\n",
              "         42940800000000000,  666144000000000000,  -20131200000000000,\n",
              "        -22809600000000000,   75600000000000000,  577584000000000000,\n",
              "          9504000000000000,   21600000000000000,    5788800000000000,\n",
              "          4665600000000000,   45964800000000000,   38016000000000000,\n",
              "        -14169600000000000,  -22204800000000000,   64022400000000000,\n",
              "         33609600000000000,   31795200000000000,    6825600000000000,\n",
              "         -1036800000000000,  -14256000000000000,   64713600000000000,\n",
              "        -15206400000000000,  347328000000000000,   31104000000000000,\n",
              "         19785600000000000,   19958400000000000,   53740800000000000,\n",
              "          7344000000000000,  -10108800000000000,  -11145600000000000,\n",
              "        -41212800000000000,   -8121600000000000,   44582400000000000,\n",
              "          -172800000000000,    9244800000000000,  -27820800000000000,\n",
              "         44236800000000000,   45360000000000000,  413683200000000000,\n",
              "        -31968000000000000,    1209600000000000,   -3283200000000000,\n",
              "          1123200000000000,   28684800000000000,   30153600000000000,\n",
              "        -48038400000000000,   32486400000000000,   -5097600000000000,\n",
              "        -10886400000000000,   -7084800000000000,  757036800000000000,\n",
              "         50716800000000000,   34473600000000000,  -27648000000000000,\n",
              "        -10022400000000000], dtype='timedelta64[ns]')"
            ]
          },
          "metadata": {},
          "execution_count": 21
        }
      ]
    },
    {
      "cell_type": "markdown",
      "source": [
        "#### As we can see that duration contains some symbols and not in correct format. So lets convert them into int."
      ],
      "metadata": {
        "id": "D_R5NaAvaD91"
      }
    },
    {
      "cell_type": "code",
      "source": [
        "dataset['duration'] = dataset['duration'].map(lambda x:str(x).replace('days',''))\n",
        "dataset['duration'] = dataset['duration'].map(lambda x:str(x).replace('00:00:00',''))"
      ],
      "metadata": {
        "id": "9f32WIgzaR82"
      },
      "execution_count": 22,
      "outputs": []
    },
    {
      "cell_type": "code",
      "source": [
        "dataset['duration'] = dataset['duration'].map(lambda x:str(x).replace('+',''))\n",
        "dataset['duration'] = dataset['duration'].map(lambda x:str(x).replace('-',''))\n",
        "dataset['duration'] = dataset['duration'].map(lambda x:str(x).replace(' ',''))"
      ],
      "metadata": {
        "id": "6crVDT77bNGY"
      },
      "execution_count": 23,
      "outputs": []
    },
    {
      "cell_type": "code",
      "source": [
        "dataset['duration'] = dataset['duration'].astype(int)"
      ],
      "metadata": {
        "id": "yuRJRhwoa2QV"
      },
      "execution_count": 24,
      "outputs": []
    },
    {
      "cell_type": "code",
      "source": [
        "dataset['duration'] = dataset['duration'].astype(int)"
      ],
      "metadata": {
        "id": "7ZxWW0Nka1Gs"
      },
      "execution_count": 25,
      "outputs": []
    },
    {
      "cell_type": "code",
      "source": [
        "dataset.dtypes"
      ],
      "metadata": {
        "colab": {
          "base_uri": "https://localhost:8080/"
        },
        "id": "JOasKXV2bywm",
        "outputId": "aa034267-f937-4f09-8a1d-2ab1ae4a1c7d"
      },
      "execution_count": 26,
      "outputs": [
        {
          "output_type": "execute_result",
          "data": {
            "text/plain": [
              "Agent_id       object\n",
              "status         object\n",
              "lost_reason    object\n",
              "budget          int64\n",
              "lease           int64\n",
              "room_type      object\n",
              "lead_id        object\n",
              "duration        int64\n",
              "dtype: object"
            ]
          },
          "metadata": {},
          "execution_count": 26
        }
      ]
    },
    {
      "cell_type": "markdown",
      "source": [
        "####As we can see that budget,lease,duration converted to int type data.\n",
        "But still status lost reason room type are in object form. Lets convert them into int type."
      ],
      "metadata": {
        "id": "fpsta6Swb6vt"
      }
    },
    {
      "cell_type": "code",
      "source": [
        "dataset['room_type'].unique()"
      ],
      "metadata": {
        "colab": {
          "base_uri": "https://localhost:8080/"
        },
        "id": "AOzr_c--cg2N",
        "outputId": "48841b65-c73e-4886-dd58-d669d03331ed"
      },
      "execution_count": 27,
      "outputs": [
        {
          "output_type": "execute_result",
          "data": {
            "text/plain": [
              "array(['Not Sure', 'Ensuite', 'Entire Place', 'Studio', 'Twin-Studio',\n",
              "       'Non-Ensuite'], dtype=object)"
            ]
          },
          "metadata": {},
          "execution_count": 27
        }
      ]
    },
    {
      "cell_type": "markdown",
      "source": [
        "#### As we can see there are various categories of room types, so converting them into numerical values.\n",
        "'Not Sure' = 0\n",
        "'Ensuite' = 1\n",
        "'Entire Place' = 2 \n",
        "'Studio' = 3 \n",
        "'Twin-Studio' = 4\n",
        "'Non-Ensuite' = 5"
      ],
      "metadata": {
        "id": "goa0I_80eB8R"
      }
    },
    {
      "cell_type": "code",
      "source": [
        "room_type_map = {'Not Sure' : 0, 'Ensuite' : 1,'Entire Place' : 2,'Studio' : 3,'Twin-Studio' : 4,'Non-Ensuite' : 5}\n",
        "dataset.loc[:,'Room Type'] = dataset['room_type'].apply(lambda x: room_type_map[x])"
      ],
      "metadata": {
        "id": "gm8GgnZveiOl"
      },
      "execution_count": 28,
      "outputs": []
    },
    {
      "cell_type": "code",
      "source": [
        "dataset = dataset.drop('room_type',axis=1)"
      ],
      "metadata": {
        "id": "40PgTMPnfPfx"
      },
      "execution_count": 29,
      "outputs": []
    },
    {
      "cell_type": "code",
      "source": [
        "dataset['lost_reason'].unique()"
      ],
      "metadata": {
        "colab": {
          "base_uri": "https://localhost:8080/"
        },
        "id": "aQ3B187SfnHL",
        "outputId": "aa1104d3-019e-4147-f469-100578583107"
      },
      "execution_count": 30,
      "outputs": [
        {
          "output_type": "execute_result",
          "data": {
            "text/plain": [
              "array(['Not responding', 'Low budget', 'Junk lead',\n",
              "       'Wants private accommodation', 'Short stay', 'Booked with manager',\n",
              "       'Low availability', 'Not interested', 'Just Enquiring',\n",
              "       'Distance issue', 'Not serving in that region', 'No supply',\n",
              "       'Repeat lead', 'Not a student', 'Semester stay', 'Supply issue',\n",
              "       '0', 'Visa/admission denied', 'Inadequate details',\n",
              "       'Booked with competitor', 'Not going to university',\n",
              "       'Junk lead/ Just Enquiring', 'Lead issue',\n",
              "       'Booked on campus accommodation', 'Looking for admission',\n",
              "       'Underage student', 'Guarantor issue', \"Didn't respond in time\",\n",
              "       'Looking for loan', 'Looking for Scholarship', 'Cross sell'],\n",
              "      dtype=object)"
            ]
          },
          "metadata": {},
          "execution_count": 30
        }
      ]
    },
    {
      "cell_type": "markdown",
      "source": [
        "#### As we can see there is a lot of reasons for lost, lets convert them into numerical values."
      ],
      "metadata": {
        "id": "FCHRtF8whVv4"
      }
    },
    {
      "cell_type": "code",
      "source": [
        "lost_reason_map = {'Not responding':-1, 'Low budget':1, 'Junk lead':2,\n",
        "       'Wants private accommodation':3, 'Short stay':4, 'Booked with manager':5,\n",
        "       'Low availability':6, 'Not interested':7, 'Just Enquiring':8,\n",
        "       'Distance issue':9, 'Not serving in that region':10, 'No supply':11,\n",
        "       'Repeat lead':12, 'Not a student':13, 'Semester stay':14, 'Supply issue':15,\n",
        "       '0':0, 'Visa/admission denied':16, 'Inadequate details':17,\n",
        "       'Booked with competitor':18, 'Not going to university':19,\n",
        "       'Junk lead/ Just Enquiring':20, 'Lead issue':21,\n",
        "       'Booked on campus accommodation':22, 'Looking for admission':23,\n",
        "       'Underage student':24, 'Guarantor issue':25, \"Didn't respond in time\":26,\n",
        "       'Looking for loan':27, 'Looking for Scholarship':28, 'Cross sell':29}\n",
        "\n",
        "dataset.loc[:,'Lost Reason'] = dataset['lost_reason'].apply(lambda x: lost_reason_map[x])\n",
        "dataset = dataset.drop('lost_reason',axis=1)\n",
        "dataset"
      ],
      "metadata": {
        "colab": {
          "base_uri": "https://localhost:8080/",
          "height": 423
        },
        "id": "16v5PiGqhgJp",
        "outputId": "c33fab15-666f-4d36-aed2-f0da8b0c604f"
      },
      "execution_count": 31,
      "outputs": [
        {
          "output_type": "execute_result",
          "data": {
            "text/plain": [
              "                                                Agent_id status  budget  \\\n",
              "0      1deba9e96f404694373de9749ddd1ca8aa7bb823145a6f...   LOST       0   \n",
              "1      299ae77a4ef350ae0dd37d6bba1c002d03444fb1edb236...   LOST       0   \n",
              "2      c213697430c006013012dd2aca82dd9732aa0a1a6bca13...   LOST     121   \n",
              "3      eac9815a500f908736d303e23aa227f0957177b0e6756b...   LOST       0   \n",
              "4      1deba9e96f404694373de9749ddd1ca8aa7bb823145a6f...   LOST       0   \n",
              "...                                                  ...    ...     ...   \n",
              "46603  2306878a9ad9b57686cd623dd285aaa9b25afdf627f651...   LOST      60   \n",
              "46604  327ec29056cc47c24bf922f7dc0f78261dad5c726d7353...   LOST      60   \n",
              "46605  1134c0a7d44fdae1afd7f1f64e2789496784095ca0a050...   LOST     241   \n",
              "46606  8b8b029f1142f5cbc825aa6cbee01406c915c6b055db79...   LOST       0   \n",
              "46607  1ea65ea38f2f574b3875ba895e4ff76b284b7725041612...   LOST     181   \n",
              "\n",
              "       lease                                            lead_id  duration  \\\n",
              "0          0  cd5dc0d9393f3980d11d4ba6f88f8110c2b7a7f7796307...         0   \n",
              "1          0  b94693673a5f7178d1b114e4004ad52377d3244dd24a3d...         0   \n",
              "2         40  96ea4e2bf04496c044745938c0299c264c3f4ba079e572...       163   \n",
              "3          0  1d2b34d8add02a182a4129023766ca4585a8ddced0e5b3...         0   \n",
              "4          0  fc10fffd29cfbe93c55158fb47752a7501c211d253468c...         0   \n",
              "...      ...                                                ...       ...   \n",
              "46603     50  1aaa4a4a9092e4c0eabf958ed9aea59c50d8ea3f08f691...       162   \n",
              "46604      8  1f90dbad4873cb9673ff3c7ec69fbac4289181453c6cea...       134   \n",
              "46605     40  d9e0f455b68a6573544ffac32292541a510fe2daffe2bb...       143   \n",
              "46606      0  1f90dbad4873cb9673ff3c7ec69fbac4289181453c6cea...       164   \n",
              "46607     40  7520a8abba2b44d7f37c0ddbe5f7f3d87540b2b7a670e9...       162   \n",
              "\n",
              "       Room Type  Lost Reason  \n",
              "0              0           -1  \n",
              "1              0            1  \n",
              "2              1           -1  \n",
              "3              0            1  \n",
              "4              0            2  \n",
              "...          ...          ...  \n",
              "46603          3            6  \n",
              "46604          3           14  \n",
              "46605          3            6  \n",
              "46606          0            6  \n",
              "46607          3            6  \n",
              "\n",
              "[46317 rows x 8 columns]"
            ],
            "text/html": [
              "\n",
              "  <div id=\"df-a8898a47-e47c-4b67-acd4-f25e2bf27908\">\n",
              "    <div class=\"colab-df-container\">\n",
              "      <div>\n",
              "<style scoped>\n",
              "    .dataframe tbody tr th:only-of-type {\n",
              "        vertical-align: middle;\n",
              "    }\n",
              "\n",
              "    .dataframe tbody tr th {\n",
              "        vertical-align: top;\n",
              "    }\n",
              "\n",
              "    .dataframe thead th {\n",
              "        text-align: right;\n",
              "    }\n",
              "</style>\n",
              "<table border=\"1\" class=\"dataframe\">\n",
              "  <thead>\n",
              "    <tr style=\"text-align: right;\">\n",
              "      <th></th>\n",
              "      <th>Agent_id</th>\n",
              "      <th>status</th>\n",
              "      <th>budget</th>\n",
              "      <th>lease</th>\n",
              "      <th>lead_id</th>\n",
              "      <th>duration</th>\n",
              "      <th>Room Type</th>\n",
              "      <th>Lost Reason</th>\n",
              "    </tr>\n",
              "  </thead>\n",
              "  <tbody>\n",
              "    <tr>\n",
              "      <th>0</th>\n",
              "      <td>1deba9e96f404694373de9749ddd1ca8aa7bb823145a6f...</td>\n",
              "      <td>LOST</td>\n",
              "      <td>0</td>\n",
              "      <td>0</td>\n",
              "      <td>cd5dc0d9393f3980d11d4ba6f88f8110c2b7a7f7796307...</td>\n",
              "      <td>0</td>\n",
              "      <td>0</td>\n",
              "      <td>-1</td>\n",
              "    </tr>\n",
              "    <tr>\n",
              "      <th>1</th>\n",
              "      <td>299ae77a4ef350ae0dd37d6bba1c002d03444fb1edb236...</td>\n",
              "      <td>LOST</td>\n",
              "      <td>0</td>\n",
              "      <td>0</td>\n",
              "      <td>b94693673a5f7178d1b114e4004ad52377d3244dd24a3d...</td>\n",
              "      <td>0</td>\n",
              "      <td>0</td>\n",
              "      <td>1</td>\n",
              "    </tr>\n",
              "    <tr>\n",
              "      <th>2</th>\n",
              "      <td>c213697430c006013012dd2aca82dd9732aa0a1a6bca13...</td>\n",
              "      <td>LOST</td>\n",
              "      <td>121</td>\n",
              "      <td>40</td>\n",
              "      <td>96ea4e2bf04496c044745938c0299c264c3f4ba079e572...</td>\n",
              "      <td>163</td>\n",
              "      <td>1</td>\n",
              "      <td>-1</td>\n",
              "    </tr>\n",
              "    <tr>\n",
              "      <th>3</th>\n",
              "      <td>eac9815a500f908736d303e23aa227f0957177b0e6756b...</td>\n",
              "      <td>LOST</td>\n",
              "      <td>0</td>\n",
              "      <td>0</td>\n",
              "      <td>1d2b34d8add02a182a4129023766ca4585a8ddced0e5b3...</td>\n",
              "      <td>0</td>\n",
              "      <td>0</td>\n",
              "      <td>1</td>\n",
              "    </tr>\n",
              "    <tr>\n",
              "      <th>4</th>\n",
              "      <td>1deba9e96f404694373de9749ddd1ca8aa7bb823145a6f...</td>\n",
              "      <td>LOST</td>\n",
              "      <td>0</td>\n",
              "      <td>0</td>\n",
              "      <td>fc10fffd29cfbe93c55158fb47752a7501c211d253468c...</td>\n",
              "      <td>0</td>\n",
              "      <td>0</td>\n",
              "      <td>2</td>\n",
              "    </tr>\n",
              "    <tr>\n",
              "      <th>...</th>\n",
              "      <td>...</td>\n",
              "      <td>...</td>\n",
              "      <td>...</td>\n",
              "      <td>...</td>\n",
              "      <td>...</td>\n",
              "      <td>...</td>\n",
              "      <td>...</td>\n",
              "      <td>...</td>\n",
              "    </tr>\n",
              "    <tr>\n",
              "      <th>46603</th>\n",
              "      <td>2306878a9ad9b57686cd623dd285aaa9b25afdf627f651...</td>\n",
              "      <td>LOST</td>\n",
              "      <td>60</td>\n",
              "      <td>50</td>\n",
              "      <td>1aaa4a4a9092e4c0eabf958ed9aea59c50d8ea3f08f691...</td>\n",
              "      <td>162</td>\n",
              "      <td>3</td>\n",
              "      <td>6</td>\n",
              "    </tr>\n",
              "    <tr>\n",
              "      <th>46604</th>\n",
              "      <td>327ec29056cc47c24bf922f7dc0f78261dad5c726d7353...</td>\n",
              "      <td>LOST</td>\n",
              "      <td>60</td>\n",
              "      <td>8</td>\n",
              "      <td>1f90dbad4873cb9673ff3c7ec69fbac4289181453c6cea...</td>\n",
              "      <td>134</td>\n",
              "      <td>3</td>\n",
              "      <td>14</td>\n",
              "    </tr>\n",
              "    <tr>\n",
              "      <th>46605</th>\n",
              "      <td>1134c0a7d44fdae1afd7f1f64e2789496784095ca0a050...</td>\n",
              "      <td>LOST</td>\n",
              "      <td>241</td>\n",
              "      <td>40</td>\n",
              "      <td>d9e0f455b68a6573544ffac32292541a510fe2daffe2bb...</td>\n",
              "      <td>143</td>\n",
              "      <td>3</td>\n",
              "      <td>6</td>\n",
              "    </tr>\n",
              "    <tr>\n",
              "      <th>46606</th>\n",
              "      <td>8b8b029f1142f5cbc825aa6cbee01406c915c6b055db79...</td>\n",
              "      <td>LOST</td>\n",
              "      <td>0</td>\n",
              "      <td>0</td>\n",
              "      <td>1f90dbad4873cb9673ff3c7ec69fbac4289181453c6cea...</td>\n",
              "      <td>164</td>\n",
              "      <td>0</td>\n",
              "      <td>6</td>\n",
              "    </tr>\n",
              "    <tr>\n",
              "      <th>46607</th>\n",
              "      <td>1ea65ea38f2f574b3875ba895e4ff76b284b7725041612...</td>\n",
              "      <td>LOST</td>\n",
              "      <td>181</td>\n",
              "      <td>40</td>\n",
              "      <td>7520a8abba2b44d7f37c0ddbe5f7f3d87540b2b7a670e9...</td>\n",
              "      <td>162</td>\n",
              "      <td>3</td>\n",
              "      <td>6</td>\n",
              "    </tr>\n",
              "  </tbody>\n",
              "</table>\n",
              "<p>46317 rows × 8 columns</p>\n",
              "</div>\n",
              "      <button class=\"colab-df-convert\" onclick=\"convertToInteractive('df-a8898a47-e47c-4b67-acd4-f25e2bf27908')\"\n",
              "              title=\"Convert this dataframe to an interactive table.\"\n",
              "              style=\"display:none;\">\n",
              "        \n",
              "  <svg xmlns=\"http://www.w3.org/2000/svg\" height=\"24px\"viewBox=\"0 0 24 24\"\n",
              "       width=\"24px\">\n",
              "    <path d=\"M0 0h24v24H0V0z\" fill=\"none\"/>\n",
              "    <path d=\"M18.56 5.44l.94 2.06.94-2.06 2.06-.94-2.06-.94-.94-2.06-.94 2.06-2.06.94zm-11 1L8.5 8.5l.94-2.06 2.06-.94-2.06-.94L8.5 2.5l-.94 2.06-2.06.94zm10 10l.94 2.06.94-2.06 2.06-.94-2.06-.94-.94-2.06-.94 2.06-2.06.94z\"/><path d=\"M17.41 7.96l-1.37-1.37c-.4-.4-.92-.59-1.43-.59-.52 0-1.04.2-1.43.59L10.3 9.45l-7.72 7.72c-.78.78-.78 2.05 0 2.83L4 21.41c.39.39.9.59 1.41.59.51 0 1.02-.2 1.41-.59l7.78-7.78 2.81-2.81c.8-.78.8-2.07 0-2.86zM5.41 20L4 18.59l7.72-7.72 1.47 1.35L5.41 20z\"/>\n",
              "  </svg>\n",
              "      </button>\n",
              "      \n",
              "  <style>\n",
              "    .colab-df-container {\n",
              "      display:flex;\n",
              "      flex-wrap:wrap;\n",
              "      gap: 12px;\n",
              "    }\n",
              "\n",
              "    .colab-df-convert {\n",
              "      background-color: #E8F0FE;\n",
              "      border: none;\n",
              "      border-radius: 50%;\n",
              "      cursor: pointer;\n",
              "      display: none;\n",
              "      fill: #1967D2;\n",
              "      height: 32px;\n",
              "      padding: 0 0 0 0;\n",
              "      width: 32px;\n",
              "    }\n",
              "\n",
              "    .colab-df-convert:hover {\n",
              "      background-color: #E2EBFA;\n",
              "      box-shadow: 0px 1px 2px rgba(60, 64, 67, 0.3), 0px 1px 3px 1px rgba(60, 64, 67, 0.15);\n",
              "      fill: #174EA6;\n",
              "    }\n",
              "\n",
              "    [theme=dark] .colab-df-convert {\n",
              "      background-color: #3B4455;\n",
              "      fill: #D2E3FC;\n",
              "    }\n",
              "\n",
              "    [theme=dark] .colab-df-convert:hover {\n",
              "      background-color: #434B5C;\n",
              "      box-shadow: 0px 1px 3px 1px rgba(0, 0, 0, 0.15);\n",
              "      filter: drop-shadow(0px 1px 2px rgba(0, 0, 0, 0.3));\n",
              "      fill: #FFFFFF;\n",
              "    }\n",
              "  </style>\n",
              "\n",
              "      <script>\n",
              "        const buttonEl =\n",
              "          document.querySelector('#df-a8898a47-e47c-4b67-acd4-f25e2bf27908 button.colab-df-convert');\n",
              "        buttonEl.style.display =\n",
              "          google.colab.kernel.accessAllowed ? 'block' : 'none';\n",
              "\n",
              "        async function convertToInteractive(key) {\n",
              "          const element = document.querySelector('#df-a8898a47-e47c-4b67-acd4-f25e2bf27908');\n",
              "          const dataTable =\n",
              "            await google.colab.kernel.invokeFunction('convertToInteractive',\n",
              "                                                     [key], {});\n",
              "          if (!dataTable) return;\n",
              "\n",
              "          const docLinkHtml = 'Like what you see? Visit the ' +\n",
              "            '<a target=\"_blank\" href=https://colab.research.google.com/notebooks/data_table.ipynb>data table notebook</a>'\n",
              "            + ' to learn more about interactive tables.';\n",
              "          element.innerHTML = '';\n",
              "          dataTable['output_type'] = 'display_data';\n",
              "          await google.colab.output.renderOutput(dataTable, element);\n",
              "          const docLink = document.createElement('div');\n",
              "          docLink.innerHTML = docLinkHtml;\n",
              "          element.appendChild(docLink);\n",
              "        }\n",
              "      </script>\n",
              "    </div>\n",
              "  </div>\n",
              "  "
            ]
          },
          "metadata": {},
          "execution_count": 31
        }
      ]
    },
    {
      "cell_type": "markdown",
      "source": [
        "#### Now lets convert status from won/lost to 1/0s."
      ],
      "metadata": {
        "id": "TJIB6yMeim6s"
      }
    },
    {
      "cell_type": "code",
      "source": [
        "dataset['status'] = dataset['status'].apply(lambda x: 1 if x =='WON' else 0)\n",
        "dataset"
      ],
      "metadata": {
        "colab": {
          "base_uri": "https://localhost:8080/",
          "height": 423
        },
        "id": "dXm-TwfjiuZX",
        "outputId": "2bf2fe16-bf98-42c1-b9b2-e39f87f46eb3"
      },
      "execution_count": 32,
      "outputs": [
        {
          "output_type": "execute_result",
          "data": {
            "text/plain": [
              "                                                Agent_id  status  budget  \\\n",
              "0      1deba9e96f404694373de9749ddd1ca8aa7bb823145a6f...       0       0   \n",
              "1      299ae77a4ef350ae0dd37d6bba1c002d03444fb1edb236...       0       0   \n",
              "2      c213697430c006013012dd2aca82dd9732aa0a1a6bca13...       0     121   \n",
              "3      eac9815a500f908736d303e23aa227f0957177b0e6756b...       0       0   \n",
              "4      1deba9e96f404694373de9749ddd1ca8aa7bb823145a6f...       0       0   \n",
              "...                                                  ...     ...     ...   \n",
              "46603  2306878a9ad9b57686cd623dd285aaa9b25afdf627f651...       0      60   \n",
              "46604  327ec29056cc47c24bf922f7dc0f78261dad5c726d7353...       0      60   \n",
              "46605  1134c0a7d44fdae1afd7f1f64e2789496784095ca0a050...       0     241   \n",
              "46606  8b8b029f1142f5cbc825aa6cbee01406c915c6b055db79...       0       0   \n",
              "46607  1ea65ea38f2f574b3875ba895e4ff76b284b7725041612...       0     181   \n",
              "\n",
              "       lease                                            lead_id  duration  \\\n",
              "0          0  cd5dc0d9393f3980d11d4ba6f88f8110c2b7a7f7796307...         0   \n",
              "1          0  b94693673a5f7178d1b114e4004ad52377d3244dd24a3d...         0   \n",
              "2         40  96ea4e2bf04496c044745938c0299c264c3f4ba079e572...       163   \n",
              "3          0  1d2b34d8add02a182a4129023766ca4585a8ddced0e5b3...         0   \n",
              "4          0  fc10fffd29cfbe93c55158fb47752a7501c211d253468c...         0   \n",
              "...      ...                                                ...       ...   \n",
              "46603     50  1aaa4a4a9092e4c0eabf958ed9aea59c50d8ea3f08f691...       162   \n",
              "46604      8  1f90dbad4873cb9673ff3c7ec69fbac4289181453c6cea...       134   \n",
              "46605     40  d9e0f455b68a6573544ffac32292541a510fe2daffe2bb...       143   \n",
              "46606      0  1f90dbad4873cb9673ff3c7ec69fbac4289181453c6cea...       164   \n",
              "46607     40  7520a8abba2b44d7f37c0ddbe5f7f3d87540b2b7a670e9...       162   \n",
              "\n",
              "       Room Type  Lost Reason  \n",
              "0              0           -1  \n",
              "1              0            1  \n",
              "2              1           -1  \n",
              "3              0            1  \n",
              "4              0            2  \n",
              "...          ...          ...  \n",
              "46603          3            6  \n",
              "46604          3           14  \n",
              "46605          3            6  \n",
              "46606          0            6  \n",
              "46607          3            6  \n",
              "\n",
              "[46317 rows x 8 columns]"
            ],
            "text/html": [
              "\n",
              "  <div id=\"df-04b860f6-809e-4d0c-9a67-659284d741f3\">\n",
              "    <div class=\"colab-df-container\">\n",
              "      <div>\n",
              "<style scoped>\n",
              "    .dataframe tbody tr th:only-of-type {\n",
              "        vertical-align: middle;\n",
              "    }\n",
              "\n",
              "    .dataframe tbody tr th {\n",
              "        vertical-align: top;\n",
              "    }\n",
              "\n",
              "    .dataframe thead th {\n",
              "        text-align: right;\n",
              "    }\n",
              "</style>\n",
              "<table border=\"1\" class=\"dataframe\">\n",
              "  <thead>\n",
              "    <tr style=\"text-align: right;\">\n",
              "      <th></th>\n",
              "      <th>Agent_id</th>\n",
              "      <th>status</th>\n",
              "      <th>budget</th>\n",
              "      <th>lease</th>\n",
              "      <th>lead_id</th>\n",
              "      <th>duration</th>\n",
              "      <th>Room Type</th>\n",
              "      <th>Lost Reason</th>\n",
              "    </tr>\n",
              "  </thead>\n",
              "  <tbody>\n",
              "    <tr>\n",
              "      <th>0</th>\n",
              "      <td>1deba9e96f404694373de9749ddd1ca8aa7bb823145a6f...</td>\n",
              "      <td>0</td>\n",
              "      <td>0</td>\n",
              "      <td>0</td>\n",
              "      <td>cd5dc0d9393f3980d11d4ba6f88f8110c2b7a7f7796307...</td>\n",
              "      <td>0</td>\n",
              "      <td>0</td>\n",
              "      <td>-1</td>\n",
              "    </tr>\n",
              "    <tr>\n",
              "      <th>1</th>\n",
              "      <td>299ae77a4ef350ae0dd37d6bba1c002d03444fb1edb236...</td>\n",
              "      <td>0</td>\n",
              "      <td>0</td>\n",
              "      <td>0</td>\n",
              "      <td>b94693673a5f7178d1b114e4004ad52377d3244dd24a3d...</td>\n",
              "      <td>0</td>\n",
              "      <td>0</td>\n",
              "      <td>1</td>\n",
              "    </tr>\n",
              "    <tr>\n",
              "      <th>2</th>\n",
              "      <td>c213697430c006013012dd2aca82dd9732aa0a1a6bca13...</td>\n",
              "      <td>0</td>\n",
              "      <td>121</td>\n",
              "      <td>40</td>\n",
              "      <td>96ea4e2bf04496c044745938c0299c264c3f4ba079e572...</td>\n",
              "      <td>163</td>\n",
              "      <td>1</td>\n",
              "      <td>-1</td>\n",
              "    </tr>\n",
              "    <tr>\n",
              "      <th>3</th>\n",
              "      <td>eac9815a500f908736d303e23aa227f0957177b0e6756b...</td>\n",
              "      <td>0</td>\n",
              "      <td>0</td>\n",
              "      <td>0</td>\n",
              "      <td>1d2b34d8add02a182a4129023766ca4585a8ddced0e5b3...</td>\n",
              "      <td>0</td>\n",
              "      <td>0</td>\n",
              "      <td>1</td>\n",
              "    </tr>\n",
              "    <tr>\n",
              "      <th>4</th>\n",
              "      <td>1deba9e96f404694373de9749ddd1ca8aa7bb823145a6f...</td>\n",
              "      <td>0</td>\n",
              "      <td>0</td>\n",
              "      <td>0</td>\n",
              "      <td>fc10fffd29cfbe93c55158fb47752a7501c211d253468c...</td>\n",
              "      <td>0</td>\n",
              "      <td>0</td>\n",
              "      <td>2</td>\n",
              "    </tr>\n",
              "    <tr>\n",
              "      <th>...</th>\n",
              "      <td>...</td>\n",
              "      <td>...</td>\n",
              "      <td>...</td>\n",
              "      <td>...</td>\n",
              "      <td>...</td>\n",
              "      <td>...</td>\n",
              "      <td>...</td>\n",
              "      <td>...</td>\n",
              "    </tr>\n",
              "    <tr>\n",
              "      <th>46603</th>\n",
              "      <td>2306878a9ad9b57686cd623dd285aaa9b25afdf627f651...</td>\n",
              "      <td>0</td>\n",
              "      <td>60</td>\n",
              "      <td>50</td>\n",
              "      <td>1aaa4a4a9092e4c0eabf958ed9aea59c50d8ea3f08f691...</td>\n",
              "      <td>162</td>\n",
              "      <td>3</td>\n",
              "      <td>6</td>\n",
              "    </tr>\n",
              "    <tr>\n",
              "      <th>46604</th>\n",
              "      <td>327ec29056cc47c24bf922f7dc0f78261dad5c726d7353...</td>\n",
              "      <td>0</td>\n",
              "      <td>60</td>\n",
              "      <td>8</td>\n",
              "      <td>1f90dbad4873cb9673ff3c7ec69fbac4289181453c6cea...</td>\n",
              "      <td>134</td>\n",
              "      <td>3</td>\n",
              "      <td>14</td>\n",
              "    </tr>\n",
              "    <tr>\n",
              "      <th>46605</th>\n",
              "      <td>1134c0a7d44fdae1afd7f1f64e2789496784095ca0a050...</td>\n",
              "      <td>0</td>\n",
              "      <td>241</td>\n",
              "      <td>40</td>\n",
              "      <td>d9e0f455b68a6573544ffac32292541a510fe2daffe2bb...</td>\n",
              "      <td>143</td>\n",
              "      <td>3</td>\n",
              "      <td>6</td>\n",
              "    </tr>\n",
              "    <tr>\n",
              "      <th>46606</th>\n",
              "      <td>8b8b029f1142f5cbc825aa6cbee01406c915c6b055db79...</td>\n",
              "      <td>0</td>\n",
              "      <td>0</td>\n",
              "      <td>0</td>\n",
              "      <td>1f90dbad4873cb9673ff3c7ec69fbac4289181453c6cea...</td>\n",
              "      <td>164</td>\n",
              "      <td>0</td>\n",
              "      <td>6</td>\n",
              "    </tr>\n",
              "    <tr>\n",
              "      <th>46607</th>\n",
              "      <td>1ea65ea38f2f574b3875ba895e4ff76b284b7725041612...</td>\n",
              "      <td>0</td>\n",
              "      <td>181</td>\n",
              "      <td>40</td>\n",
              "      <td>7520a8abba2b44d7f37c0ddbe5f7f3d87540b2b7a670e9...</td>\n",
              "      <td>162</td>\n",
              "      <td>3</td>\n",
              "      <td>6</td>\n",
              "    </tr>\n",
              "  </tbody>\n",
              "</table>\n",
              "<p>46317 rows × 8 columns</p>\n",
              "</div>\n",
              "      <button class=\"colab-df-convert\" onclick=\"convertToInteractive('df-04b860f6-809e-4d0c-9a67-659284d741f3')\"\n",
              "              title=\"Convert this dataframe to an interactive table.\"\n",
              "              style=\"display:none;\">\n",
              "        \n",
              "  <svg xmlns=\"http://www.w3.org/2000/svg\" height=\"24px\"viewBox=\"0 0 24 24\"\n",
              "       width=\"24px\">\n",
              "    <path d=\"M0 0h24v24H0V0z\" fill=\"none\"/>\n",
              "    <path d=\"M18.56 5.44l.94 2.06.94-2.06 2.06-.94-2.06-.94-.94-2.06-.94 2.06-2.06.94zm-11 1L8.5 8.5l.94-2.06 2.06-.94-2.06-.94L8.5 2.5l-.94 2.06-2.06.94zm10 10l.94 2.06.94-2.06 2.06-.94-2.06-.94-.94-2.06-.94 2.06-2.06.94z\"/><path d=\"M17.41 7.96l-1.37-1.37c-.4-.4-.92-.59-1.43-.59-.52 0-1.04.2-1.43.59L10.3 9.45l-7.72 7.72c-.78.78-.78 2.05 0 2.83L4 21.41c.39.39.9.59 1.41.59.51 0 1.02-.2 1.41-.59l7.78-7.78 2.81-2.81c.8-.78.8-2.07 0-2.86zM5.41 20L4 18.59l7.72-7.72 1.47 1.35L5.41 20z\"/>\n",
              "  </svg>\n",
              "      </button>\n",
              "      \n",
              "  <style>\n",
              "    .colab-df-container {\n",
              "      display:flex;\n",
              "      flex-wrap:wrap;\n",
              "      gap: 12px;\n",
              "    }\n",
              "\n",
              "    .colab-df-convert {\n",
              "      background-color: #E8F0FE;\n",
              "      border: none;\n",
              "      border-radius: 50%;\n",
              "      cursor: pointer;\n",
              "      display: none;\n",
              "      fill: #1967D2;\n",
              "      height: 32px;\n",
              "      padding: 0 0 0 0;\n",
              "      width: 32px;\n",
              "    }\n",
              "\n",
              "    .colab-df-convert:hover {\n",
              "      background-color: #E2EBFA;\n",
              "      box-shadow: 0px 1px 2px rgba(60, 64, 67, 0.3), 0px 1px 3px 1px rgba(60, 64, 67, 0.15);\n",
              "      fill: #174EA6;\n",
              "    }\n",
              "\n",
              "    [theme=dark] .colab-df-convert {\n",
              "      background-color: #3B4455;\n",
              "      fill: #D2E3FC;\n",
              "    }\n",
              "\n",
              "    [theme=dark] .colab-df-convert:hover {\n",
              "      background-color: #434B5C;\n",
              "      box-shadow: 0px 1px 3px 1px rgba(0, 0, 0, 0.15);\n",
              "      filter: drop-shadow(0px 1px 2px rgba(0, 0, 0, 0.3));\n",
              "      fill: #FFFFFF;\n",
              "    }\n",
              "  </style>\n",
              "\n",
              "      <script>\n",
              "        const buttonEl =\n",
              "          document.querySelector('#df-04b860f6-809e-4d0c-9a67-659284d741f3 button.colab-df-convert');\n",
              "        buttonEl.style.display =\n",
              "          google.colab.kernel.accessAllowed ? 'block' : 'none';\n",
              "\n",
              "        async function convertToInteractive(key) {\n",
              "          const element = document.querySelector('#df-04b860f6-809e-4d0c-9a67-659284d741f3');\n",
              "          const dataTable =\n",
              "            await google.colab.kernel.invokeFunction('convertToInteractive',\n",
              "                                                     [key], {});\n",
              "          if (!dataTable) return;\n",
              "\n",
              "          const docLinkHtml = 'Like what you see? Visit the ' +\n",
              "            '<a target=\"_blank\" href=https://colab.research.google.com/notebooks/data_table.ipynb>data table notebook</a>'\n",
              "            + ' to learn more about interactive tables.';\n",
              "          element.innerHTML = '';\n",
              "          dataTable['output_type'] = 'display_data';\n",
              "          await google.colab.output.renderOutput(dataTable, element);\n",
              "          const docLink = document.createElement('div');\n",
              "          docLink.innerHTML = docLinkHtml;\n",
              "          element.appendChild(docLink);\n",
              "        }\n",
              "      </script>\n",
              "    </div>\n",
              "  </div>\n",
              "  "
            ]
          },
          "metadata": {},
          "execution_count": 32
        }
      ]
    },
    {
      "cell_type": "markdown",
      "source": [
        "#Feature Selection"
      ],
      "metadata": {
        "id": "40x3GWXZkKUN"
      }
    },
    {
      "cell_type": "markdown",
      "source": [
        "#### Checking the best numerical features for statistical description."
      ],
      "metadata": {
        "id": "VJdXOCyykOQe"
      }
    },
    {
      "cell_type": "code",
      "source": [
        "numerical = ['budget','lease','duration','Room Type','Lost Reason']\n",
        "\n",
        "p=[]\n",
        "from scipy.stats import ttest_ind\n",
        "\n",
        "for i in numerical:\n",
        "    df1=dataset.groupby('status').get_group(0)\n",
        "    df2=dataset.groupby('status').get_group(1)\n",
        "    t,pvalue=ttest_ind(df1[i],df2[i])\n",
        "    p.append(1-pvalue)\n",
        "plt.figure(figsize=(7,7))\n",
        "sns.barplot(x=p, y=numerical)\n",
        "plt.title('Best Numerical Features')\n",
        "plt.axvline(x=(1-0.05),color='r')\n",
        "plt.xlabel('1-p value')\n",
        "plt.show()"
      ],
      "metadata": {
        "colab": {
          "base_uri": "https://localhost:8080/",
          "height": 458
        },
        "id": "v6O3wfjDkNYS",
        "outputId": "6943cdfe-033f-4ab2-afdc-fc0a7f166393"
      },
      "execution_count": 33,
      "outputs": [
        {
          "output_type": "display_data",
          "data": {
            "text/plain": [
              "<Figure size 504x504 with 1 Axes>"
            ],
            "image/png": "[encoded data removed]"
          },
          "metadata": {
            "needs_background": "light"
          }
        }
      ]
    },
    {
      "cell_type": "markdown",
      "source": [
        "For visual purpose, I redid the graph to show acceptance of 'Alternative Hypothesis' for T Test. So, the ones crossing the red lines show statistical significance."
      ],
      "metadata": {
        "id": "C_pGDghklG3L"
      }
    },
    {
      "cell_type": "markdown",
      "source": [
        "#### Checking the std for both non Won and Lost."
      ],
      "metadata": {
        "id": "PyL40sYNlVd4"
      }
    },
    {
      "cell_type": "code",
      "source": [
        "for i in numerical:\n",
        "    df1=dataset.groupby('status').get_group(0)\n",
        "    df2=dataset.groupby('status').get_group(1)\n",
        "    print(np.std(df1[i],ddof=1),np.std(df2[i],ddof=1))"
      ],
      "metadata": {
        "colab": {
          "base_uri": "https://localhost:8080/"
        },
        "id": "Md4DRb6JkYuf",
        "outputId": "54a641eb-d0fb-4ce8-f156-69d1a8350ca5"
      },
      "execution_count": 34,
      "outputs": [
        {
          "output_type": "stream",
          "name": "stdout",
          "text": [
            "91.45243209216338 74.41797811574027\n",
            "23.20251295167526 21.603236204248567\n",
            "282.654214183691 69.91031069720847\n",
            "1.0588303757020425 1.0618932629523916\n",
            "5.334465725729353 0.0\n"
          ]
        }
      ]
    },
    {
      "cell_type": "markdown",
      "source": [
        "The above observations are Standard Deviations of Columns (i.e., Defaulters vs Non-defaulters). T Test for independence runs on the assumption that samples under observations should have equal Standard Deviations. And the difference observed above seems less."
      ],
      "metadata": {
        "id": "ur4Y9NWZnWLC"
      }
    },
    {
      "cell_type": "markdown",
      "source": [
        "#### Ploting Biox plot graphs to check outliers"
      ],
      "metadata": {
        "id": "Nt9eBrRSqC0k"
      }
    },
    {
      "cell_type": "markdown",
      "source": [
        "##### Box plot for Budget"
      ],
      "metadata": {
        "id": "r64ewGgitEXP"
      }
    },
    {
      "cell_type": "code",
      "source": [
        "sns.boxplot(dataset['budget'])\n",
        "plt.show()"
      ],
      "metadata": {
        "colab": {
          "base_uri": "https://localhost:8080/",
          "height": 279
        },
        "id": "EhTMub6utosA",
        "outputId": "35b6e07c-d2f1-421e-f3f6-e4c7ffd36951"
      },
      "execution_count": 40,
      "outputs": [
        {
          "output_type": "display_data",
          "data": {
            "text/plain": [
              "<Figure size 432x288 with 1 Axes>"
            ],
            "image/png": "[encoded data removed]"
          },
          "metadata": {
            "needs_background": "light"
          }
        }
      ]
    },
    {
      "cell_type": "code",
      "source": [
        "dataset = dataset[dataset['budget']<2000]"
      ],
      "metadata": {
        "id": "Uk3sDA9Dt0_9"
      },
      "execution_count": 41,
      "outputs": []
    },
    {
      "cell_type": "markdown",
      "source": [
        "#####Checking the outliers once again"
      ],
      "metadata": {
        "id": "gVBZrXX8uHYo"
      }
    },
    {
      "cell_type": "code",
      "source": [
        "sns.boxplot(dataset['budget'])\n",
        "plt.show()"
      ],
      "metadata": {
        "colab": {
          "base_uri": "https://localhost:8080/",
          "height": 279
        },
        "id": "IQ8vEilPt_jE",
        "outputId": "ddea39ba-b6ff-42f7-94ca-def28f827842"
      },
      "execution_count": 42,
      "outputs": [
        {
          "output_type": "display_data",
          "data": {
            "text/plain": [
              "<Figure size 432x288 with 1 Axes>"
            ],
            "image/png": "[encoded data removed]"
          },
          "metadata": {
            "needs_background": "light"
          }
        }
      ]
    },
    {
      "cell_type": "markdown",
      "source": [
        "#####Box Plot for lease\n"
      ],
      "metadata": {
        "id": "JCd1mNy4uNU5"
      }
    },
    {
      "cell_type": "code",
      "source": [
        "sns.boxplot(dataset['lease'])\n",
        "plt.show()"
      ],
      "metadata": {
        "colab": {
          "base_uri": "https://localhost:8080/",
          "height": 279
        },
        "id": "rRB-br_xuRI-",
        "outputId": "6f8fc6ed-c407-4b68-f02a-47f6f2dc1d5b"
      },
      "execution_count": 43,
      "outputs": [
        {
          "output_type": "display_data",
          "data": {
            "text/plain": [
              "<Figure size 432x288 with 1 Axes>"
            ],
            "image/png": "[encoded data removed]"
          },
          "metadata": {
            "needs_background": "light"
          }
        }
      ]
    },
    {
      "cell_type": "code",
      "source": [
        "dataset = dataset[dataset['lease']<500]"
      ],
      "metadata": {
        "id": "06QGm9c5uWdz"
      },
      "execution_count": 44,
      "outputs": []
    },
    {
      "cell_type": "code",
      "source": [
        "sns.boxplot(dataset['lease'])\n",
        "plt.show()"
      ],
      "metadata": {
        "colab": {
          "base_uri": "https://localhost:8080/",
          "height": 279
        },
        "id": "7gp_O9okue_g",
        "outputId": "3cf31592-c5c4-4aa9-834c-c4b246b93e10"
      },
      "execution_count": 45,
      "outputs": [
        {
          "output_type": "display_data",
          "data": {
            "text/plain": [
              "<Figure size 432x288 with 1 Axes>"
            ],
            "image/png": "[encoded data removed]"
          },
          "metadata": {
            "needs_background": "light"
          }
        }
      ]
    },
    {
      "cell_type": "code",
      "source": [
        "dataset = dataset[dataset['lease']<125]"
      ],
      "metadata": {
        "id": "OAdvasO0ujk2"
      },
      "execution_count": 46,
      "outputs": []
    },
    {
      "cell_type": "markdown",
      "source": [
        "####Box plot for duration"
      ],
      "metadata": {
        "id": "kqwYH2r-upJ9"
      }
    },
    {
      "cell_type": "code",
      "source": [
        "sns.boxplot(dataset['duration'])\n",
        "plt.show()"
      ],
      "metadata": {
        "colab": {
          "base_uri": "https://localhost:8080/",
          "height": 279
        },
        "id": "sdWwnZ0qutUV",
        "outputId": "4bbf2f60-0a8d-4771-8d7c-b0639b089a13"
      },
      "execution_count": 47,
      "outputs": [
        {
          "output_type": "display_data",
          "data": {
            "text/plain": [
              "<Figure size 432x288 with 1 Axes>"
            ],
            "image/png": "[encoded data removed]"
          },
          "metadata": {
            "needs_background": "light"
          }
        }
      ]
    },
    {
      "cell_type": "code",
      "source": [
        "dataset = dataset[dataset['duration']<10000]"
      ],
      "metadata": {
        "id": "lcD2jDpTu3bF"
      },
      "execution_count": 48,
      "outputs": []
    },
    {
      "cell_type": "code",
      "source": [
        "sns.boxplot(dataset['duration'])\n",
        "plt.show()"
      ],
      "metadata": {
        "colab": {
          "base_uri": "https://localhost:8080/",
          "height": 279
        },
        "id": "vm79xfvcu7HR",
        "outputId": "16a6b341-fe40-4d62-9246-e87c989bcd71"
      },
      "execution_count": 49,
      "outputs": [
        {
          "output_type": "display_data",
          "data": {
            "text/plain": [
              "<Figure size 432x288 with 1 Axes>"
            ],
            "image/png": "[encoded data removed]"
          },
          "metadata": {
            "needs_background": "light"
          }
        }
      ]
    },
    {
      "cell_type": "code",
      "source": [
        "dataset = dataset[dataset['duration']<4000]"
      ],
      "metadata": {
        "id": "yrjaQ5t-vAWv"
      },
      "execution_count": 50,
      "outputs": []
    },
    {
      "cell_type": "code",
      "source": [
        "sns.boxplot(dataset['duration'])\n",
        "plt.show()"
      ],
      "metadata": {
        "colab": {
          "base_uri": "https://localhost:8080/",
          "height": 279
        },
        "id": "-i4G64tGvEGn",
        "outputId": "e6395eb9-df51-4799-c7ce-fd636ae51a2c"
      },
      "execution_count": 51,
      "outputs": [
        {
          "output_type": "display_data",
          "data": {
            "text/plain": [
              "<Figure size 432x288 with 1 Axes>"
            ],
            "image/png": "[encoded data removed]"
          },
          "metadata": {
            "needs_background": "light"
          }
        }
      ]
    },
    {
      "cell_type": "markdown",
      "source": [
        "#####Box Plot for Room Type"
      ],
      "metadata": {
        "id": "QEe0WBIJvLYc"
      }
    },
    {
      "cell_type": "code",
      "source": [
        "sns.boxplot(dataset['Room Type'])\n",
        "plt.show()"
      ],
      "metadata": {
        "colab": {
          "base_uri": "https://localhost:8080/",
          "height": 279
        },
        "id": "OWtAIZ-5vQS5",
        "outputId": "b7a17c4e-31f9-420f-cc7d-2724623de4c7"
      },
      "execution_count": 52,
      "outputs": [
        {
          "output_type": "display_data",
          "data": {
            "text/plain": [
              "<Figure size 432x288 with 1 Axes>"
            ],
            "image/png": "[encoded data removed]"
          },
          "metadata": {
            "needs_background": "light"
          }
        }
      ]
    },
    {
      "cell_type": "code",
      "source": [
        "dataset = dataset[dataset['Room Type']<3]"
      ],
      "metadata": {
        "id": "KCS4ho36vWEU"
      },
      "execution_count": 53,
      "outputs": []
    },
    {
      "cell_type": "code",
      "source": [
        "sns.boxplot(dataset['Room Type'])\n",
        "plt.show()"
      ],
      "metadata": {
        "colab": {
          "base_uri": "https://localhost:8080/",
          "height": 279
        },
        "id": "a3bSyYmpvb8k",
        "outputId": "f8059090-9b11-4a96-aadb-4571df69bd0b"
      },
      "execution_count": 54,
      "outputs": [
        {
          "output_type": "display_data",
          "data": {
            "text/plain": [
              "<Figure size 432x288 with 1 Axes>"
            ],
            "image/png": "[encoded data removed]"
          },
          "metadata": {
            "needs_background": "light"
          }
        }
      ]
    },
    {
      "cell_type": "markdown",
      "source": [
        "#####Box Plot for Lost reason"
      ],
      "metadata": {
        "id": "wBHJ6r4evhU7"
      }
    },
    {
      "cell_type": "code",
      "source": [
        "sns.boxplot(dataset['Lost Reason'])\n",
        "plt.show()"
      ],
      "metadata": {
        "colab": {
          "base_uri": "https://localhost:8080/",
          "height": 279
        },
        "id": "b0dSH0wjvlYL",
        "outputId": "360f9b51-b3e4-42d9-a419-4eae3700e5d4"
      },
      "execution_count": 55,
      "outputs": [
        {
          "output_type": "display_data",
          "data": {
            "text/plain": [
              "<Figure size 432x288 with 1 Axes>"
            ],
            "image/png": "[encoded data removed]"
          },
          "metadata": {
            "needs_background": "light"
          }
        }
      ]
    },
    {
      "cell_type": "code",
      "source": [
        "dataset = dataset[dataset['Lost Reason']<17]"
      ],
      "metadata": {
        "id": "Sj8qdsRmvv3m"
      },
      "execution_count": 56,
      "outputs": []
    },
    {
      "cell_type": "code",
      "source": [
        "sns.boxplot(dataset['Lost Reason'])\n",
        "plt.show()"
      ],
      "metadata": {
        "colab": {
          "base_uri": "https://localhost:8080/",
          "height": 279
        },
        "id": "fFjqsybGv16x",
        "outputId": "8862365c-1255-409f-ac9e-d4908808b0ca"
      },
      "execution_count": 57,
      "outputs": [
        {
          "output_type": "display_data",
          "data": {
            "text/plain": [
              "<Figure size 432x288 with 1 Axes>"
            ],
            "image/png": "[encoded data removed]"
          },
          "metadata": {
            "needs_background": "light"
          }
        }
      ]
    },
    {
      "cell_type": "markdown",
      "source": [
        "#Data Spliting into independent and dependent variable."
      ],
      "metadata": {
        "id": "97SjATB_v5tM"
      }
    },
    {
      "cell_type": "markdown",
      "source": [
        "####Independent Variable"
      ],
      "metadata": {
        "id": "WVRtAWHSwBt7"
      }
    },
    {
      "cell_type": "code",
      "source": [
        "X = dataset.drop(['Agent_id','status','lead_id'],axis=1)"
      ],
      "metadata": {
        "id": "W29cqQ5tv-wg"
      },
      "execution_count": 59,
      "outputs": []
    },
    {
      "cell_type": "code",
      "source": [
        "X"
      ],
      "metadata": {
        "colab": {
          "base_uri": "https://localhost:8080/",
          "height": 423
        },
        "id": "gRJJIuU-weGO",
        "outputId": "b93ca470-b857-4cad-91d8-1c4611b0701e"
      },
      "execution_count": 60,
      "outputs": [
        {
          "output_type": "execute_result",
          "data": {
            "text/plain": [
              "       budget  lease  duration  Room Type  Lost Reason\n",
              "0           0      0         0          0           -1\n",
              "1           0      0         0          0            1\n",
              "2         121     40       163          1           -1\n",
              "3           0      0         0          0            1\n",
              "4           0      0         0          0            2\n",
              "...       ...    ...       ...        ...          ...\n",
              "46599      60     20       163          2            6\n",
              "46600       0      0         0          0           13\n",
              "46601       0      0       164          0            6\n",
              "46602     121      0       144          2            3\n",
              "46606       0      0       164          0            6\n",
              "\n",
              "[37849 rows x 5 columns]"
            ],
            "text/html": [
              "\n",
              "  <div id=\"df-b8c85134-35a9-46f7-b19a-709952ce52f0\">\n",
              "    <div class=\"colab-df-container\">\n",
              "      <div>\n",
              "<style scoped>\n",
              "    .dataframe tbody tr th:only-of-type {\n",
              "        vertical-align: middle;\n",
              "    }\n",
              "\n",
              "    .dataframe tbody tr th {\n",
              "        vertical-align: top;\n",
              "    }\n",
              "\n",
              "    .dataframe thead th {\n",
              "        text-align: right;\n",
              "    }\n",
              "</style>\n",
              "<table border=\"1\" class=\"dataframe\">\n",
              "  <thead>\n",
              "    <tr style=\"text-align: right;\">\n",
              "      <th></th>\n",
              "      <th>budget</th>\n",
              "      <th>lease</th>\n",
              "      <th>duration</th>\n",
              "      <th>Room Type</th>\n",
              "      <th>Lost Reason</th>\n",
              "    </tr>\n",
              "  </thead>\n",
              "  <tbody>\n",
              "    <tr>\n",
              "      <th>0</th>\n",
              "      <td>0</td>\n",
              "      <td>0</td>\n",
              "      <td>0</td>\n",
              "      <td>0</td>\n",
              "      <td>-1</td>\n",
              "    </tr>\n",
              "    <tr>\n",
              "      <th>1</th>\n",
              "      <td>0</td>\n",
              "      <td>0</td>\n",
              "      <td>0</td>\n",
              "      <td>0</td>\n",
              "      <td>1</td>\n",
              "    </tr>\n",
              "    <tr>\n",
              "      <th>2</th>\n",
              "      <td>121</td>\n",
              "      <td>40</td>\n",
              "      <td>163</td>\n",
              "      <td>1</td>\n",
              "      <td>-1</td>\n",
              "    </tr>\n",
              "    <tr>\n",
              "      <th>3</th>\n",
              "      <td>0</td>\n",
              "      <td>0</td>\n",
              "      <td>0</td>\n",
              "      <td>0</td>\n",
              "      <td>1</td>\n",
              "    </tr>\n",
              "    <tr>\n",
              "      <th>4</th>\n",
              "      <td>0</td>\n",
              "      <td>0</td>\n",
              "      <td>0</td>\n",
              "      <td>0</td>\n",
              "      <td>2</td>\n",
              "    </tr>\n",
              "    <tr>\n",
              "      <th>...</th>\n",
              "      <td>...</td>\n",
              "      <td>...</td>\n",
              "      <td>...</td>\n",
              "      <td>...</td>\n",
              "      <td>...</td>\n",
              "    </tr>\n",
              "    <tr>\n",
              "      <th>46599</th>\n",
              "      <td>60</td>\n",
              "      <td>20</td>\n",
              "      <td>163</td>\n",
              "      <td>2</td>\n",
              "      <td>6</td>\n",
              "    </tr>\n",
              "    <tr>\n",
              "      <th>46600</th>\n",
              "      <td>0</td>\n",
              "      <td>0</td>\n",
              "      <td>0</td>\n",
              "      <td>0</td>\n",
              "      <td>13</td>\n",
              "    </tr>\n",
              "    <tr>\n",
              "      <th>46601</th>\n",
              "      <td>0</td>\n",
              "      <td>0</td>\n",
              "      <td>164</td>\n",
              "      <td>0</td>\n",
              "      <td>6</td>\n",
              "    </tr>\n",
              "    <tr>\n",
              "      <th>46602</th>\n",
              "      <td>121</td>\n",
              "      <td>0</td>\n",
              "      <td>144</td>\n",
              "      <td>2</td>\n",
              "      <td>3</td>\n",
              "    </tr>\n",
              "    <tr>\n",
              "      <th>46606</th>\n",
              "      <td>0</td>\n",
              "      <td>0</td>\n",
              "      <td>164</td>\n",
              "      <td>0</td>\n",
              "      <td>6</td>\n",
              "    </tr>\n",
              "  </tbody>\n",
              "</table>\n",
              "<p>37849 rows × 5 columns</p>\n",
              "</div>\n",
              "      <button class=\"colab-df-convert\" onclick=\"convertToInteractive('df-b8c85134-35a9-46f7-b19a-709952ce52f0')\"\n",
              "              title=\"Convert this dataframe to an interactive table.\"\n",
              "              style=\"display:none;\">\n",
              "        \n",
              "  <svg xmlns=\"http://www.w3.org/2000/svg\" height=\"24px\"viewBox=\"0 0 24 24\"\n",
              "       width=\"24px\">\n",
              "    <path d=\"M0 0h24v24H0V0z\" fill=\"none\"/>\n",
              "    <path d=\"M18.56 5.44l.94 2.06.94-2.06 2.06-.94-2.06-.94-.94-2.06-.94 2.06-2.06.94zm-11 1L8.5 8.5l.94-2.06 2.06-.94-2.06-.94L8.5 2.5l-.94 2.06-2.06.94zm10 10l.94 2.06.94-2.06 2.06-.94-2.06-.94-.94-2.06-.94 2.06-2.06.94z\"/><path d=\"M17.41 7.96l-1.37-1.37c-.4-.4-.92-.59-1.43-.59-.52 0-1.04.2-1.43.59L10.3 9.45l-7.72 7.72c-.78.78-.78 2.05 0 2.83L4 21.41c.39.39.9.59 1.41.59.51 0 1.02-.2 1.41-.59l7.78-7.78 2.81-2.81c.8-.78.8-2.07 0-2.86zM5.41 20L4 18.59l7.72-7.72 1.47 1.35L5.41 20z\"/>\n",
              "  </svg>\n",
              "      </button>\n",
              "      \n",
              "  <style>\n",
              "    .colab-df-container {\n",
              "      display:flex;\n",
              "      flex-wrap:wrap;\n",
              "      gap: 12px;\n",
              "    }\n",
              "\n",
              "    .colab-df-convert {\n",
              "      background-color: #E8F0FE;\n",
              "      border: none;\n",
              "      border-radius: 50%;\n",
              "      cursor: pointer;\n",
              "      display: none;\n",
              "      fill: #1967D2;\n",
              "      height: 32px;\n",
              "      padding: 0 0 0 0;\n",
              "      width: 32px;\n",
              "    }\n",
              "\n",
              "    .colab-df-convert:hover {\n",
              "      background-color: #E2EBFA;\n",
              "      box-shadow: 0px 1px 2px rgba(60, 64, 67, 0.3), 0px 1px 3px 1px rgba(60, 64, 67, 0.15);\n",
              "      fill: #174EA6;\n",
              "    }\n",
              "\n",
              "    [theme=dark] .colab-df-convert {\n",
              "      background-color: #3B4455;\n",
              "      fill: #D2E3FC;\n",
              "    }\n",
              "\n",
              "    [theme=dark] .colab-df-convert:hover {\n",
              "      background-color: #434B5C;\n",
              "      box-shadow: 0px 1px 3px 1px rgba(0, 0, 0, 0.15);\n",
              "      filter: drop-shadow(0px 1px 2px rgba(0, 0, 0, 0.3));\n",
              "      fill: #FFFFFF;\n",
              "    }\n",
              "  </style>\n",
              "\n",
              "      <script>\n",
              "        const buttonEl =\n",
              "          document.querySelector('#df-b8c85134-35a9-46f7-b19a-709952ce52f0 button.colab-df-convert');\n",
              "        buttonEl.style.display =\n",
              "          google.colab.kernel.accessAllowed ? 'block' : 'none';\n",
              "\n",
              "        async function convertToInteractive(key) {\n",
              "          const element = document.querySelector('#df-b8c85134-35a9-46f7-b19a-709952ce52f0');\n",
              "          const dataTable =\n",
              "            await google.colab.kernel.invokeFunction('convertToInteractive',\n",
              "                                                     [key], {});\n",
              "          if (!dataTable) return;\n",
              "\n",
              "          const docLinkHtml = 'Like what you see? Visit the ' +\n",
              "            '<a target=\"_blank\" href=https://colab.research.google.com/notebooks/data_table.ipynb>data table notebook</a>'\n",
              "            + ' to learn more about interactive tables.';\n",
              "          element.innerHTML = '';\n",
              "          dataTable['output_type'] = 'display_data';\n",
              "          await google.colab.output.renderOutput(dataTable, element);\n",
              "          const docLink = document.createElement('div');\n",
              "          docLink.innerHTML = docLinkHtml;\n",
              "          element.appendChild(docLink);\n",
              "        }\n",
              "      </script>\n",
              "    </div>\n",
              "  </div>\n",
              "  "
            ]
          },
          "metadata": {},
          "execution_count": 60
        }
      ]
    },
    {
      "cell_type": "markdown",
      "source": [
        "####Dependent variable"
      ],
      "metadata": {
        "id": "KFVuTdnewutN"
      }
    },
    {
      "cell_type": "code",
      "source": [
        "y = dataset['status']\n",
        "y"
      ],
      "metadata": {
        "colab": {
          "base_uri": "https://localhost:8080/"
        },
        "id": "Y3n3Tc_UwzIf",
        "outputId": "79ad2b86-7e7e-4326-e37f-597c5aaaf252"
      },
      "execution_count": 61,
      "outputs": [
        {
          "output_type": "execute_result",
          "data": {
            "text/plain": [
              "0        0\n",
              "1        0\n",
              "2        0\n",
              "3        0\n",
              "4        0\n",
              "        ..\n",
              "46599    0\n",
              "46600    0\n",
              "46601    0\n",
              "46602    0\n",
              "46606    0\n",
              "Name: status, Length: 37849, dtype: int64"
            ]
          },
          "metadata": {},
          "execution_count": 61
        }
      ]
    },
    {
      "cell_type": "markdown",
      "source": [
        "####Scaling the independent variable"
      ],
      "metadata": {
        "id": "3GQZqjzexNOW"
      }
    },
    {
      "cell_type": "code",
      "source": [
        "from sklearn.preprocessing import StandardScaler\n",
        "sc = StandardScaler()\n",
        "X_scaled = sc.fit_transform(X)"
      ],
      "metadata": {
        "id": "TVrN4oToxR9Q"
      },
      "execution_count": 62,
      "outputs": []
    },
    {
      "cell_type": "markdown",
      "source": [
        "#Train Test Split"
      ],
      "metadata": {
        "id": "bXF-FOVBw5g5"
      }
    },
    {
      "cell_type": "markdown",
      "source": [
        "#### Splitting the data into train, test and validation\n",
        "#### Used 70-30 split for train and test data"
      ],
      "metadata": {
        "id": "4qHf02pdxc-P"
      }
    },
    {
      "cell_type": "code",
      "source": [
        "from sklearn.model_selection import train_test_split\n",
        "\n",
        "X_train,X_test,y_train,y_test = train_test_split(X_scaled,y,test_size=0.3,random_state=120)"
      ],
      "metadata": {
        "id": "yq3FTiwPw8at"
      },
      "execution_count": 63,
      "outputs": []
    },
    {
      "cell_type": "markdown",
      "source": [
        "#Model Development\n",
        "#### Creating Logistic Regression Model"
      ],
      "metadata": {
        "id": "I3sPMZvyxmfi"
      }
    },
    {
      "cell_type": "code",
      "source": [
        "from sklearn.linear_model import LogisticRegression\n",
        "\n",
        "lg_model = LogisticRegression()\n",
        "lg_model = lg_model.fit(X_train,y_train)\n",
        "\n",
        "y_test_pred = lg_model.predict(X_test)"
      ],
      "metadata": {
        "id": "s1cKAL10xsaj"
      },
      "execution_count": 64,
      "outputs": []
    },
    {
      "cell_type": "code",
      "source": [
        "y_test_prob = lg_model.predict_proba(X_test)"
      ],
      "metadata": {
        "id": "sIjZLmV8x5LF"
      },
      "execution_count": 65,
      "outputs": []
    },
    {
      "cell_type": "markdown",
      "source": [
        "####AUC Score for test."
      ],
      "metadata": {
        "id": "FfR16uLeyBBV"
      }
    },
    {
      "cell_type": "code",
      "source": [
        "from sklearn.metrics import confusion_matrix,roc_auc_score,log_loss,roc_curve,accuracy_score"
      ],
      "metadata": {
        "id": "drXvqMTiyCbJ"
      },
      "execution_count": 66,
      "outputs": []
    },
    {
      "cell_type": "code",
      "source": [
        "print('The train AUC score is:',roc_auc_score(y_test,y_test_prob[:,1]))"
      ],
      "metadata": {
        "colab": {
          "base_uri": "https://localhost:8080/"
        },
        "id": "7885P0sEyH-H",
        "outputId": "3c9a8fcc-4f44-4d14-a706-5894e037cc46"
      },
      "execution_count": 67,
      "outputs": [
        {
          "output_type": "stream",
          "name": "stdout",
          "text": [
            "The train AUC score is: 0.8424558497650236\n"
          ]
        }
      ]
    },
    {
      "cell_type": "markdown",
      "source": [
        "####AUC curve"
      ],
      "metadata": {
        "id": "lixDRN77ySHH"
      }
    },
    {
      "cell_type": "code",
      "source": [
        "# Plotting the AUC curve\n",
        "\n",
        "fpr, tpr, thresholds = roc_curve(y_test, y_test_prob[:,1])\n",
        "plt.plot(fpr,fpr)\n",
        "plt.plot(fpr,tpr)\n",
        "plt.grid()\n",
        "plt.title('Test ROC curve')\n",
        "plt.show()"
      ],
      "metadata": {
        "colab": {
          "base_uri": "https://localhost:8080/",
          "height": 281
        },
        "id": "Xg5IAJL-yQPt",
        "outputId": "d798653a-ff02-4fe1-eb0a-e87d31598dd3"
      },
      "execution_count": 68,
      "outputs": [
        {
          "output_type": "display_data",
          "data": {
            "text/plain": [
              "<Figure size 432x288 with 1 Axes>"
            ],
            "image/png": "[encoded data removed]"
          },
          "metadata": {
            "needs_background": "light"
          }
        }
      ]
    },
    {
      "cell_type": "markdown",
      "source": [
        "####Getting Confusion Matrix and plotting it"
      ],
      "metadata": {
        "id": "WV7NNYxIyZpr"
      }
    },
    {
      "cell_type": "code",
      "source": [
        "confusion_matrix(y_test,y_test_pred)"
      ],
      "metadata": {
        "colab": {
          "base_uri": "https://localhost:8080/"
        },
        "id": "r1o5ojakyoix",
        "outputId": "afb2ae43-cb89-4dfd-d932-414cdf77e3ba"
      },
      "execution_count": 70,
      "outputs": [
        {
          "output_type": "execute_result",
          "data": {
            "text/plain": [
              "array([[10565,     2],\n",
              "       [  787,     1]])"
            ]
          },
          "metadata": {},
          "execution_count": 70
        }
      ]
    },
    {
      "cell_type": "code",
      "source": [
        "sns.heatmap(confusion_matrix(y_test,y_test_pred),annot=True)\n",
        "plt.show()"
      ],
      "metadata": {
        "colab": {
          "base_uri": "https://localhost:8080/",
          "height": 265
        },
        "id": "E3q3tRE2ybEa",
        "outputId": "460a136c-005d-4907-a222-6f04316f5a30"
      },
      "execution_count": 69,
      "outputs": [
        {
          "output_type": "display_data",
          "data": {
            "text/plain": [
              "<Figure size 432x288 with 2 Axes>"
            ],
            "image/png": "[encoded data removed]"
          },
          "metadata": {
            "needs_background": "light"
          }
        }
      ]
    },
    {
      "cell_type": "markdown",
      "source": [
        "####Classification Report"
      ],
      "metadata": {
        "id": "ym5zCbawysir"
      }
    },
    {
      "cell_type": "code",
      "source": [
        "from sklearn.metrics import classification_report\n",
        "print('Test Classification Report\\n')\n",
        "print(classification_report(y_test,y_test_pred))"
      ],
      "metadata": {
        "colab": {
          "base_uri": "https://localhost:8080/"
        },
        "id": "OVbhQdmMyxrW",
        "outputId": "77a78060-842b-4a60-f589-c68e595f6109"
      },
      "execution_count": 71,
      "outputs": [
        {
          "output_type": "stream",
          "name": "stdout",
          "text": [
            "Test Classification Report\n",
            "\n",
            "              precision    recall  f1-score   support\n",
            "\n",
            "           0       0.93      1.00      0.96     10567\n",
            "           1       0.33      0.00      0.00       788\n",
            "\n",
            "    accuracy                           0.93     11355\n",
            "   macro avg       0.63      0.50      0.48     11355\n",
            "weighted avg       0.89      0.93      0.90     11355\n",
            "\n"
          ]
        }
      ]
    },
    {
      "cell_type": "markdown",
      "source": [
        "#### For 1s the f1 score is 0.\n",
        "\n",
        "#### Before computing the binary log loss, we need to perform caliberation"
      ],
      "metadata": {
        "id": "av0FUhVcy87R"
      }
    },
    {
      "cell_type": "code",
      "source": [
        "from sklearn.calibration import CalibratedClassifierCV\n",
        "model_isotonic = CalibratedClassifierCV(lg_model, cv=3, method='isotonic')\n",
        "model_isotonic.fit(X_train,y_train)"
      ],
      "metadata": {
        "colab": {
          "base_uri": "https://localhost:8080/"
        },
        "id": "XjpWke-yzCYC",
        "outputId": "ba4fb8a8-b0ba-4a09-9124-e1b3d621e141"
      },
      "execution_count": 72,
      "outputs": [
        {
          "output_type": "execute_result",
          "data": {
            "text/plain": [
              "CalibratedClassifierCV(base_estimator=LogisticRegression(), cv=3,\n",
              "                       method='isotonic')"
            ]
          },
          "metadata": {},
          "execution_count": 72
        }
      ]
    },
    {
      "cell_type": "code",
      "source": [
        "isotonic_predict_prob_test = model_isotonic.predict_proba(X_test)"
      ],
      "metadata": {
        "id": "PJhyMLvjzJQh"
      },
      "execution_count": 73,
      "outputs": []
    },
    {
      "cell_type": "code",
      "source": [
        "log_loss(y_test,isotonic_predict_prob_test)"
      ],
      "metadata": {
        "colab": {
          "base_uri": "https://localhost:8080/"
        },
        "id": "nO79_NpuzLub",
        "outputId": "69022b4e-6a51-4998-b90f-56328398bc2c"
      },
      "execution_count": 74,
      "outputs": [
        {
          "output_type": "execute_result",
          "data": {
            "text/plain": [
              "0.16442433121009936"
            ]
          },
          "metadata": {},
          "execution_count": 74
        }
      ]
    },
    {
      "cell_type": "markdown",
      "source": [
        "#SMOTE"
      ],
      "metadata": {
        "id": "bAiG_o0mzPnP"
      }
    },
    {
      "cell_type": "markdown",
      "source": [
        "####Applying SMOTE"
      ],
      "metadata": {
        "id": "Vz8f8Ye4zSmU"
      }
    },
    {
      "cell_type": "code",
      "source": [
        "from imblearn.over_sampling import SMOTE\n",
        "smote = SMOTE()\n",
        "X_train_sm,y_train_sm = smote.fit_resample(X_train,y_train)\n",
        "X_train_sm.shape, y_train_sm.shape"
      ],
      "metadata": {
        "colab": {
          "base_uri": "https://localhost:8080/"
        },
        "id": "eUD9QgXXzXf9",
        "outputId": "2d366010-bd49-4a35-a447-1fd2332f9d70"
      },
      "execution_count": 75,
      "outputs": [
        {
          "output_type": "execute_result",
          "data": {
            "text/plain": [
              "((49316, 5), (49316,))"
            ]
          },
          "metadata": {},
          "execution_count": 75
        }
      ]
    },
    {
      "cell_type": "markdown",
      "source": [
        "#### Creating model on SMOTE data"
      ],
      "metadata": {
        "id": "Yipf2xaBzidd"
      }
    },
    {
      "cell_type": "code",
      "source": [
        "lg_model1 = LogisticRegression(solver='liblinear',random_state=42)\n",
        "lg_model1.fit(X_train_sm,y_train_sm)"
      ],
      "metadata": {
        "colab": {
          "base_uri": "https://localhost:8080/"
        },
        "id": "NxtUeXBvzq4b",
        "outputId": "15d4ed6f-2d5a-4fa0-ebc8-7542bc981e7a"
      },
      "execution_count": 76,
      "outputs": [
        {
          "output_type": "execute_result",
          "data": {
            "text/plain": [
              "LogisticRegression(random_state=42, solver='liblinear')"
            ]
          },
          "metadata": {},
          "execution_count": 76
        }
      ]
    },
    {
      "cell_type": "code",
      "source": [
        "y_train_pred = lg_model1.predict(X_train_sm)\n",
        "y_test_pred = lg_model1.predict(X_test)\n",
        "y_train_prob = lg_model1.predict_proba(X_train_sm)\n",
        "y_test_prob = lg_model1.predict_proba(X_test)"
      ],
      "metadata": {
        "id": "5BA-Y3tvzrXo"
      },
      "execution_count": 77,
      "outputs": []
    },
    {
      "cell_type": "markdown",
      "source": [
        "#### Getting AUC score and ploting the AUC curve"
      ],
      "metadata": {
        "id": "bru98r8Lz4Vg"
      }
    },
    {
      "cell_type": "code",
      "source": [
        "print('The train AUC score is:',roc_auc_score(y_train_sm,y_train_prob[:,1]))\n",
        "print('The test AUC score is:',roc_auc_score(y_test,y_test_prob[:,1]))"
      ],
      "metadata": {
        "colab": {
          "base_uri": "https://localhost:8080/"
        },
        "id": "L_Lcucw1z7tG",
        "outputId": "07193e86-74ec-46ae-e8fd-9b2bb69bde21"
      },
      "execution_count": 78,
      "outputs": [
        {
          "output_type": "stream",
          "name": "stdout",
          "text": [
            "The train AUC score is: 0.8290937602852804\n",
            "The test AUC score is: 0.8308007065382652\n"
          ]
        }
      ]
    },
    {
      "cell_type": "code",
      "source": [
        "fpr, tpr, thresholds = roc_curve(y_test, y_test_prob[:,1])\n",
        "plt.plot(fpr,fpr)\n",
        "plt.plot(fpr,tpr)\n",
        "plt.grid()\n",
        "plt.title('Test ROC curve')\n",
        "plt.show()"
      ],
      "metadata": {
        "colab": {
          "base_uri": "https://localhost:8080/",
          "height": 281
        },
        "id": "NF6aHOZe0Dcq",
        "outputId": "f7efbc29-998a-4ff9-9d66-748e2208c296"
      },
      "execution_count": 79,
      "outputs": [
        {
          "output_type": "display_data",
          "data": {
            "text/plain": [
              "<Figure size 432x288 with 1 Axes>"
            ],
            "image/png": "[encoded data removed]"
          },
          "metadata": {
            "needs_background": "light"
          }
        }
      ]
    },
    {
      "cell_type": "markdown",
      "source": [
        "#### Getting Confusion Matrix and ploting it"
      ],
      "metadata": {
        "id": "NUSaoo5O0Kcw"
      }
    },
    {
      "cell_type": "code",
      "source": [
        "confusion_matrix(y_test,y_test_pred)"
      ],
      "metadata": {
        "colab": {
          "base_uri": "https://localhost:8080/"
        },
        "id": "tPZa5AQR0NG7",
        "outputId": "b5dc4468-2ca9-4ea6-c622-2d96e447a116"
      },
      "execution_count": 80,
      "outputs": [
        {
          "output_type": "execute_result",
          "data": {
            "text/plain": [
              "array([[7469, 3098],\n",
              "       [   0,  788]])"
            ]
          },
          "metadata": {},
          "execution_count": 80
        }
      ]
    },
    {
      "cell_type": "code",
      "source": [
        "sns.heatmap(confusion_matrix(y_test,y_test_pred),annot=True)\n",
        "plt.show()"
      ],
      "metadata": {
        "colab": {
          "base_uri": "https://localhost:8080/",
          "height": 265
        },
        "id": "1qQDR5320RJx",
        "outputId": "4d2273d0-9d69-4ca2-d546-4cfd8c18861d"
      },
      "execution_count": 81,
      "outputs": [
        {
          "output_type": "display_data",
          "data": {
            "text/plain": [
              "<Figure size 432x288 with 2 Axes>"
            ],
            "image/png": "[encoded data removed]"
          },
          "metadata": {
            "needs_background": "light"
          }
        }
      ]
    },
    {
      "cell_type": "markdown",
      "source": [
        "#### Getting Classification Report"
      ],
      "metadata": {
        "id": "nTVhtaDN0WDL"
      }
    },
    {
      "cell_type": "code",
      "source": [
        "from sklearn.metrics import classification_report\n",
        "print('Test Classification Report\\n')\n",
        "print(classification_report(y_test,y_test_pred))"
      ],
      "metadata": {
        "colab": {
          "base_uri": "https://localhost:8080/"
        },
        "id": "nejNuYBg0ZgW",
        "outputId": "f4ec3089-5dcc-46b1-9bcc-450718220fa2"
      },
      "execution_count": 82,
      "outputs": [
        {
          "output_type": "stream",
          "name": "stdout",
          "text": [
            "Test Classification Report\n",
            "\n",
            "              precision    recall  f1-score   support\n",
            "\n",
            "           0       1.00      0.71      0.83     10567\n",
            "           1       0.20      1.00      0.34       788\n",
            "\n",
            "    accuracy                           0.73     11355\n",
            "   macro avg       0.60      0.85      0.58     11355\n",
            "weighted avg       0.94      0.73      0.79     11355\n",
            "\n"
          ]
        }
      ]
    },
    {
      "cell_type": "markdown",
      "source": [
        "From Classification Report, we can say that f1 score for 1s has increased but the accuracy of the model is 73% which is good for a prediction model."
      ],
      "metadata": {
        "id": "7hvQ0lSy0klC"
      }
    },
    {
      "cell_type": "code",
      "source": [
        "from sklearn.calibration import CalibratedClassifierCV\n",
        "model_isotonic = CalibratedClassifierCV(lg_model1, cv=3, method='isotonic')\n",
        "model_isotonic.fit(X_train_sm,y_train_sm)"
      ],
      "metadata": {
        "colab": {
          "base_uri": "https://localhost:8080/"
        },
        "id": "fZyDFHrf0pJc",
        "outputId": "3842901a-2d4e-4e45-ca30-ccd84369306f"
      },
      "execution_count": 83,
      "outputs": [
        {
          "output_type": "execute_result",
          "data": {
            "text/plain": [
              "CalibratedClassifierCV(base_estimator=LogisticRegression(random_state=42,\n",
              "                                                         solver='liblinear'),\n",
              "                       cv=3, method='isotonic')"
            ]
          },
          "metadata": {},
          "execution_count": 83
        }
      ]
    },
    {
      "cell_type": "code",
      "source": [
        "isotonic_predict_prob_test = model_isotonic.predict_proba(X_test)"
      ],
      "metadata": {
        "id": "xlOk84gX0uVX"
      },
      "execution_count": 84,
      "outputs": []
    },
    {
      "cell_type": "code",
      "source": [
        "log_loss(y_test,isotonic_predict_prob_test)"
      ],
      "metadata": {
        "colab": {
          "base_uri": "https://localhost:8080/"
        },
        "id": "_QRiZnWE0xT1",
        "outputId": "6ce0a459-c00d-438b-f7b8-4e470467744b"
      },
      "execution_count": 85,
      "outputs": [
        {
          "output_type": "execute_result",
          "data": {
            "text/plain": [
              "0.3700802162685286"
            ]
          },
          "metadata": {},
          "execution_count": 85
        }
      ]
    },
    {
      "cell_type": "markdown",
      "source": [
        "As we can see that the log loss value for the model is .37 and which is good value for binary log loss as we expect low value of log loss for good prediction model.\n",
        "\n",
        "So we can conclude that out model after applying SMOTE on the data is providing better accuracy in prediction as from confusion matrix in the above we can see that we have better f1 score than the first matrix before applying SMOTE but still as a prediction model we prefer better accuracy than what we are getting from our model. For that we need better balanced data to create a better model."
      ],
      "metadata": {
        "id": "pEZUstfD0zX9"
      }
    }
  ]
}